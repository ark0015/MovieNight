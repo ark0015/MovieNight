{
 "cells": [
  {
   "cell_type": "code",
   "execution_count": 1,
   "metadata": {},
   "outputs": [],
   "source": [
    "%load_ext autoreload\n",
    "%autoreload 2"
   ]
  },
  {
   "cell_type": "code",
   "execution_count": 2,
   "metadata": {},
   "outputs": [],
   "source": [
    "import os,sys,copy\n",
    "import numpy as np\n",
    "import matplotlib as mpl\n",
    "import matplotlib.pyplot as plt\n",
    "from cycler import cycler\n",
    "import tensorflow as tf\n",
    "from tensorflow.keras import layers\n",
    "import seaborn\n",
    "import seaborn as sns\n",
    "import pandas as pd\n",
    "import datetime\n",
    "from imdb import IMDb\n",
    "from mediawikiapi import MediaWikiAPI\n",
    "from tqdm import tqdm"
   ]
  },
  {
   "cell_type": "code",
   "execution_count": 3,
   "metadata": {},
   "outputs": [],
   "source": [
    "color_cycle_wong = ['#000000','#E69F00','#CC79A7','#56B4E9','#009E73','#0072B2','#F0E442','#D55E00']\n",
    "Six_color_cycle = [\"#5790FC\", \"#F89C20\", \"#E42536\", \"#964A8B\", \"#9C9CA1\", \"#7A21DD\"]\n",
    "Eight_color_cycle = [\"#1845FB\", \"#FF5E02\", \"#C91F16\", \"#C849A9\", \"#ADAD7D\", \"#86C8DD\", \"#578DFF\", \"#656364\"]\n",
    "Ten_color_cycle = [\"#3F90DA\", \"#FFA90E\", \"#BD1F01\", \"#94A4A2\", \"#832DB6\", \"#A96B59\", \"#E76300\", \"#B9AC70\", \"#717581\", \"#92DADD\"]\n",
    "mpl.rcParams['axes.prop_cycle'] = cycler(color=Six_color_cycle)"
   ]
  },
  {
   "cell_type": "code",
   "execution_count": 4,
   "metadata": {},
   "outputs": [],
   "source": [
    "interesting_parameters = ['title','genres','year','languages','votes','runtimes','rating']"
   ]
  },
  {
   "cell_type": "code",
   "execution_count": 5,
   "metadata": {
    "scrolled": true
   },
   "outputs": [],
   "source": [
    "save_data_file = './Misc_Files/imdb_movie_selection_v1.npy'\n",
    "loaded_data = np.load(save_data_file,allow_pickle=True)\n",
    "movie_features = pd.DataFrame(loaded_data,columns=interesting_parameters)"
   ]
  },
  {
   "cell_type": "code",
   "execution_count": 6,
   "metadata": {},
   "outputs": [
    {
     "data": {
      "text/html": [
       "<div>\n",
       "<style scoped>\n",
       "    .dataframe tbody tr th:only-of-type {\n",
       "        vertical-align: middle;\n",
       "    }\n",
       "\n",
       "    .dataframe tbody tr th {\n",
       "        vertical-align: top;\n",
       "    }\n",
       "\n",
       "    .dataframe thead th {\n",
       "        text-align: right;\n",
       "    }\n",
       "</style>\n",
       "<table border=\"1\" class=\"dataframe\">\n",
       "  <thead>\n",
       "    <tr style=\"text-align: right;\">\n",
       "      <th></th>\n",
       "      <th>title</th>\n",
       "      <th>genres</th>\n",
       "      <th>year</th>\n",
       "      <th>languages</th>\n",
       "      <th>votes</th>\n",
       "      <th>runtimes</th>\n",
       "      <th>rating</th>\n",
       "    </tr>\n",
       "  </thead>\n",
       "  <tbody>\n",
       "    <tr>\n",
       "      <th>0</th>\n",
       "      <td>Tuscan Wedding</td>\n",
       "      <td>Comedy</td>\n",
       "      <td>2014</td>\n",
       "      <td>English</td>\n",
       "      <td>1790</td>\n",
       "      <td>104</td>\n",
       "      <td>5.2</td>\n",
       "    </tr>\n",
       "    <tr>\n",
       "      <th>1</th>\n",
       "      <td>The Four of the Apocalypse...</td>\n",
       "      <td>Fantasy</td>\n",
       "      <td>1975</td>\n",
       "      <td>Italian</td>\n",
       "      <td>2485</td>\n",
       "      <td>104</td>\n",
       "      <td>6.4</td>\n",
       "    </tr>\n",
       "    <tr>\n",
       "      <th>2</th>\n",
       "      <td>Knuckleball!</td>\n",
       "      <td>Documentary</td>\n",
       "      <td>2012</td>\n",
       "      <td>English</td>\n",
       "      <td>1686</td>\n",
       "      <td>93</td>\n",
       "      <td>7.1</td>\n",
       "    </tr>\n",
       "    <tr>\n",
       "      <th>3</th>\n",
       "      <td>The Farewell</td>\n",
       "      <td>Comedy</td>\n",
       "      <td>2019</td>\n",
       "      <td>Mandarin</td>\n",
       "      <td>56213</td>\n",
       "      <td>100</td>\n",
       "      <td>7.6</td>\n",
       "    </tr>\n",
       "    <tr>\n",
       "      <th>4</th>\n",
       "      <td>Johnny in the Clouds</td>\n",
       "      <td>Drama</td>\n",
       "      <td>1945</td>\n",
       "      <td>English</td>\n",
       "      <td>1441</td>\n",
       "      <td>109</td>\n",
       "      <td>7.3</td>\n",
       "    </tr>\n",
       "    <tr>\n",
       "      <th>...</th>\n",
       "      <td>...</td>\n",
       "      <td>...</td>\n",
       "      <td>...</td>\n",
       "      <td>...</td>\n",
       "      <td>...</td>\n",
       "      <td>...</td>\n",
       "      <td>...</td>\n",
       "    </tr>\n",
       "    <tr>\n",
       "      <th>5697</th>\n",
       "      <td>Summer Lovers</td>\n",
       "      <td>Comedy</td>\n",
       "      <td>1982</td>\n",
       "      <td>English</td>\n",
       "      <td>3971</td>\n",
       "      <td>98</td>\n",
       "      <td>5.7</td>\n",
       "    </tr>\n",
       "    <tr>\n",
       "      <th>5698</th>\n",
       "      <td>Matchstick Men</td>\n",
       "      <td>Comedy</td>\n",
       "      <td>2003</td>\n",
       "      <td>English</td>\n",
       "      <td>126764</td>\n",
       "      <td>116</td>\n",
       "      <td>7.3</td>\n",
       "    </tr>\n",
       "    <tr>\n",
       "      <th>5699</th>\n",
       "      <td>Sands of Iwo Jima</td>\n",
       "      <td>Action</td>\n",
       "      <td>1949</td>\n",
       "      <td>English</td>\n",
       "      <td>10065</td>\n",
       "      <td>100</td>\n",
       "      <td>7.1</td>\n",
       "    </tr>\n",
       "    <tr>\n",
       "      <th>5700</th>\n",
       "      <td>The Nutcracker</td>\n",
       "      <td>Family</td>\n",
       "      <td>1993</td>\n",
       "      <td>English</td>\n",
       "      <td>1968</td>\n",
       "      <td>92</td>\n",
       "      <td>5.8</td>\n",
       "    </tr>\n",
       "    <tr>\n",
       "      <th>5701</th>\n",
       "      <td>The Cassandra Crossing</td>\n",
       "      <td>Drama</td>\n",
       "      <td>1976</td>\n",
       "      <td>English</td>\n",
       "      <td>8407</td>\n",
       "      <td>129</td>\n",
       "      <td>6.4</td>\n",
       "    </tr>\n",
       "  </tbody>\n",
       "</table>\n",
       "<p>5702 rows × 7 columns</p>\n",
       "</div>"
      ],
      "text/plain": [
       "                              title       genres  year languages   votes  \\\n",
       "0                    Tuscan Wedding       Comedy  2014   English    1790   \n",
       "1     The Four of the Apocalypse...      Fantasy  1975   Italian    2485   \n",
       "2                      Knuckleball!  Documentary  2012   English    1686   \n",
       "3                      The Farewell       Comedy  2019  Mandarin   56213   \n",
       "4              Johnny in the Clouds        Drama  1945   English    1441   \n",
       "...                             ...          ...   ...       ...     ...   \n",
       "5697                  Summer Lovers       Comedy  1982   English    3971   \n",
       "5698                 Matchstick Men       Comedy  2003   English  126764   \n",
       "5699              Sands of Iwo Jima       Action  1949   English   10065   \n",
       "5700                 The Nutcracker       Family  1993   English    1968   \n",
       "5701         The Cassandra Crossing        Drama  1976   English    8407   \n",
       "\n",
       "     runtimes rating  \n",
       "0         104    5.2  \n",
       "1         104    6.4  \n",
       "2          93    7.1  \n",
       "3         100    7.6  \n",
       "4         109    7.3  \n",
       "...       ...    ...  \n",
       "5697       98    5.7  \n",
       "5698      116    7.3  \n",
       "5699      100    7.1  \n",
       "5700       92    5.8  \n",
       "5701      129    6.4  \n",
       "\n",
       "[5702 rows x 7 columns]"
      ]
     },
     "execution_count": 6,
     "metadata": {},
     "output_type": "execute_result"
    }
   ],
   "source": [
    "movie_features"
   ]
  },
  {
   "cell_type": "code",
   "execution_count": 7,
   "metadata": {},
   "outputs": [],
   "source": [
    "for name, column in movie_features.items():\n",
    "    if name in ['year','votes','runtimes','rating']:\n",
    "        movie_features[name] = movie_features[name].astype(float)\n",
    "    else:\n",
    "        movie_features[name] = movie_features[name].astype(str)"
   ]
  },
  {
   "cell_type": "code",
   "execution_count": 8,
   "metadata": {},
   "outputs": [
    {
     "data": {
      "text/html": [
       "<div>\n",
       "<style scoped>\n",
       "    .dataframe tbody tr th:only-of-type {\n",
       "        vertical-align: middle;\n",
       "    }\n",
       "\n",
       "    .dataframe tbody tr th {\n",
       "        vertical-align: top;\n",
       "    }\n",
       "\n",
       "    .dataframe thead th {\n",
       "        text-align: right;\n",
       "    }\n",
       "</style>\n",
       "<table border=\"1\" class=\"dataframe\">\n",
       "  <thead>\n",
       "    <tr style=\"text-align: right;\">\n",
       "      <th></th>\n",
       "      <th>title</th>\n",
       "      <th>genres</th>\n",
       "      <th>year</th>\n",
       "      <th>languages</th>\n",
       "      <th>votes</th>\n",
       "      <th>runtimes</th>\n",
       "      <th>rating</th>\n",
       "    </tr>\n",
       "  </thead>\n",
       "  <tbody>\n",
       "    <tr>\n",
       "      <th>0</th>\n",
       "      <td>Tuscan Wedding</td>\n",
       "      <td>Comedy</td>\n",
       "      <td>2014.0</td>\n",
       "      <td>English</td>\n",
       "      <td>1790.0</td>\n",
       "      <td>104.0</td>\n",
       "      <td>5.2</td>\n",
       "    </tr>\n",
       "    <tr>\n",
       "      <th>1</th>\n",
       "      <td>The Four of the Apocalypse...</td>\n",
       "      <td>Fantasy</td>\n",
       "      <td>1975.0</td>\n",
       "      <td>Italian</td>\n",
       "      <td>2485.0</td>\n",
       "      <td>104.0</td>\n",
       "      <td>6.4</td>\n",
       "    </tr>\n",
       "    <tr>\n",
       "      <th>2</th>\n",
       "      <td>Knuckleball!</td>\n",
       "      <td>Documentary</td>\n",
       "      <td>2012.0</td>\n",
       "      <td>English</td>\n",
       "      <td>1686.0</td>\n",
       "      <td>93.0</td>\n",
       "      <td>7.1</td>\n",
       "    </tr>\n",
       "    <tr>\n",
       "      <th>3</th>\n",
       "      <td>The Farewell</td>\n",
       "      <td>Comedy</td>\n",
       "      <td>2019.0</td>\n",
       "      <td>Mandarin</td>\n",
       "      <td>56213.0</td>\n",
       "      <td>100.0</td>\n",
       "      <td>7.6</td>\n",
       "    </tr>\n",
       "    <tr>\n",
       "      <th>4</th>\n",
       "      <td>Johnny in the Clouds</td>\n",
       "      <td>Drama</td>\n",
       "      <td>1945.0</td>\n",
       "      <td>English</td>\n",
       "      <td>1441.0</td>\n",
       "      <td>109.0</td>\n",
       "      <td>7.3</td>\n",
       "    </tr>\n",
       "    <tr>\n",
       "      <th>...</th>\n",
       "      <td>...</td>\n",
       "      <td>...</td>\n",
       "      <td>...</td>\n",
       "      <td>...</td>\n",
       "      <td>...</td>\n",
       "      <td>...</td>\n",
       "      <td>...</td>\n",
       "    </tr>\n",
       "    <tr>\n",
       "      <th>5697</th>\n",
       "      <td>Summer Lovers</td>\n",
       "      <td>Comedy</td>\n",
       "      <td>1982.0</td>\n",
       "      <td>English</td>\n",
       "      <td>3971.0</td>\n",
       "      <td>98.0</td>\n",
       "      <td>5.7</td>\n",
       "    </tr>\n",
       "    <tr>\n",
       "      <th>5698</th>\n",
       "      <td>Matchstick Men</td>\n",
       "      <td>Comedy</td>\n",
       "      <td>2003.0</td>\n",
       "      <td>English</td>\n",
       "      <td>126764.0</td>\n",
       "      <td>116.0</td>\n",
       "      <td>7.3</td>\n",
       "    </tr>\n",
       "    <tr>\n",
       "      <th>5699</th>\n",
       "      <td>Sands of Iwo Jima</td>\n",
       "      <td>Action</td>\n",
       "      <td>1949.0</td>\n",
       "      <td>English</td>\n",
       "      <td>10065.0</td>\n",
       "      <td>100.0</td>\n",
       "      <td>7.1</td>\n",
       "    </tr>\n",
       "    <tr>\n",
       "      <th>5700</th>\n",
       "      <td>The Nutcracker</td>\n",
       "      <td>Family</td>\n",
       "      <td>1993.0</td>\n",
       "      <td>English</td>\n",
       "      <td>1968.0</td>\n",
       "      <td>92.0</td>\n",
       "      <td>5.8</td>\n",
       "    </tr>\n",
       "    <tr>\n",
       "      <th>5701</th>\n",
       "      <td>The Cassandra Crossing</td>\n",
       "      <td>Drama</td>\n",
       "      <td>1976.0</td>\n",
       "      <td>English</td>\n",
       "      <td>8407.0</td>\n",
       "      <td>129.0</td>\n",
       "      <td>6.4</td>\n",
       "    </tr>\n",
       "  </tbody>\n",
       "</table>\n",
       "<p>5702 rows × 7 columns</p>\n",
       "</div>"
      ],
      "text/plain": [
       "                              title       genres    year languages     votes  \\\n",
       "0                    Tuscan Wedding       Comedy  2014.0   English    1790.0   \n",
       "1     The Four of the Apocalypse...      Fantasy  1975.0   Italian    2485.0   \n",
       "2                      Knuckleball!  Documentary  2012.0   English    1686.0   \n",
       "3                      The Farewell       Comedy  2019.0  Mandarin   56213.0   \n",
       "4              Johnny in the Clouds        Drama  1945.0   English    1441.0   \n",
       "...                             ...          ...     ...       ...       ...   \n",
       "5697                  Summer Lovers       Comedy  1982.0   English    3971.0   \n",
       "5698                 Matchstick Men       Comedy  2003.0   English  126764.0   \n",
       "5699              Sands of Iwo Jima       Action  1949.0   English   10065.0   \n",
       "5700                 The Nutcracker       Family  1993.0   English    1968.0   \n",
       "5701         The Cassandra Crossing        Drama  1976.0   English    8407.0   \n",
       "\n",
       "      runtimes  rating  \n",
       "0        104.0     5.2  \n",
       "1        104.0     6.4  \n",
       "2         93.0     7.1  \n",
       "3        100.0     7.6  \n",
       "4        109.0     7.3  \n",
       "...        ...     ...  \n",
       "5697      98.0     5.7  \n",
       "5698     116.0     7.3  \n",
       "5699     100.0     7.1  \n",
       "5700      92.0     5.8  \n",
       "5701     129.0     6.4  \n",
       "\n",
       "[5702 rows x 7 columns]"
      ]
     },
     "execution_count": 8,
     "metadata": {},
     "output_type": "execute_result"
    }
   ],
   "source": [
    "movie_features"
   ]
  },
  {
   "cell_type": "markdown",
   "metadata": {},
   "source": [
    "# Data Exploration"
   ]
  },
  {
   "cell_type": "code",
   "execution_count": 9,
   "metadata": {},
   "outputs": [
    {
     "data": {
      "text/plain": [
       "array([[<AxesSubplot:title={'center':'year'}>,\n",
       "        <AxesSubplot:title={'center':'votes'}>],\n",
       "       [<AxesSubplot:title={'center':'runtimes'}>,\n",
       "        <AxesSubplot:title={'center':'rating'}>]], dtype=object)"
      ]
     },
     "execution_count": 9,
     "metadata": {},
     "output_type": "execute_result"
    },
    {
     "data": {
      "image/png": "[encoded data removed]",
      "text/plain": [
       "<Figure size 432x288 with 4 Axes>"
      ]
     },
     "metadata": {
      "needs_background": "light"
     },
     "output_type": "display_data"
    }
   ],
   "source": [
    "pd.DataFrame.hist(movie_features)"
   ]
  },
  {
   "cell_type": "code",
   "execution_count": 10,
   "metadata": {},
   "outputs": [
    {
     "data": {
      "text/plain": [
       "Text(0.5, 1.0, 'imdb_score')"
      ]
     },
     "execution_count": 10,
     "metadata": {},
     "output_type": "execute_result"
    },
    {
     "data": {
      "image/png": "[encoded data removed]",
      "text/plain": [
       "<Figure size 432x288 with 1 Axes>"
      ]
     },
     "metadata": {
      "needs_background": "light"
     },
     "output_type": "display_data"
    }
   ],
   "source": [
    "movie_features['rating'].diff().hist()\n",
    "plt.title(\"imdb_score\")"
   ]
  },
  {
   "cell_type": "code",
   "execution_count": 11,
   "metadata": {},
   "outputs": [
    {
     "data": {
      "image/png": "[encoded data removed]",
      "text/plain": [
       "<Figure size 1800x360 with 1 Axes>"
      ]
     },
     "metadata": {
      "needs_background": "light"
     },
     "output_type": "display_data"
    }
   ],
   "source": [
    "#imdb score vs country\n",
    "df = movie_features[['languages','rating']]\n",
    "df.boxplot(by='languages',rot=45,figsize=(25,5))\n",
    "plt.show()"
   ]
  },
  {
   "cell_type": "code",
   "execution_count": 12,
   "metadata": {},
   "outputs": [
    {
     "data": {
      "text/plain": [
       "Index(['title', 'genres', 'year', 'languages', 'votes', 'runtimes', 'rating'], dtype='object')"
      ]
     },
     "execution_count": 12,
     "metadata": {},
     "output_type": "execute_result"
    }
   ],
   "source": [
    "movie_features.keys()"
   ]
  },
  {
   "cell_type": "code",
   "execution_count": 13,
   "metadata": {},
   "outputs": [
    {
     "data": {
      "image/png": "[encoded data removed]",
      "text/plain": [
       "<Figure size 1800x360 with 1 Axes>"
      ]
     },
     "metadata": {
      "needs_background": "light"
     },
     "output_type": "display_data"
    }
   ],
   "source": [
    "#imdb score vs country\n",
    "df = movie_features[['genres','rating']]\n",
    "df.boxplot(by='genres',rot=45,figsize=(25,5))\n",
    "plt.show()"
   ]
  },
  {
   "cell_type": "code",
   "execution_count": 14,
   "metadata": {},
   "outputs": [
    {
     "data": {
      "text/plain": [
       "<AxesSubplot:xlabel='year', ylabel='rating'>"
      ]
     },
     "execution_count": 14,
     "metadata": {},
     "output_type": "execute_result"
    },
    {
     "data": {
      "image/png": "[encoded data removed]",
      "text/plain": [
       "<Figure size 432x288 with 1 Axes>"
      ]
     },
     "metadata": {
      "needs_background": "light"
     },
     "output_type": "display_data"
    }
   ],
   "source": [
    "movie_features.plot.scatter('year','rating')"
   ]
  },
  {
   "cell_type": "code",
   "execution_count": 15,
   "metadata": {},
   "outputs": [
    {
     "data": {
      "image/png": "[encoded data removed]",
      "text/plain": [
       "<Figure size 432x288 with 1 Axes>"
      ]
     },
     "metadata": {
      "needs_background": "light"
     },
     "output_type": "display_data"
    }
   ],
   "source": [
    "movie_features.plot.scatter('votes','rating')\n",
    "plt.xscale('log')\n",
    "plt.show()"
   ]
  },
  {
   "cell_type": "code",
   "execution_count": 16,
   "metadata": {},
   "outputs": [
    {
     "data": {
      "image/png": "[encoded data removed]",
      "text/plain": [
       "<Figure size 432x288 with 1 Axes>"
      ]
     },
     "metadata": {
      "needs_background": "light"
     },
     "output_type": "display_data"
    }
   ],
   "source": [
    "movie_features.plot.scatter('runtimes','rating')\n",
    "plt.xscale('log')\n",
    "plt.show()"
   ]
  },
  {
   "cell_type": "code",
   "execution_count": 17,
   "metadata": {},
   "outputs": [
    {
     "name": "stderr",
     "output_type": "stream",
     "text": [
      "<ipython-input-17-f68ea7640d8d>:1: FutureWarning: The default value of numeric_only in DataFrame.corr is deprecated. In a future version, it will default to False. Select only valid columns or specify the value of numeric_only to silence this warning.\n",
      "  seaborn.heatmap(movie_features.corr())\n"
     ]
    },
    {
     "data": {
      "text/plain": [
       "<AxesSubplot:>"
      ]
     },
     "execution_count": 17,
     "metadata": {},
     "output_type": "execute_result"
    },
    {
     "data": {
      "image/png": "[encoded data removed]",
      "text/plain": [
       "<Figure size 432x288 with 2 Axes>"
      ]
     },
     "metadata": {
      "needs_background": "light"
     },
     "output_type": "display_data"
    }
   ],
   "source": [
    "seaborn.heatmap(movie_features.corr())"
   ]
  },
  {
   "cell_type": "code",
   "execution_count": 18,
   "metadata": {},
   "outputs": [],
   "source": [
    "data = copy.deepcopy(movie_features)"
   ]
  },
  {
   "cell_type": "code",
   "execution_count": 19,
   "metadata": {},
   "outputs": [],
   "source": [
    "for dk in data.keys():\n",
    "    if isinstance(data[dk][0],str):\n",
    "        uniques = np.unique(data[dk])\n",
    "        mapping = {}\n",
    "        i = 0\n",
    "        for uni in uniques:\n",
    "            mapping[uni] = i\n",
    "            i +=1\n",
    "        data[dk] = data[dk].map(mapping)"
   ]
  },
  {
   "cell_type": "code",
   "execution_count": 20,
   "metadata": {},
   "outputs": [
    {
     "data": {
      "text/html": [
       "<div>\n",
       "<style scoped>\n",
       "    .dataframe tbody tr th:only-of-type {\n",
       "        vertical-align: middle;\n",
       "    }\n",
       "\n",
       "    .dataframe tbody tr th {\n",
       "        vertical-align: top;\n",
       "    }\n",
       "\n",
       "    .dataframe thead th {\n",
       "        text-align: right;\n",
       "    }\n",
       "</style>\n",
       "<table border=\"1\" class=\"dataframe\">\n",
       "  <thead>\n",
       "    <tr style=\"text-align: right;\">\n",
       "      <th></th>\n",
       "      <th>title</th>\n",
       "      <th>genres</th>\n",
       "      <th>year</th>\n",
       "      <th>languages</th>\n",
       "      <th>votes</th>\n",
       "      <th>runtimes</th>\n",
       "      <th>rating</th>\n",
       "    </tr>\n",
       "  </thead>\n",
       "  <tbody>\n",
       "    <tr>\n",
       "      <th>0</th>\n",
       "      <td>4225</td>\n",
       "      <td>5</td>\n",
       "      <td>2014.0</td>\n",
       "      <td>17</td>\n",
       "      <td>1790.0</td>\n",
       "      <td>104.0</td>\n",
       "      <td>5.2</td>\n",
       "    </tr>\n",
       "    <tr>\n",
       "      <th>1</th>\n",
       "      <td>3432</td>\n",
       "      <td>10</td>\n",
       "      <td>1975.0</td>\n",
       "      <td>33</td>\n",
       "      <td>2485.0</td>\n",
       "      <td>104.0</td>\n",
       "      <td>6.4</td>\n",
       "    </tr>\n",
       "    <tr>\n",
       "      <th>2</th>\n",
       "      <td>1645</td>\n",
       "      <td>7</td>\n",
       "      <td>2012.0</td>\n",
       "      <td>17</td>\n",
       "      <td>1686.0</td>\n",
       "      <td>93.0</td>\n",
       "      <td>7.1</td>\n",
       "    </tr>\n",
       "    <tr>\n",
       "      <th>3</th>\n",
       "      <td>3411</td>\n",
       "      <td>5</td>\n",
       "      <td>2019.0</td>\n",
       "      <td>44</td>\n",
       "      <td>56213.0</td>\n",
       "      <td>100.0</td>\n",
       "      <td>7.6</td>\n",
       "    </tr>\n",
       "    <tr>\n",
       "      <th>4</th>\n",
       "      <td>1494</td>\n",
       "      <td>8</td>\n",
       "      <td>1945.0</td>\n",
       "      <td>17</td>\n",
       "      <td>1441.0</td>\n",
       "      <td>109.0</td>\n",
       "      <td>7.3</td>\n",
       "    </tr>\n",
       "    <tr>\n",
       "      <th>...</th>\n",
       "      <td>...</td>\n",
       "      <td>...</td>\n",
       "      <td>...</td>\n",
       "      <td>...</td>\n",
       "      <td>...</td>\n",
       "      <td>...</td>\n",
       "      <td>...</td>\n",
       "    </tr>\n",
       "    <tr>\n",
       "      <th>5697</th>\n",
       "      <td>3060</td>\n",
       "      <td>5</td>\n",
       "      <td>1982.0</td>\n",
       "      <td>17</td>\n",
       "      <td>3971.0</td>\n",
       "      <td>98.0</td>\n",
       "      <td>5.7</td>\n",
       "    </tr>\n",
       "    <tr>\n",
       "      <th>5698</th>\n",
       "      <td>1786</td>\n",
       "      <td>5</td>\n",
       "      <td>2003.0</td>\n",
       "      <td>17</td>\n",
       "      <td>126764.0</td>\n",
       "      <td>116.0</td>\n",
       "      <td>7.3</td>\n",
       "    </tr>\n",
       "    <tr>\n",
       "      <th>5699</th>\n",
       "      <td>2722</td>\n",
       "      <td>0</td>\n",
       "      <td>1949.0</td>\n",
       "      <td>17</td>\n",
       "      <td>10065.0</td>\n",
       "      <td>100.0</td>\n",
       "      <td>7.1</td>\n",
       "    </tr>\n",
       "    <tr>\n",
       "      <th>5700</th>\n",
       "      <td>3635</td>\n",
       "      <td>9</td>\n",
       "      <td>1993.0</td>\n",
       "      <td>17</td>\n",
       "      <td>1968.0</td>\n",
       "      <td>92.0</td>\n",
       "      <td>5.8</td>\n",
       "    </tr>\n",
       "    <tr>\n",
       "      <th>5701</th>\n",
       "      <td>3279</td>\n",
       "      <td>8</td>\n",
       "      <td>1976.0</td>\n",
       "      <td>17</td>\n",
       "      <td>8407.0</td>\n",
       "      <td>129.0</td>\n",
       "      <td>6.4</td>\n",
       "    </tr>\n",
       "  </tbody>\n",
       "</table>\n",
       "<p>5702 rows × 7 columns</p>\n",
       "</div>"
      ],
      "text/plain": [
       "      title  genres    year  languages     votes  runtimes  rating\n",
       "0      4225       5  2014.0         17    1790.0     104.0     5.2\n",
       "1      3432      10  1975.0         33    2485.0     104.0     6.4\n",
       "2      1645       7  2012.0         17    1686.0      93.0     7.1\n",
       "3      3411       5  2019.0         44   56213.0     100.0     7.6\n",
       "4      1494       8  1945.0         17    1441.0     109.0     7.3\n",
       "...     ...     ...     ...        ...       ...       ...     ...\n",
       "5697   3060       5  1982.0         17    3971.0      98.0     5.7\n",
       "5698   1786       5  2003.0         17  126764.0     116.0     7.3\n",
       "5699   2722       0  1949.0         17   10065.0     100.0     7.1\n",
       "5700   3635       9  1993.0         17    1968.0      92.0     5.8\n",
       "5701   3279       8  1976.0         17    8407.0     129.0     6.4\n",
       "\n",
       "[5702 rows x 7 columns]"
      ]
     },
     "execution_count": 20,
     "metadata": {},
     "output_type": "execute_result"
    }
   ],
   "source": [
    "data"
   ]
  },
  {
   "cell_type": "code",
   "execution_count": 21,
   "metadata": {},
   "outputs": [],
   "source": [
    "movie_labels = movie_features.pop('rating')"
   ]
  },
  {
   "cell_type": "markdown",
   "metadata": {},
   "source": [
    "From this tutorial: https://www.tensorflow.org/tutorials/load_data/csv"
   ]
  },
  {
   "cell_type": "code",
   "execution_count": 22,
   "metadata": {},
   "outputs": [
    {
     "data": {
      "text/html": [
       "<div>\n",
       "<style scoped>\n",
       "    .dataframe tbody tr th:only-of-type {\n",
       "        vertical-align: middle;\n",
       "    }\n",
       "\n",
       "    .dataframe tbody tr th {\n",
       "        vertical-align: top;\n",
       "    }\n",
       "\n",
       "    .dataframe thead th {\n",
       "        text-align: right;\n",
       "    }\n",
       "</style>\n",
       "<table border=\"1\" class=\"dataframe\">\n",
       "  <thead>\n",
       "    <tr style=\"text-align: right;\">\n",
       "      <th></th>\n",
       "      <th>title</th>\n",
       "      <th>genres</th>\n",
       "      <th>year</th>\n",
       "      <th>languages</th>\n",
       "      <th>votes</th>\n",
       "      <th>runtimes</th>\n",
       "    </tr>\n",
       "  </thead>\n",
       "  <tbody>\n",
       "    <tr>\n",
       "      <th>0</th>\n",
       "      <td>Tuscan Wedding</td>\n",
       "      <td>Comedy</td>\n",
       "      <td>2014.0</td>\n",
       "      <td>English</td>\n",
       "      <td>1790.0</td>\n",
       "      <td>104.0</td>\n",
       "    </tr>\n",
       "    <tr>\n",
       "      <th>1</th>\n",
       "      <td>The Four of the Apocalypse...</td>\n",
       "      <td>Fantasy</td>\n",
       "      <td>1975.0</td>\n",
       "      <td>Italian</td>\n",
       "      <td>2485.0</td>\n",
       "      <td>104.0</td>\n",
       "    </tr>\n",
       "    <tr>\n",
       "      <th>2</th>\n",
       "      <td>Knuckleball!</td>\n",
       "      <td>Documentary</td>\n",
       "      <td>2012.0</td>\n",
       "      <td>English</td>\n",
       "      <td>1686.0</td>\n",
       "      <td>93.0</td>\n",
       "    </tr>\n",
       "    <tr>\n",
       "      <th>3</th>\n",
       "      <td>The Farewell</td>\n",
       "      <td>Comedy</td>\n",
       "      <td>2019.0</td>\n",
       "      <td>Mandarin</td>\n",
       "      <td>56213.0</td>\n",
       "      <td>100.0</td>\n",
       "    </tr>\n",
       "    <tr>\n",
       "      <th>4</th>\n",
       "      <td>Johnny in the Clouds</td>\n",
       "      <td>Drama</td>\n",
       "      <td>1945.0</td>\n",
       "      <td>English</td>\n",
       "      <td>1441.0</td>\n",
       "      <td>109.0</td>\n",
       "    </tr>\n",
       "    <tr>\n",
       "      <th>...</th>\n",
       "      <td>...</td>\n",
       "      <td>...</td>\n",
       "      <td>...</td>\n",
       "      <td>...</td>\n",
       "      <td>...</td>\n",
       "      <td>...</td>\n",
       "    </tr>\n",
       "    <tr>\n",
       "      <th>5697</th>\n",
       "      <td>Summer Lovers</td>\n",
       "      <td>Comedy</td>\n",
       "      <td>1982.0</td>\n",
       "      <td>English</td>\n",
       "      <td>3971.0</td>\n",
       "      <td>98.0</td>\n",
       "    </tr>\n",
       "    <tr>\n",
       "      <th>5698</th>\n",
       "      <td>Matchstick Men</td>\n",
       "      <td>Comedy</td>\n",
       "      <td>2003.0</td>\n",
       "      <td>English</td>\n",
       "      <td>126764.0</td>\n",
       "      <td>116.0</td>\n",
       "    </tr>\n",
       "    <tr>\n",
       "      <th>5699</th>\n",
       "      <td>Sands of Iwo Jima</td>\n",
       "      <td>Action</td>\n",
       "      <td>1949.0</td>\n",
       "      <td>English</td>\n",
       "      <td>10065.0</td>\n",
       "      <td>100.0</td>\n",
       "    </tr>\n",
       "    <tr>\n",
       "      <th>5700</th>\n",
       "      <td>The Nutcracker</td>\n",
       "      <td>Family</td>\n",
       "      <td>1993.0</td>\n",
       "      <td>English</td>\n",
       "      <td>1968.0</td>\n",
       "      <td>92.0</td>\n",
       "    </tr>\n",
       "    <tr>\n",
       "      <th>5701</th>\n",
       "      <td>The Cassandra Crossing</td>\n",
       "      <td>Drama</td>\n",
       "      <td>1976.0</td>\n",
       "      <td>English</td>\n",
       "      <td>8407.0</td>\n",
       "      <td>129.0</td>\n",
       "    </tr>\n",
       "  </tbody>\n",
       "</table>\n",
       "<p>5702 rows × 6 columns</p>\n",
       "</div>"
      ],
      "text/plain": [
       "                              title       genres    year languages     votes  \\\n",
       "0                    Tuscan Wedding       Comedy  2014.0   English    1790.0   \n",
       "1     The Four of the Apocalypse...      Fantasy  1975.0   Italian    2485.0   \n",
       "2                      Knuckleball!  Documentary  2012.0   English    1686.0   \n",
       "3                      The Farewell       Comedy  2019.0  Mandarin   56213.0   \n",
       "4              Johnny in the Clouds        Drama  1945.0   English    1441.0   \n",
       "...                             ...          ...     ...       ...       ...   \n",
       "5697                  Summer Lovers       Comedy  1982.0   English    3971.0   \n",
       "5698                 Matchstick Men       Comedy  2003.0   English  126764.0   \n",
       "5699              Sands of Iwo Jima       Action  1949.0   English   10065.0   \n",
       "5700                 The Nutcracker       Family  1993.0   English    1968.0   \n",
       "5701         The Cassandra Crossing        Drama  1976.0   English    8407.0   \n",
       "\n",
       "      runtimes  \n",
       "0        104.0  \n",
       "1        104.0  \n",
       "2         93.0  \n",
       "3        100.0  \n",
       "4        109.0  \n",
       "...        ...  \n",
       "5697      98.0  \n",
       "5698     116.0  \n",
       "5699     100.0  \n",
       "5700      92.0  \n",
       "5701     129.0  \n",
       "\n",
       "[5702 rows x 6 columns]"
      ]
     },
     "execution_count": 22,
     "metadata": {},
     "output_type": "execute_result"
    }
   ],
   "source": [
    "movie_features"
   ]
  },
  {
   "cell_type": "code",
   "execution_count": 23,
   "metadata": {},
   "outputs": [
    {
     "data": {
      "text/plain": [
       "numpy.float64"
      ]
     },
     "execution_count": 23,
     "metadata": {},
     "output_type": "execute_result"
    }
   ],
   "source": [
    "type(movie_labels[0])"
   ]
  },
  {
   "cell_type": "code",
   "execution_count": 24,
   "metadata": {},
   "outputs": [
    {
     "data": {
      "text/plain": [
       "{'title': <KerasTensor: shape=(None, 1) dtype=string (created by layer 'title')>,\n",
       " 'genres': <KerasTensor: shape=(None, 1) dtype=string (created by layer 'genres')>,\n",
       " 'year': <KerasTensor: shape=(None, 1) dtype=float32 (created by layer 'year')>,\n",
       " 'languages': <KerasTensor: shape=(None, 1) dtype=string (created by layer 'languages')>,\n",
       " 'votes': <KerasTensor: shape=(None, 1) dtype=float32 (created by layer 'votes')>,\n",
       " 'runtimes': <KerasTensor: shape=(None, 1) dtype=float32 (created by layer 'runtimes')>}"
      ]
     },
     "execution_count": 24,
     "metadata": {},
     "output_type": "execute_result"
    }
   ],
   "source": [
    "innputs = {}\n",
    "\n",
    "for name, column in movie_features.items():\n",
    "    dtype = type(column[0])\n",
    "    if isinstance(column[0],str):\n",
    "        dtype = tf.string\n",
    "    else:\n",
    "        dtype = tf.float32\n",
    "\n",
    "    innputs[name] = tf.keras.Input(shape=(1,), name=name, dtype=dtype)\n",
    "\n",
    "innputs"
   ]
  },
  {
   "cell_type": "code",
   "execution_count": 25,
   "metadata": {},
   "outputs": [
    {
     "data": {
      "text/plain": [
       "<KerasTensor: shape=(None, 3) dtype=float32 (created by layer 'normalization')>"
      ]
     },
     "execution_count": 25,
     "metadata": {},
     "output_type": "execute_result"
    }
   ],
   "source": [
    "numeric_innputs = {name:innput for name,innput in innputs.items()\n",
    "                  if innput.dtype==tf.float32}\n",
    "\n",
    "x = layers.Concatenate()(list(numeric_innputs.values()))\n",
    "norm = layers.Normalization()\n",
    "norm.adapt(np.array(movie_features[numeric_innputs.keys()]))\n",
    "all_numeric_innputs = norm(x)\n",
    "\n",
    "all_numeric_innputs"
   ]
  },
  {
   "cell_type": "code",
   "execution_count": 26,
   "metadata": {},
   "outputs": [],
   "source": [
    "preprocessed_innputs = [all_numeric_innputs]"
   ]
  },
  {
   "cell_type": "code",
   "execution_count": 27,
   "metadata": {},
   "outputs": [],
   "source": [
    "for name, innput in innputs.items():\n",
    "    if innput.dtype == tf.float32:\n",
    "        continue\n",
    "\n",
    "    lookup = layers.StringLookup(vocabulary=np.unique(movie_features[name]))\n",
    "    one_hot = layers.CategoryEncoding(num_tokens=lookup.vocabulary_size())\n",
    "\n",
    "    x = lookup(innput)\n",
    "    x = one_hot(x)\n",
    "    preprocessed_innputs.append(x)"
   ]
  },
  {
   "cell_type": "code",
   "execution_count": 28,
   "metadata": {},
   "outputs": [
    {
     "name": "stdout",
     "output_type": "stream",
     "text": [
      "You must install pydot (`pip install pydot`) and install graphviz (see instructions at https://graphviz.gitlab.io/download/) for plot_model to work.\n"
     ]
    }
   ],
   "source": [
    "preprocessed_innputs_cat = layers.Concatenate()(preprocessed_innputs)\n",
    "\n",
    "movie_preprocessing = tf.keras.Model(innputs, preprocessed_innputs_cat)\n",
    "\n",
    "tf.keras.utils.plot_model(model = movie_preprocessing , rankdir=\"LR\", dpi=72, show_shapes=True)\n"
   ]
  },
  {
   "cell_type": "code",
   "execution_count": 29,
   "metadata": {},
   "outputs": [],
   "source": [
    "movie_features_dict = {name: np.array(value) \n",
    "                         for name, value in movie_features.items()}"
   ]
  },
  {
   "cell_type": "code",
   "execution_count": 30,
   "metadata": {},
   "outputs": [
    {
     "data": {
      "text/plain": [
       "<tf.Tensor: shape=(1, 4861), dtype=float32, numpy=\n",
       "array([[ 0.93865615, -0.33837774, -0.05587191, ...,  0.        ,\n",
       "         0.        ,  0.        ]], dtype=float32)>"
      ]
     },
     "execution_count": 30,
     "metadata": {},
     "output_type": "execute_result"
    }
   ],
   "source": [
    "features_dict = {name:values[:1] for name, values in movie_features_dict.items()}\n",
    "movie_preprocessing(features_dict)\n"
   ]
  },
  {
   "cell_type": "code",
   "execution_count": 34,
   "metadata": {},
   "outputs": [],
   "source": [
    "def movie_model(preprocessing_head, innputs):\n",
    "    body = tf.keras.Sequential([\n",
    "        layers.Dense(64),\n",
    "        layers.Dense(1)\n",
    "    ])\n",
    "\n",
    "    preprocessed_innputs = preprocessing_head(innputs)\n",
    "    result = body(preprocessed_innputs)\n",
    "    model = tf.keras.Model(innputs, result)\n",
    "\n",
    "    model.compile(loss=tf.keras.losses.MeanSquaredError(),\n",
    "                  optimizer='adam',\n",
    "                  #metrics=['accuracy']\n",
    "                 )\n",
    "    return model\n",
    "\n",
    "movie_model = movie_model(movie_preprocessing, innputs)"
   ]
  },
  {
   "cell_type": "code",
   "execution_count": 35,
   "metadata": {},
   "outputs": [
    {
     "name": "stdout",
     "output_type": "stream",
     "text": [
      "(None, 1) <dtype: 'string'>\n",
      "(None, 1) <dtype: 'string'>\n",
      "(None, 1) <dtype: 'float32'>\n",
      "(None, 1) <dtype: 'string'>\n",
      "(None, 1) <dtype: 'float32'>\n",
      "(None, 1) <dtype: 'float32'>\n",
      "(None, 1) <dtype: 'float32'>\n",
      "genres [(None, 1)] string\n",
      "languages [(None, 1)] string\n",
      "runtimes [(None, 1)] float32\n",
      "title [(None, 1)] string\n",
      "votes [(None, 1)] float32\n",
      "year [(None, 1)] float32\n",
      "model {'title': (None, 1), 'genres': (None, 1), 'year': (None, 1), 'languages': (None, 1), 'votes': (None, 1), 'runtimes': (None, 1)} float32\n",
      "sequential_1 (None, 4861) float32\n"
     ]
    },
    {
     "data": {
      "text/plain": [
       "[None, None, None, None, None, None, None, None]"
      ]
     },
     "execution_count": 35,
     "metadata": {},
     "output_type": "execute_result"
    }
   ],
   "source": [
    "[print(i.shape, i.dtype) for i in movie_model.inputs]\n",
    "[print(o.shape, o.dtype) for o in movie_model.outputs]\n",
    "[print(l.name, l.input_shape, l.dtype) for l in movie_model.layers]"
   ]
  },
  {
   "cell_type": "code",
   "execution_count": 36,
   "metadata": {},
   "outputs": [
    {
     "name": "stdout",
     "output_type": "stream",
     "text": [
      "Epoch 1/10\n",
      "179/179 [==============================] - 2s 6ms/step - loss: 13.6744\n",
      "Epoch 2/10\n",
      "179/179 [==============================] - 1s 5ms/step - loss: 0.9983\n",
      "Epoch 3/10\n",
      "179/179 [==============================] - 1s 5ms/step - loss: 0.6017\n",
      "Epoch 4/10\n",
      "179/179 [==============================] - 1s 5ms/step - loss: 0.4034\n",
      "Epoch 5/10\n",
      "179/179 [==============================] - 1s 5ms/step - loss: 0.2721\n",
      "Epoch 6/10\n",
      "179/179 [==============================] - 1s 5ms/step - loss: 0.1853\n",
      "Epoch 7/10\n",
      "179/179 [==============================] - 1s 5ms/step - loss: 0.1230\n",
      "Epoch 8/10\n",
      "179/179 [==============================] - 1s 5ms/step - loss: 0.0858\n",
      "Epoch 9/10\n",
      "179/179 [==============================] - 1s 5ms/step - loss: 0.0618\n",
      "Epoch 10/10\n",
      "179/179 [==============================] - 1s 5ms/step - loss: 0.0448\n"
     ]
    }
   ],
   "source": [
    "history = movie_model.fit(x=movie_features_dict, y=movie_labels, epochs=10)"
   ]
  },
  {
   "cell_type": "code",
   "execution_count": null,
   "metadata": {},
   "outputs": [],
   "source": [
    "from keras.wrappers.scikit_learn import KerasRegressor\n",
    "from keras.optimizers import SGD\n",
    "from sklearn.model_selection import cross_val_score\n",
    "from sklearn.model_selection import KFold"
   ]
  },
  {
   "cell_type": "code",
   "execution_count": null,
   "metadata": {},
   "outputs": [],
   "source": [
    "data.shape"
   ]
  },
  {
   "cell_type": "code",
   "execution_count": null,
   "metadata": {},
   "outputs": [],
   "source": [
    "X = data.iloc[:, 0:6].values\n",
    "Y = data.iloc[:, 6:7].values"
   ]
  },
  {
   "cell_type": "code",
   "execution_count": null,
   "metadata": {},
   "outputs": [],
   "source": [
    "def baseline_model(learn_rate=0.01, momentum=0):\n",
    "    # create model\n",
    "    model = tf.keras.Sequential()\n",
    "    model.add(layers.Dense(6, input_dim=6, kernel_initializer='normal', activation='relu'))\n",
    "    model.add(layers.Dense(1, kernel_initializer='normal', activation='relu'))\n",
    "    # compile model\n",
    "    optimizer = SGD(lr=learn_rate, momentum=momentum)\n",
    "    model.compile(loss='mean_absolute_error', optimizer='adam')\n",
    "    return model"
   ]
  },
  {
   "cell_type": "code",
   "execution_count": null,
   "metadata": {},
   "outputs": [],
   "source": [
    "#evaluate base model\n",
    "np.random.seed(42)\n",
    "#evaluate model with standardized dataset?\n",
    "estimator = KerasRegressor(build_fn=baseline_model, nb_epoch=10, batch_size=50, verbose=1)\n",
    "#using 10-fold cross validation to evaluate the model\n",
    "kfold = KFold(n_splits=10)\n",
    "results = cross_val_score(estimator, X, Y, cv=kfold)\n",
    "print(\"Results: %.2f (%.2f) MAE\" % (results.mean(), results.std()))"
   ]
  },
  {
   "cell_type": "code",
   "execution_count": null,
   "metadata": {},
   "outputs": [],
   "source": []
  }
 ],
 "metadata": {
  "kernelspec": {
   "display_name": "Python 3",
   "language": "python",
   "name": "python3"
  },
  "language_info": {
   "codemirror_mode": {
    "name": "ipython",
    "version": 3
   },
   "file_extension": ".py",
   "mimetype": "text/x-python",
   "name": "python",
   "nbconvert_exporter": "python",
   "pygments_lexer": "ipython3",
   "version": "3.8.12"
  }
 },
 "nbformat": 4,
 "nbformat_minor": 4
}
