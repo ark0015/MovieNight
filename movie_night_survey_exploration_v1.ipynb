{
 "cells": [
  {
   "cell_type": "code",
   "execution_count": 1,
   "metadata": {},
   "outputs": [],
   "source": [
    "%load_ext autoreload\n",
    "%autoreload 2"
   ]
  },
  {
   "cell_type": "code",
   "execution_count": null,
   "metadata": {},
   "outputs": [],
   "source": [
    "import numpy as np\n",
    "import matplotlib as mpl\n",
    "import matplotlib.pyplot as plt\n",
    "from cycler import cycler\n",
    "import tensorflow as tf\n",
    "import seaborn as sns\n",
    "import pandas\n",
    "import datetime\n",
    "from imdb import IMDb"
   ]
  },
  {
   "cell_type": "code",
   "execution_count": null,
   "metadata": {},
   "outputs": [],
   "source": [
    "color_cycle_wong = ['#000000','#E69F00','#CC79A7','#56B4E9','#009E73','#0072B2','#F0E442','#D55E00']\n",
    "Six_color_cycle = [\"#5790FC\", \"#F89C20\", \"#E42536\", \"#964A8B\", \"#9C9CA1\", \"#7A21DD\"]\n",
    "Eight_color_cycle = [\"#1845FB\", \"#FF5E02\", \"#C91F16\", \"#C849A9\", \"#ADAD7D\", \"#86C8DD\", \"#578DFF\", \"#656364\"]\n",
    "Ten_color_cycle = [\"#3F90DA\", \"#FFA90E\", \"#BD1F01\", \"#94A4A2\", \"#832DB6\", \"#A96B59\", \"#E76300\", \"#B9AC70\", \"#717581\", \"#92DADD\"]\n",
    "mpl.rcParams['axes.prop_cycle'] = cycler(color=Six_color_cycle)"
   ]
  },
  {
   "cell_type": "code",
   "execution_count": null,
   "metadata": {},
   "outputs": [],
   "source": [
    "movies = pandas.read_csv('./Misc_Files/movies.csv')\n",
    "votes = pandas.read_csv('./Misc_Files/results.csv')"
   ]
  },
  {
   "cell_type": "code",
   "execution_count": null,
   "metadata": {},
   "outputs": [],
   "source": [
    "people = np.loadtxt('./Movie_Surveys/people.txt',delimiter=',',dtype=str)\n",
    "print(people)\n",
    "people[7]"
   ]
  },
  {
   "cell_type": "code",
   "execution_count": null,
   "metadata": {},
   "outputs": [],
   "source": [
    "survey_results = {}\n",
    "for person in people:\n",
    "    survey_results[person] = pandas.read_csv('./Movie_Surveys/survey_{}_results.csv'.format(person))\n",
    "#survey_results = pandas.read_csv('./Movie_Surveys/survey_{}_results.csv'.format(people[7]))"
   ]
  },
  {
   "cell_type": "code",
   "execution_count": null,
   "metadata": {},
   "outputs": [],
   "source": [
    "error_movie_names = ['Whiplash (2015)','28 Days Later (2002)','Hotel Rwanda (2005)',\n",
    "                     'Dr. Sleep (2019)','Green Room (2016)','Chinatown (1975)','Akira (1998)',\n",
    "                     'The Godfather Pt. III (1990)','Blood Fest (2019)','Get Out (2016)']\n",
    "corrected_movie_names = ['Whiplash (2014)','28 Days Later... (2002)','Hotel Rwanda (2004)',\n",
    "                         'Doctor Sleep (2019)','Green Room (2015)','Chinatown (1974)','Akira (1988)',\n",
    "                        'The Godfather: Part III (1990)','Blood Fest (2018)','Get Out (2017)']"
   ]
  },
  {
   "cell_type": "code",
   "execution_count": null,
   "metadata": {},
   "outputs": [],
   "source": [
    "def get_movie_info(movie_name):\n",
    "    if movie_name in error_movie_names:\n",
    "        movie_name = corrected_movie_names[error_movie_names.index(movie_name)]\n",
    "    print(movie_name)\n",
    "    search_movie = ia.search_movie(movie_name)\n",
    "    if search_movie[0]['kind'] in ['movie','video movie'] or movie_name in ['Kung Fury (2015)','Lorena, Light-footed Woman (2019)']:\n",
    "        imdb_movie = ia.get_movie(search_movie[0].movieID)\n",
    "    else:\n",
    "        i=1\n",
    "        try:\n",
    "            while search_movie[i]['kind'] != 'movie':\n",
    "                print('next')\n",
    "                i+=1\n",
    "            print(i)\n",
    "            imdb_movie = ia.get_movie(search_movie[i].movieID)\n",
    "            print(imdb_movie['title'])\n",
    "        except:\n",
    "            print('')\n",
    "            print('Cant find movie',movie_name)\n",
    "            print('')\n",
    "            imdb_movie=movie_name\n",
    "    print('done.')\n",
    "    return imdb_movie"
   ]
  },
  {
   "cell_type": "code",
   "execution_count": null,
   "metadata": {},
   "outputs": [],
   "source": [
    "# create an instance of the IMDb class\n",
    "ia = IMDb()"
   ]
  },
  {
   "cell_type": "code",
   "execution_count": null,
   "metadata": {},
   "outputs": [],
   "source": [
    "perp=get_movie_info('Space Cop (2016)')\n",
    "perp['genre']"
   ]
  },
  {
   "cell_type": "code",
   "execution_count": null,
   "metadata": {},
   "outputs": [],
   "source": [
    "tmp = ia.search_movie('Space Cop (2016)')[0]\n",
    "burp = ia.get_movie(tmp.movieID)\n",
    "print(burp.current_info)\n",
    "print(burp['genre'])\n",
    "print(burp.keys())\n",
    "print(burp['kind'])"
   ]
  },
  {
   "cell_type": "code",
   "execution_count": null,
   "metadata": {},
   "outputs": [],
   "source": [
    "survey_results.keys()"
   ]
  },
  {
   "cell_type": "code",
   "execution_count": null,
   "metadata": {
    "scrolled": true
   },
   "outputs": [],
   "source": [
    "survey_results_dict = {}\n",
    "for name,survey_result in survey_results.items():\n",
    "    skip=True\n",
    "    for col, val in survey_result.items():\n",
    "        if isinstance(col,str) and not skip:\n",
    "            count = int(col)\n",
    "            if count%2 == 0:\n",
    "                for i,movie_name in enumerate(val):\n",
    "                    if survey_result['{}'.format(count+1)][i] != 0:\n",
    "                        if movie_name not in survey_results_dict.keys():\n",
    "                            survey_results_dict[movie_name] = {'votes':int(survey_result['{}'.format(count+1)][i]),\n",
    "                                                               'imdb_movie':get_movie_info(movie_name)}\n",
    "                        else:\n",
    "                            survey_results_dict[movie_name]['votes'] += int(survey_result['{}'.format(count+1)][i])\n",
    "        skip=False\n",
    "    print('------------')\n",
    "    print(name,'done.')\n",
    "    print('------------')"
   ]
  },
  {
   "cell_type": "code",
   "execution_count": null,
   "metadata": {
    "scrolled": true
   },
   "outputs": [],
   "source": [
    "tmp_votes= {}\n",
    "for key in survey_results_dict.keys():\n",
    "    if survey_results_dict[key]['votes'] > 5:\n",
    "        tmp_votes[key] = survey_results_dict[key]['votes']\n",
    "    \n",
    "most_voted = []\n",
    "for i,(mov,votes) in enumerate(sorted(tmp_votes.items(), key=lambda x: x[1], reverse=True)):\n",
    "    if i < 10:\n",
    "        gs = survey_results_dict[mov]['imdb_movie']['genres']\n",
    "        gs_len = np.floor(votes/len(gs))\n",
    "        sht_arr = [mov,votes]\n",
    "        for j,g in enumerate(gs):\n",
    "            if j == 0:\n",
    "                sht_arr += [g,gs_len+votes%len(gs)]\n",
    "            else:\n",
    "                sht_arr += [g,gs_len+sht_arr[len(sht_arr)-1]]\n",
    "        most_voted.append(sht_arr)\n",
    "print(most_voted)\n",
    "df_most_voted = pandas.DataFrame(data=most_voted,\n",
    "                                 columns=['Movies','Votes','Main Genre','div0',\n",
    "                                          'Subgenre 1','div1','Subgenre 2','div2','Subgenre 3','div3',\n",
    "                                          'Subgenre 4','div4','Subgenre 5','div5'])#,'Subgenre 6','div6'])\n",
    "df_most_voted"
   ]
  },
  {
   "cell_type": "code",
   "execution_count": null,
   "metadata": {},
   "outputs": [],
   "source": [
    "genres = {}\n",
    "for movie in survey_results_dict.keys():\n",
    "    if not isinstance(survey_results_dict[movie]['imdb_movie'],str):\n",
    "        for genre in survey_results_dict[movie]['imdb_movie']['genre']:\n",
    "            if genre not in genres:\n",
    "                genres[genre] = 1\n",
    "            else:\n",
    "                genres[genre] += 1\n",
    "\n",
    "sorted_genres = []\n",
    "for s_g,votes in sorted(genres.items(), key=lambda x: x[1], reverse=True):\n",
    "    sorted_genres.append([s_g,votes])\n",
    "df_sorted_genres = pandas.DataFrame(data=sorted_genres,columns=['Genres','Votes'])"
   ]
  },
  {
   "cell_type": "code",
   "execution_count": null,
   "metadata": {},
   "outputs": [],
   "source": [
    "print(sorted_genres)\n",
    "for i,sub in enumerate(sorted_genres):\n",
    "    if 'Drama' in sub:\n",
    "        print(sorted_genres[i][0])\n",
    "print([i for i,sub in enumerate(sorted_genres) if 'Crime' in sub])"
   ]
  },
  {
   "cell_type": "code",
   "execution_count": null,
   "metadata": {},
   "outputs": [],
   "source": [
    "plt.figure(figsize=(15,10))\n",
    "sns.barplot(x=\"Votes\", y=\"Genres\", data=df_sorted_genres,\n",
    "            label=\"Total\", color=\"b\",)\n",
    "plt.show()"
   ]
  },
  {
   "cell_type": "code",
   "execution_count": null,
   "metadata": {},
   "outputs": [],
   "source": [
    "f, ax = plt.subplots(figsize=(15,10))\n",
    "# Plot the crashes where alcohol was involved\n",
    "sns.set_color_codes(\"pastel\")\n",
    "sns.barplot(x=\"Votes\", y=\"Movies\", data=df_most_voted,color=\"b\")\n",
    "\n",
    "for div in range(5,-1,-1):\n",
    "    #print(df_most_voted['Main Genre'])\n",
    "    if div == 0:\n",
    "        for (i,d),g in zip(enumerate(df_most_voted['div{}'.format(div)]),df_most_voted['Main Genre']):\n",
    "            colour = [i for i,sub in enumerate(sorted_genres) if g in sub][0]\n",
    "            plt.text(d/2, i, g,  # x, y, text,\n",
    "                     ha='center', va='center',   # text alignment,\n",
    "                     transform=ax.transData,      # coordinate system transformation\n",
    "                     fontdict={'fontsize':14,'color':'C{}'.format(colour)})\n",
    "        sns.set_color_codes(\"muted\")\n",
    "        sns.barplot(x=\"div{}\".format(div), y=\"Movies\", data=df_most_voted,\n",
    "                    label=\"Main Genre\", color=\"C{}\".format(div+1))\n",
    "    else:\n",
    "        for (i,d),g in zip(enumerate(df_most_voted['div{}'.format(div)]),df_most_voted['Subgenre {}'.format(div)]):\n",
    "            text_x = df_most_voted['div{}'.format(div-1)][i]+(d - df_most_voted['div{}'.format(div-1)][i])/2\n",
    "            if not np.isnan(text_x):\n",
    "                colour = [i for i,sub in enumerate(sorted_genres) if g in sub][0]\n",
    "                plt.text(text_x, i, g,  # x, y, text,\n",
    "                         ha='center', va='center',   # text alignment,\n",
    "                         transform=ax.transData,      # coordinate system transformation\n",
    "                         fontdict={'fontsize':14,'color':'C{}'.format(colour)})\n",
    "        sns.barplot(x=\"div{}\".format(div), y=\"Movies\", data=df_most_voted,\n",
    "                    label=\"Subgenre {}\".format(div), color=\"C{}\".format(div+1))\n",
    "\n",
    "# Add a legend and informative axis label\n",
    "ax.legend(ncol=2, loc=\"lower right\", frameon=True)\n",
    "#ax.set(xlim=(0, 24), ylabel=\"\",\n",
    "#       xlabel=\"Automobile collisions per billion miles\")\n",
    "sns.despine(left=True, bottom=True)"
   ]
  },
  {
   "cell_type": "code",
   "execution_count": null,
   "metadata": {},
   "outputs": [],
   "source": [
    "morvie = sorted_votes[0][0]\n",
    "i = 0\n",
    "imdb_movie = ia.search_movie(morvie)[i]\n",
    "if 'movie' not in imdb_movie['kind']:\n",
    "    imdb_movie = ia.search_movie(morvie)[i+1]"
   ]
  },
  {
   "cell_type": "code",
   "execution_count": null,
   "metadata": {},
   "outputs": [],
   "source": [
    "print([blorp['kind'] for blorp in ia.search_movie(morvie)])"
   ]
  },
  {
   "cell_type": "code",
   "execution_count": null,
   "metadata": {},
   "outputs": [],
   "source": [
    "imdb_movie.keys()"
   ]
  },
  {
   "cell_type": "code",
   "execution_count": null,
   "metadata": {},
   "outputs": [],
   "source": [
    "imdb_movie.current_info"
   ]
  },
  {
   "cell_type": "code",
   "execution_count": null,
   "metadata": {},
   "outputs": [],
   "source": [
    "imdb_movie['year']"
   ]
  },
  {
   "cell_type": "markdown",
   "metadata": {},
   "source": [
    "# Tensor Flow Examples"
   ]
  },
  {
   "cell_type": "code",
   "execution_count": null,
   "metadata": {},
   "outputs": [],
   "source": [
    "celsius_q    = np.array([-40, -10,  0,  8, 15, 22,  38],  dtype=float)\n",
    "fahrenheit_a = np.array([-40,  14, 32, 46, 59, 72, 100],  dtype=float)\n",
    "l0 = tf.keras.layers.Dense(units=1, input_shape=[1]) \n",
    "model = tf.keras.Sequential([l0])\n",
    "model.compile(loss='mean_squared_error', optimizer=tf.keras.optimizers.Adam(0.1))\n",
    "model.summary()"
   ]
  },
  {
   "cell_type": "code",
   "execution_count": null,
   "metadata": {},
   "outputs": [],
   "source": [
    "tf.keras.utils.plot_model(model, show_shapes=True)"
   ]
  },
  {
   "cell_type": "code",
   "execution_count": null,
   "metadata": {},
   "outputs": [],
   "source": [
    "history = model.fit(celsius_q, fahrenheit_a, epochs=500, verbose=False)\n",
    "model.predict([100.0])"
   ]
  },
  {
   "cell_type": "code",
   "execution_count": null,
   "metadata": {},
   "outputs": [],
   "source": []
  },
  {
   "cell_type": "markdown",
   "metadata": {},
   "source": [
    "## Transfer Learning"
   ]
  }
 ],
 "metadata": {
  "kernelspec": {
   "display_name": "Python 3",
   "language": "python",
   "name": "python3"
  },
  "language_info": {
   "codemirror_mode": {
    "name": "ipython",
    "version": 3
   },
   "file_extension": ".py",
   "mimetype": "text/x-python",
   "name": "python",
   "nbconvert_exporter": "python",
   "pygments_lexer": "ipython3",
   "version": "3.8.6"
  }
 },
 "nbformat": 4,
 "nbformat_minor": 4
}
