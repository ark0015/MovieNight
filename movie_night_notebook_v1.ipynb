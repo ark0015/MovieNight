{
 "cells": [
  {
   "cell_type": "code",
   "execution_count": 1,
   "metadata": {},
   "outputs": [],
   "source": [
    "%load_ext autoreload\n",
    "%autoreload 2"
   ]
  },
  {
   "cell_type": "code",
   "execution_count": 2,
   "metadata": {},
   "outputs": [],
   "source": [
    "import numpy as np\n",
    "import pandas\n",
    "import datetime\n",
    "from imdb import IMDb"
   ]
  },
  {
   "cell_type": "code",
   "execution_count": 1,
   "metadata": {},
   "outputs": [
    {
     "ename": "NameError",
     "evalue": "name 'pandas' is not defined",
     "output_type": "error",
     "traceback": [
      "\u001b[0;31m---------------------------------------------------------------------------\u001b[0m",
      "\u001b[0;31mNameError\u001b[0m                                 Traceback (most recent call last)",
      "\u001b[0;32m<ipython-input-1-28641250fb3e>\u001b[0m in \u001b[0;36m<module>\u001b[0;34m\u001b[0m\n\u001b[0;32m----> 1\u001b[0;31m \u001b[0mmovies\u001b[0m \u001b[0;34m=\u001b[0m \u001b[0mpandas\u001b[0m\u001b[0;34m.\u001b[0m\u001b[0mread_csv\u001b[0m\u001b[0;34m(\u001b[0m\u001b[0;34m'./Misc_Files/movies.csv'\u001b[0m\u001b[0;34m,\u001b[0m\u001b[0mkeep_default_na\u001b[0m\u001b[0;34m=\u001b[0m\u001b[0;32mFalse\u001b[0m\u001b[0;34m)\u001b[0m\u001b[0;34m\u001b[0m\u001b[0;34m\u001b[0m\u001b[0m\n\u001b[0m",
      "\u001b[0;31mNameError\u001b[0m: name 'pandas' is not defined"
     ]
    }
   ],
   "source": [
    "movies = pandas.read_csv('./Misc_Files/movies.csv',)"
   ]
  },
  {
   "cell_type": "code",
   "execution_count": 4,
   "metadata": {},
   "outputs": [
    {
     "data": {
      "text/html": [
       "<div>\n",
       "<style scoped>\n",
       "    .dataframe tbody tr th:only-of-type {\n",
       "        vertical-align: middle;\n",
       "    }\n",
       "\n",
       "    .dataframe tbody tr th {\n",
       "        vertical-align: top;\n",
       "    }\n",
       "\n",
       "    .dataframe thead th {\n",
       "        text-align: right;\n",
       "    }\n",
       "</style>\n",
       "<table border=\"1\" class=\"dataframe\">\n",
       "  <thead>\n",
       "    <tr style=\"text-align: right;\">\n",
       "      <th></th>\n",
       "      <th>HORROR</th>\n",
       "      <th>ROMANCE</th>\n",
       "      <th>ACTION</th>\n",
       "      <th>DRAMA (Pre-2010)</th>\n",
       "      <th>DRAMA (Post-2010)</th>\n",
       "      <th>SCIFI/Fantasy</th>\n",
       "      <th>\"ANIMATION\"</th>\n",
       "      <th>COMEDY</th>\n",
       "      <th>BAD MOVIES</th>\n",
       "      <th>DOCUMENTARY</th>\n",
       "    </tr>\n",
       "  </thead>\n",
       "  <tbody>\n",
       "    <tr>\n",
       "      <th>0</th>\n",
       "      <td>Antichrist (2009)</td>\n",
       "      <td>Dina (2017)</td>\n",
       "      <td>The Man with One Red Shoe (1985)</td>\n",
       "      <td>Battle of Algiers (1966)</td>\n",
       "      <td>Margaret (2011)</td>\n",
       "      <td>Arrival (2016)</td>\n",
       "      <td>Nausicaa of the Valley of the Wind (1984)</td>\n",
       "      <td>The way way back (2013)</td>\n",
       "      <td>Surf Ninjas (1993)</td>\n",
       "      <td>Hearts and Minds (1974)</td>\n",
       "    </tr>\n",
       "    <tr>\n",
       "      <th>1</th>\n",
       "      <td>Vampires (1998)</td>\n",
       "      <td>Crazy, Stupid, Love (2011)</td>\n",
       "      <td>The Poseidon Adventure (1972)</td>\n",
       "      <td>A Very Long Engagement (2004)</td>\n",
       "      <td>First Man (2018)</td>\n",
       "      <td>Dredd (2012)</td>\n",
       "      <td>This Corner of the World (2016)</td>\n",
       "      <td>Palm Springs (2020)</td>\n",
       "      <td>Serenity (2019)</td>\n",
       "      <td>Free Solo (2018)</td>\n",
       "    </tr>\n",
       "    <tr>\n",
       "      <th>2</th>\n",
       "      <td>hereditary (2018)</td>\n",
       "      <td>Casablanca (1942)</td>\n",
       "      <td>Taxi Driver (1976)</td>\n",
       "      <td>Thin Red Line (1999)</td>\n",
       "      <td>Boys in the Trees (2017)</td>\n",
       "      <td>Melancholia (2011)</td>\n",
       "      <td>Whisper of the Heart (1995)</td>\n",
       "      <td>American Splendor (2003)</td>\n",
       "      <td>Killer Sofa (2019)</td>\n",
       "      <td>Lorena, Light-footed Woman (2019)</td>\n",
       "    </tr>\n",
       "    <tr>\n",
       "      <th>3</th>\n",
       "      <td>The Evil Dead (1981)</td>\n",
       "      <td>Lover for a Day (2017)</td>\n",
       "      <td>Overlord (2018)</td>\n",
       "      <td>Cape Fear (1962)</td>\n",
       "      <td>Silence (2016)</td>\n",
       "      <td>Sky Captain and the World of Tomorrow (2004)</td>\n",
       "      <td>Wolfwalkers (2020)</td>\n",
       "      <td>Paddington 2 (2017)</td>\n",
       "      <td>Suburban Sasquatch</td>\n",
       "      <td>Taxi to the Dark Side (2007)</td>\n",
       "    </tr>\n",
       "    <tr>\n",
       "      <th>4</th>\n",
       "      <td>The Invitation (2015)</td>\n",
       "      <td>The Holiday (2006)</td>\n",
       "      <td>Once upon a time in the west (1968)</td>\n",
       "      <td>Seven Samurai (1954)</td>\n",
       "      <td>Support the Girls (2018)</td>\n",
       "      <td>A.I. Artificial Intelligence (2001)</td>\n",
       "      <td>Neo Tokyo (1987)</td>\n",
       "      <td>Inherent Vice (2014)</td>\n",
       "      <td>Killer Sofa (2019)</td>\n",
       "      <td>Hearts and Minds (1974)</td>\n",
       "    </tr>\n",
       "  </tbody>\n",
       "</table>\n",
       "</div>"
      ],
      "text/plain": [
       "                  HORROR                     ROMANCE  \\\n",
       "0      Antichrist (2009)                 Dina (2017)   \n",
       "1        Vampires (1998)  Crazy, Stupid, Love (2011)   \n",
       "2      hereditary (2018)           Casablanca (1942)   \n",
       "3   The Evil Dead (1981)      Lover for a Day (2017)   \n",
       "4  The Invitation (2015)          The Holiday (2006)   \n",
       "\n",
       "                                ACTION               DRAMA (Pre-2010)  \\\n",
       "0     The Man with One Red Shoe (1985)       Battle of Algiers (1966)   \n",
       "1        The Poseidon Adventure (1972)  A Very Long Engagement (2004)   \n",
       "2                   Taxi Driver (1976)           Thin Red Line (1999)   \n",
       "3                      Overlord (2018)               Cape Fear (1962)   \n",
       "4  Once upon a time in the west (1968)           Seven Samurai (1954)   \n",
       "\n",
       "          DRAMA (Post-2010)                                 SCIFI/Fantasy  \\\n",
       "0           Margaret (2011)                                Arrival (2016)   \n",
       "1          First Man (2018)                                  Dredd (2012)   \n",
       "2  Boys in the Trees (2017)                            Melancholia (2011)   \n",
       "3            Silence (2016)  Sky Captain and the World of Tomorrow (2004)   \n",
       "4  Support the Girls (2018)           A.I. Artificial Intelligence (2001)   \n",
       "\n",
       "                                 \"ANIMATION\"                     COMEDY  \\\n",
       "0  Nausicaa of the Valley of the Wind (1984)    The way way back (2013)   \n",
       "1            This Corner of the World (2016)        Palm Springs (2020)   \n",
       "2                Whisper of the Heart (1995)  American Splendor (2003)    \n",
       "3                         Wolfwalkers (2020)        Paddington 2 (2017)   \n",
       "4                           Neo Tokyo (1987)       Inherent Vice (2014)   \n",
       "\n",
       "           BAD MOVIES                        DOCUMENTARY  \n",
       "0  Surf Ninjas (1993)            Hearts and Minds (1974)  \n",
       "1     Serenity (2019)                   Free Solo (2018)  \n",
       "2  Killer Sofa (2019)  Lorena, Light-footed Woman (2019)  \n",
       "3  Suburban Sasquatch       Taxi to the Dark Side (2007)  \n",
       "4  Killer Sofa (2019)            Hearts and Minds (1974)  "
      ]
     },
     "execution_count": 4,
     "metadata": {},
     "output_type": "execute_result"
    }
   ],
   "source": [
    "num_draws = 5\n",
    "movie_selection = pandas.DataFrame(data=None, index=None, columns=None, dtype=None, copy=False)\n",
    "#np.zeros((num_draws+1,10),dtype=str)\n",
    "for i,genre in enumerate(movies.keys()):\n",
    "    tally = 0\n",
    "    for movie in movies[genre]:\n",
    "        if isinstance(movie,str):\n",
    "            tally+=1\n",
    "    if tally != 0 and genre not in ['MISC','Should Probably be Previewed...']:\n",
    "        rand_choices = np.random.choice(tally,num_draws)\n",
    "        rand_movies = [rm for rm in movies[genre][rand_choices]]\n",
    "        movie_selection.insert(i, genre, rand_movies, allow_duplicates=False)\n",
    "movie_selection"
   ]
  },
  {
   "cell_type": "code",
   "execution_count": 12,
   "metadata": {},
   "outputs": [],
   "source": [
    "votes = pandas.read_csv('./Misc_Files/results.csv')"
   ]
  },
  {
   "cell_type": "code",
   "execution_count": 13,
   "metadata": {},
   "outputs": [],
   "source": [
    "vote_groups = {}\n",
    "for dates,first,second,third,fourth in zip(votes['Timestamp'],votes['First Choice'],votes['Second Choice'],\n",
    "                                           votes['Third Choice'],votes['Fourth Choice']):\n",
    "    date = [int(d) for d in dates.split(' ')[0].split('/')]\n",
    "    time = [int(t) for t in dates.split(' ')[1].split(':')]\n",
    "    full_date = datetime.datetime(date[2], date[0], date[1], hour=time[0], minute=time[1], second=time[2])\n",
    "    if str(full_date.date()) not in vote_groups.keys():\n",
    "        vote_groups[str(full_date.date())] = {}\n",
    "    if first not in vote_groups[str(full_date.date())].keys():\n",
    "        vote_groups[str(full_date.date())][first]=1\n",
    "    else:\n",
    "        vote_groups[str(full_date.date())][first]+=1\n",
    "        \n",
    "    if second not in vote_groups[str(full_date.date())].keys():\n",
    "        vote_groups[str(full_date.date())][second]=1\n",
    "    else:\n",
    "        vote_groups[str(full_date.date())][second]+=1\n",
    "        \n",
    "    if third not in vote_groups[str(full_date.date())].keys():\n",
    "        vote_groups[str(full_date.date())][third]=1\n",
    "    else:\n",
    "        vote_groups[str(full_date.date())][third]+=1\n",
    "        \n",
    "    if fourth not in vote_groups[str(full_date.date())].keys():\n",
    "        vote_groups[str(full_date.date())][fourth]=1\n",
    "    else:\n",
    "        vote_groups[str(full_date.date())][fourth] += 1"
   ]
  },
  {
   "cell_type": "code",
   "execution_count": 14,
   "metadata": {},
   "outputs": [
    {
     "name": "stdout",
     "output_type": "stream",
     "text": [
      "dict_keys(['2020-05-23', '2020-05-30', '2020-06-13', '2020-06-20', '2020-06-27', '2020-07-11', '2020-07-25', '2020-08-01', '2020-08-08', '2020-08-29', '2020-09-05', '2020-09-12', '2020-09-14', '2020-09-19', '2020-09-26', '2020-10-03', '2020-10-10', '2020-10-17', '2020-10-24', '2020-11-07', '2020-11-14', '2020-11-21', '2020-11-28', '2020-12-05', '2020-12-12', '2020-12-19', '2021-01-02', '2021-01-09', '2021-01-16', '2021-01-23', '2021-01-30', '2021-02-06', '2021-02-13', '2021-02-20', '2021-02-27', '2021-03-06', '2021-03-13', '2021-03-20', '2021-03-27', '2021-04-03', '2021-04-04', '2021-04-10', '2021-04-17', '2021-04-23', '2021-04-24', '2021-05-01', '2021-05-08', '2021-05-22', '2021-06-05', '2021-06-19', '2021-06-26', '2021-07-17', '2021-07-24', '2021-08-14', '2021-08-21', '2021-08-28', '2021-11-20'])\n",
      "{'The Grudge (2004)': 1, 'My Name is Nobody (1973)': 2, 'Brick (2005)': 2, 'Kung Fury (2015)': 5, 'The Velocipastor (2018)': 8, 'Summer Wars (2009)': 4, 'Under the Tuscan Sun (2003)': 1, 'Free Solo (2018)': 1}\n"
     ]
    }
   ],
   "source": [
    "print(vote_groups.keys())\n",
    "print(vote_groups['2020-10-17'])"
   ]
  },
  {
   "cell_type": "code",
   "execution_count": 15,
   "metadata": {},
   "outputs": [
    {
     "data": {
      "text/plain": [
       "[('The Velocipastor (2018)', 8),\n",
       " ('Kung Fury (2015)', 5),\n",
       " ('Summer Wars (2009)', 4),\n",
       " ('My Name is Nobody (1973)', 2),\n",
       " ('Brick (2005)', 2),\n",
       " ('The Grudge (2004)', 1),\n",
       " ('Under the Tuscan Sun (2003)', 1),\n",
       " ('Free Solo (2018)', 1)]"
      ]
     },
     "execution_count": 15,
     "metadata": {},
     "output_type": "execute_result"
    }
   ],
   "source": [
    "sorted_votes = sorted(vote_groups['2020-10-17'].items(), key=lambda x: x[1], reverse=True)\n",
    "sorted_votes"
   ]
  },
  {
   "cell_type": "code",
   "execution_count": 16,
   "metadata": {},
   "outputs": [
    {
     "data": {
      "text/plain": [
       "{'The Grudge (2004)': 1,\n",
       " 'My Name is Nobody (1973)': 2,\n",
       " 'Brick (2005)': 2,\n",
       " 'Kung Fury (2015)': 5,\n",
       " 'The Velocipastor (2018)': 8,\n",
       " 'Summer Wars (2009)': 4,\n",
       " 'Under the Tuscan Sun (2003)': 1,\n",
       " 'Free Solo (2018)': 1}"
      ]
     },
     "execution_count": 16,
     "metadata": {},
     "output_type": "execute_result"
    }
   ],
   "source": [
    "vote_groups['2020-10-17']"
   ]
  },
  {
   "cell_type": "code",
   "execution_count": 17,
   "metadata": {},
   "outputs": [
    {
     "data": {
      "text/html": [
       "<div>\n",
       "<style scoped>\n",
       "    .dataframe tbody tr th:only-of-type {\n",
       "        vertical-align: middle;\n",
       "    }\n",
       "\n",
       "    .dataframe tbody tr th {\n",
       "        vertical-align: top;\n",
       "    }\n",
       "\n",
       "    .dataframe thead th {\n",
       "        text-align: right;\n",
       "    }\n",
       "</style>\n",
       "<table border=\"1\" class=\"dataframe\">\n",
       "  <thead>\n",
       "    <tr style=\"text-align: right;\">\n",
       "      <th></th>\n",
       "      <th>Votes</th>\n",
       "    </tr>\n",
       "  </thead>\n",
       "  <tbody>\n",
       "    <tr>\n",
       "      <th>The Velocipastor (2018)</th>\n",
       "      <td>8</td>\n",
       "    </tr>\n",
       "    <tr>\n",
       "      <th>Kung Fury (2015)</th>\n",
       "      <td>5</td>\n",
       "    </tr>\n",
       "    <tr>\n",
       "      <th>Summer Wars (2009)</th>\n",
       "      <td>4</td>\n",
       "    </tr>\n",
       "    <tr>\n",
       "      <th>My Name is Nobody (1973)</th>\n",
       "      <td>2</td>\n",
       "    </tr>\n",
       "    <tr>\n",
       "      <th>Brick (2005)</th>\n",
       "      <td>2</td>\n",
       "    </tr>\n",
       "    <tr>\n",
       "      <th>The Grudge (2004)</th>\n",
       "      <td>1</td>\n",
       "    </tr>\n",
       "    <tr>\n",
       "      <th>Under the Tuscan Sun (2003)</th>\n",
       "      <td>1</td>\n",
       "    </tr>\n",
       "    <tr>\n",
       "      <th>Free Solo (2018)</th>\n",
       "      <td>1</td>\n",
       "    </tr>\n",
       "  </tbody>\n",
       "</table>\n",
       "</div>"
      ],
      "text/plain": [
       "                             Votes\n",
       "The Velocipastor (2018)          8\n",
       "Kung Fury (2015)                 5\n",
       "Summer Wars (2009)               4\n",
       "My Name is Nobody (1973)         2\n",
       "Brick (2005)                     2\n",
       "The Grudge (2004)                1\n",
       "Under the Tuscan Sun (2003)      1\n",
       "Free Solo (2018)                 1"
      ]
     },
     "execution_count": 17,
     "metadata": {},
     "output_type": "execute_result"
    }
   ],
   "source": [
    "#vote_group_today = {key:[val] for key,val in vote_groups['2020-10-17'].items()}\n",
    "#vote_group_today\n",
    "\n",
    "vote_df_today = pandas.DataFrame.from_dict({key:[val] for key,val in vote_groups['2020-10-17'].items()})\n",
    "vote_df_today = vote_df_today.rename(index={0:\"Votes\"})\n",
    "#vote_df_today\n",
    "vote_df_today = vote_df_today.T\n",
    "vote_df_today.sort_values(by=\"Votes\",ascending=False)"
   ]
  },
  {
   "cell_type": "code",
   "execution_count": 18,
   "metadata": {},
   "outputs": [
    {
     "name": "stdout",
     "output_type": "stream",
     "text": [
      "                             Votes\n",
      "Pig (2021)                       5\n",
      "Rear Window (1954)               4\n",
      "Watch Out, We're Mad (1974)      3\n",
      "Suspiria (1977)                  2\n",
      "A Fistful of Dollars (1964)      1\n",
      "Metropolis (1927)                1\n",
      "\n",
      "Total People: 4 Total Votes: 16\n"
     ]
    }
   ],
   "source": [
    "day = str(datetime.date.today())\n",
    "vot_tot = 0\n",
    "vote_df_today = pandas.DataFrame.from_dict({key:[val] for key,val in vote_groups[day].items()})\n",
    "vote_df_today = vote_df_today.rename(index={0:\"Votes\"})\n",
    "vote_df_today = vote_df_today.T\n",
    "#print(vote_df_today.keys())\n",
    "\n",
    "print(vote_df_today.sort_values(by=\"Votes\",ascending=False))\n",
    "print('')\n",
    "print('Total People:',int(vote_df_today[\"Votes\"].sum()/4),'Total Votes:',vote_df_today[\"Votes\"].sum())"
   ]
  },
  {
   "cell_type": "code",
   "execution_count": null,
   "metadata": {},
   "outputs": [],
   "source": []
  },
  {
   "cell_type": "code",
   "execution_count": null,
   "metadata": {},
   "outputs": [],
   "source": []
  }
 ],
 "metadata": {
  "kernelspec": {
   "display_name": "Python 3",
   "language": "python",
   "name": "python3"
  },
  "language_info": {
   "codemirror_mode": {
    "name": "ipython",
    "version": 3
   },
   "file_extension": ".py",
   "mimetype": "text/x-python",
   "name": "python",
   "nbconvert_exporter": "python",
   "pygments_lexer": "ipython3",
   "version": "3.8.12"
  }
 },
 "nbformat": 4,
 "nbformat_minor": 2
}
