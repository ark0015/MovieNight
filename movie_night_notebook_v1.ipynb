{
 "cells": [
  {
   "cell_type": "code",
   "execution_count": 12,
   "metadata": {},
   "outputs": [
    {
     "name": "stdout",
     "output_type": "stream",
     "text": [
      "The autoreload extension is already loaded. To reload it, use:\n",
      "  %reload_ext autoreload\n"
     ]
    }
   ],
   "source": [
    "%load_ext autoreload\n",
    "%autoreload 2"
   ]
  },
  {
   "cell_type": "code",
   "execution_count": 13,
   "metadata": {},
   "outputs": [],
   "source": [
    "import numpy as np\n",
    "import pandas\n",
    "import datetime\n",
    "from imdb import IMDb"
   ]
  },
  {
   "cell_type": "code",
   "execution_count": 14,
   "metadata": {},
   "outputs": [],
   "source": [
    "movies = pandas.read_csv('./Misc_Files/movies.csv')"
   ]
  },
  {
   "cell_type": "code",
   "execution_count": 15,
   "metadata": {},
   "outputs": [
    {
     "data": {
      "text/html": [
       "<div>\n",
       "<style scoped>\n",
       "    .dataframe tbody tr th:only-of-type {\n",
       "        vertical-align: middle;\n",
       "    }\n",
       "\n",
       "    .dataframe tbody tr th {\n",
       "        vertical-align: top;\n",
       "    }\n",
       "\n",
       "    .dataframe thead th {\n",
       "        text-align: right;\n",
       "    }\n",
       "</style>\n",
       "<table border=\"1\" class=\"dataframe\">\n",
       "  <thead>\n",
       "    <tr style=\"text-align: right;\">\n",
       "      <th></th>\n",
       "      <th>HORROR</th>\n",
       "      <th>ROMANCE</th>\n",
       "      <th>ACTION</th>\n",
       "      <th>DRAMA (Pre-2010)</th>\n",
       "      <th>DRAMA (Post-2010)</th>\n",
       "      <th>SCIFI/Fantasy</th>\n",
       "      <th>\"ANIMATION\"</th>\n",
       "      <th>COMEDY</th>\n",
       "      <th>BAD MOVIES</th>\n",
       "      <th>DOCUMENTARY</th>\n",
       "    </tr>\n",
       "  </thead>\n",
       "  <tbody>\n",
       "    <tr>\n",
       "      <th>0</th>\n",
       "      <td>You're Next (2011)</td>\n",
       "      <td>Harold and Maude (1971)</td>\n",
       "      <td>Johnny Mnemonic (1995)</td>\n",
       "      <td>Boogie Nights (1997)</td>\n",
       "      <td>Knives Out (2019)</td>\n",
       "      <td>Close Encounters (1977)</td>\n",
       "      <td>Cowboy Beebop: The Movie (2001)</td>\n",
       "      <td>The Producers (1967)</td>\n",
       "      <td>The Last Godfather (2011)</td>\n",
       "      <td>Into the Abyss (2011)</td>\n",
       "    </tr>\n",
       "    <tr>\n",
       "      <th>1</th>\n",
       "      <td>The Midnight Meat Train (2008)</td>\n",
       "      <td>Amelie (2001)</td>\n",
       "      <td>The Treasure of the Sierra Madre (1948)</td>\n",
       "      <td>The Fall (2006)</td>\n",
       "      <td>West Virginia Stories (2016)</td>\n",
       "      <td>Color of Outer Space (2019)</td>\n",
       "      <td>Jin-Roh: The Wolf Brigade (1999)</td>\n",
       "      <td>The Man Who Killed Don Quixote (2018)</td>\n",
       "      <td>The Velocipastor (2018)</td>\n",
       "      <td>I Am Not Your Negro (2017)</td>\n",
       "    </tr>\n",
       "    <tr>\n",
       "      <th>2</th>\n",
       "      <td>Lake Mungo</td>\n",
       "      <td>The Apartment (1960)</td>\n",
       "      <td>Dolemite (1975)</td>\n",
       "      <td>Thirteen (2003)</td>\n",
       "      <td>Little Women (2019)</td>\n",
       "      <td>Stargate (1994)</td>\n",
       "      <td>The Girl Who Lept Through Time (2006)</td>\n",
       "      <td>One Cut of the Dead (2017)</td>\n",
       "      <td>I Know Who Killed Me (2007)</td>\n",
       "      <td>Mayor (2020)</td>\n",
       "    </tr>\n",
       "    <tr>\n",
       "      <th>3</th>\n",
       "      <td>The Gate (1987)</td>\n",
       "      <td>Castaway on the Moon (2009)</td>\n",
       "      <td>Mission Impossible: Fallout (2018)</td>\n",
       "      <td>Hotel Rwanda (2004)</td>\n",
       "      <td>Sicario (2015)</td>\n",
       "      <td>The Dead Zone (1983)</td>\n",
       "      <td>Perfect Blue (1997)</td>\n",
       "      <td>Rushmore (1998)</td>\n",
       "      <td>Nothing but Trouble (1991)</td>\n",
       "      <td>Going Clear (2015)</td>\n",
       "    </tr>\n",
       "    <tr>\n",
       "      <th>4</th>\n",
       "      <td>Tucker and Dale Vs. Evil (2009)</td>\n",
       "      <td>Lover for a Day (2017)</td>\n",
       "      <td>Bad Times at the El Royale (2018)</td>\n",
       "      <td>Reds (1981)</td>\n",
       "      <td>Hidden Figures (2016)</td>\n",
       "      <td>Melancholia (2011)</td>\n",
       "      <td>The Tale of Princess Kaguya (2013)</td>\n",
       "      <td>Playtime (1967)</td>\n",
       "      <td>Escape From LA (1996)</td>\n",
       "      <td>13th (2016)</td>\n",
       "    </tr>\n",
       "  </tbody>\n",
       "</table>\n",
       "</div>"
      ],
      "text/plain": [
       "                            HORROR                      ROMANCE  \\\n",
       "0               You're Next (2011)      Harold and Maude (1971)   \n",
       "1   The Midnight Meat Train (2008)                Amelie (2001)   \n",
       "2                       Lake Mungo         The Apartment (1960)   \n",
       "3                  The Gate (1987)  Castaway on the Moon (2009)   \n",
       "4  Tucker and Dale Vs. Evil (2009)       Lover for a Day (2017)   \n",
       "\n",
       "                                    ACTION      DRAMA (Pre-2010)  \\\n",
       "0                   Johnny Mnemonic (1995)  Boogie Nights (1997)   \n",
       "1  The Treasure of the Sierra Madre (1948)       The Fall (2006)   \n",
       "2                          Dolemite (1975)       Thirteen (2003)   \n",
       "3       Mission Impossible: Fallout (2018)   Hotel Rwanda (2004)   \n",
       "4        Bad Times at the El Royale (2018)           Reds (1981)   \n",
       "\n",
       "              DRAMA (Post-2010)                SCIFI/Fantasy  \\\n",
       "0             Knives Out (2019)      Close Encounters (1977)   \n",
       "1  West Virginia Stories (2016)  Color of Outer Space (2019)   \n",
       "2           Little Women (2019)              Stargate (1994)   \n",
       "3                Sicario (2015)         The Dead Zone (1983)   \n",
       "4         Hidden Figures (2016)           Melancholia (2011)   \n",
       "\n",
       "                             \"ANIMATION\"  \\\n",
       "0        Cowboy Beebop: The Movie (2001)   \n",
       "1       Jin-Roh: The Wolf Brigade (1999)   \n",
       "2  The Girl Who Lept Through Time (2006)   \n",
       "3                    Perfect Blue (1997)   \n",
       "4     The Tale of Princess Kaguya (2013)   \n",
       "\n",
       "                                  COMEDY                   BAD MOVIES  \\\n",
       "0                   The Producers (1967)    The Last Godfather (2011)   \n",
       "1  The Man Who Killed Don Quixote (2018)      The Velocipastor (2018)   \n",
       "2             One Cut of the Dead (2017)  I Know Who Killed Me (2007)   \n",
       "3                        Rushmore (1998)   Nothing but Trouble (1991)   \n",
       "4                        Playtime (1967)        Escape From LA (1996)   \n",
       "\n",
       "                  DOCUMENTARY  \n",
       "0       Into the Abyss (2011)  \n",
       "1  I Am Not Your Negro (2017)  \n",
       "2                Mayor (2020)  \n",
       "3          Going Clear (2015)  \n",
       "4                 13th (2016)  "
      ]
     },
     "execution_count": 15,
     "metadata": {},
     "output_type": "execute_result"
    }
   ],
   "source": [
    "num_draws = 5\n",
    "movie_selection = pandas.DataFrame(data=None, index=None, columns=None, dtype=None, copy=False)\n",
    "#np.zeros((num_draws+1,10),dtype=str)\n",
    "for i,genre in enumerate(movies.keys()):\n",
    "    tally = 0\n",
    "    for movie in movies[genre]:\n",
    "        if isinstance(movie,str):\n",
    "            tally+=1\n",
    "    if tally != 0 and genre not in ['MISC','Should Probably be Previewed...']:\n",
    "        rand_choices = np.random.choice(tally,num_draws)\n",
    "        rand_movies = [rm for rm in movies[genre][rand_choices]]\n",
    "        movie_selection.insert(i, genre, rand_movies, allow_duplicates=False)\n",
    "movie_selection"
   ]
  },
  {
   "cell_type": "code",
   "execution_count": 23,
   "metadata": {},
   "outputs": [],
   "source": [
    "votes = pandas.read_csv('./Misc_Files/results.csv')"
   ]
  },
  {
   "cell_type": "code",
   "execution_count": 24,
   "metadata": {},
   "outputs": [],
   "source": [
    "vote_groups = {}\n",
    "for dates,first,second,third,fourth in zip(votes['Timestamp'],votes['First Choice'],votes['Second Choice'],\n",
    "                                           votes['Third Choice'],votes['Fourth Choice']):\n",
    "    date = [int(d) for d in dates.split(' ')[0].split('/')]\n",
    "    time = [int(t) for t in dates.split(' ')[1].split(':')]\n",
    "    full_date = datetime.datetime(date[2], date[0], date[1], hour=time[0], minute=time[1], second=time[2])\n",
    "    if str(full_date.date()) not in vote_groups.keys():\n",
    "        vote_groups[str(full_date.date())] = {}\n",
    "    if first not in vote_groups[str(full_date.date())].keys():\n",
    "        vote_groups[str(full_date.date())][first]=1\n",
    "    else:\n",
    "        vote_groups[str(full_date.date())][first]+=1\n",
    "        \n",
    "    if second not in vote_groups[str(full_date.date())].keys():\n",
    "        vote_groups[str(full_date.date())][second]=1\n",
    "    else:\n",
    "        vote_groups[str(full_date.date())][second]+=1\n",
    "        \n",
    "    if third not in vote_groups[str(full_date.date())].keys():\n",
    "        vote_groups[str(full_date.date())][third]=1\n",
    "    else:\n",
    "        vote_groups[str(full_date.date())][third]+=1\n",
    "        \n",
    "    if fourth not in vote_groups[str(full_date.date())].keys():\n",
    "        vote_groups[str(full_date.date())][fourth]=1\n",
    "    else:\n",
    "        vote_groups[str(full_date.date())][fourth] += 1"
   ]
  },
  {
   "cell_type": "code",
   "execution_count": 25,
   "metadata": {},
   "outputs": [
    {
     "name": "stdout",
     "output_type": "stream",
     "text": [
      "dict_keys(['2020-05-23', '2020-05-30', '2020-06-13', '2020-06-20', '2020-06-27', '2020-07-11', '2020-07-25', '2020-08-01', '2020-08-08', '2020-08-29', '2020-09-05', '2020-09-12', '2020-09-14', '2020-09-19', '2020-09-26', '2020-10-03', '2020-10-10', '2020-10-17', '2020-10-24', '2020-11-07', '2020-11-14', '2020-11-21', '2020-11-28', '2020-12-05', '2020-12-12', '2020-12-19', '2021-01-02', '2021-01-09', '2021-01-16', '2021-01-23', '2021-01-30', '2021-02-06', '2021-02-13', '2021-02-20', '2021-02-27', '2021-03-06', '2021-03-13', '2021-03-20', '2021-03-27', '2021-04-03', '2021-04-04', '2021-04-10', '2021-04-17', '2021-04-23', '2021-04-24', '2021-05-01', '2021-05-08', '2021-05-22', '2021-06-05', '2021-06-19', '2021-06-26', '2021-07-17', '2021-07-24', '2021-08-14', '2021-08-21', '2021-08-28'])\n",
      "{'The Grudge (2004)': 1, 'My Name is Nobody (1973)': 2, 'Brick (2005)': 2, 'Kung Fury (2015)': 5, 'The Velocipastor (2018)': 8, 'Summer Wars (2009)': 4, 'Under the Tuscan Sun (2003)': 1, 'Free Solo (2018)': 1}\n"
     ]
    }
   ],
   "source": [
    "print(vote_groups.keys())\n",
    "print(vote_groups['2020-10-17'])"
   ]
  },
  {
   "cell_type": "code",
   "execution_count": 26,
   "metadata": {},
   "outputs": [
    {
     "data": {
      "text/plain": [
       "[('The Velocipastor (2018)', 8),\n",
       " ('Kung Fury (2015)', 5),\n",
       " ('Summer Wars (2009)', 4),\n",
       " ('My Name is Nobody (1973)', 2),\n",
       " ('Brick (2005)', 2),\n",
       " ('The Grudge (2004)', 1),\n",
       " ('Under the Tuscan Sun (2003)', 1),\n",
       " ('Free Solo (2018)', 1)]"
      ]
     },
     "execution_count": 26,
     "metadata": {},
     "output_type": "execute_result"
    }
   ],
   "source": [
    "sorted_votes = sorted(vote_groups['2020-10-17'].items(), key=lambda x: x[1], reverse=True)\n",
    "sorted_votes"
   ]
  },
  {
   "cell_type": "code",
   "execution_count": 27,
   "metadata": {},
   "outputs": [
    {
     "data": {
      "text/plain": [
       "{'The Grudge (2004)': 1,\n",
       " 'My Name is Nobody (1973)': 2,\n",
       " 'Brick (2005)': 2,\n",
       " 'Kung Fury (2015)': 5,\n",
       " 'The Velocipastor (2018)': 8,\n",
       " 'Summer Wars (2009)': 4,\n",
       " 'Under the Tuscan Sun (2003)': 1,\n",
       " 'Free Solo (2018)': 1}"
      ]
     },
     "execution_count": 27,
     "metadata": {},
     "output_type": "execute_result"
    }
   ],
   "source": [
    "vote_groups['2020-10-17']"
   ]
  },
  {
   "cell_type": "code",
   "execution_count": 28,
   "metadata": {},
   "outputs": [
    {
     "data": {
      "text/html": [
       "<div>\n",
       "<style scoped>\n",
       "    .dataframe tbody tr th:only-of-type {\n",
       "        vertical-align: middle;\n",
       "    }\n",
       "\n",
       "    .dataframe tbody tr th {\n",
       "        vertical-align: top;\n",
       "    }\n",
       "\n",
       "    .dataframe thead th {\n",
       "        text-align: right;\n",
       "    }\n",
       "</style>\n",
       "<table border=\"1\" class=\"dataframe\">\n",
       "  <thead>\n",
       "    <tr style=\"text-align: right;\">\n",
       "      <th></th>\n",
       "      <th>Votes</th>\n",
       "    </tr>\n",
       "  </thead>\n",
       "  <tbody>\n",
       "    <tr>\n",
       "      <th>The Velocipastor (2018)</th>\n",
       "      <td>8</td>\n",
       "    </tr>\n",
       "    <tr>\n",
       "      <th>Kung Fury (2015)</th>\n",
       "      <td>5</td>\n",
       "    </tr>\n",
       "    <tr>\n",
       "      <th>Summer Wars (2009)</th>\n",
       "      <td>4</td>\n",
       "    </tr>\n",
       "    <tr>\n",
       "      <th>My Name is Nobody (1973)</th>\n",
       "      <td>2</td>\n",
       "    </tr>\n",
       "    <tr>\n",
       "      <th>Brick (2005)</th>\n",
       "      <td>2</td>\n",
       "    </tr>\n",
       "    <tr>\n",
       "      <th>The Grudge (2004)</th>\n",
       "      <td>1</td>\n",
       "    </tr>\n",
       "    <tr>\n",
       "      <th>Under the Tuscan Sun (2003)</th>\n",
       "      <td>1</td>\n",
       "    </tr>\n",
       "    <tr>\n",
       "      <th>Free Solo (2018)</th>\n",
       "      <td>1</td>\n",
       "    </tr>\n",
       "  </tbody>\n",
       "</table>\n",
       "</div>"
      ],
      "text/plain": [
       "                             Votes\n",
       "The Velocipastor (2018)          8\n",
       "Kung Fury (2015)                 5\n",
       "Summer Wars (2009)               4\n",
       "My Name is Nobody (1973)         2\n",
       "Brick (2005)                     2\n",
       "The Grudge (2004)                1\n",
       "Under the Tuscan Sun (2003)      1\n",
       "Free Solo (2018)                 1"
      ]
     },
     "execution_count": 28,
     "metadata": {},
     "output_type": "execute_result"
    }
   ],
   "source": [
    "#vote_group_today = {key:[val] for key,val in vote_groups['2020-10-17'].items()}\n",
    "#vote_group_today\n",
    "\n",
    "vote_df_today = pandas.DataFrame.from_dict({key:[val] for key,val in vote_groups['2020-10-17'].items()})\n",
    "vote_df_today = vote_df_today.rename(index={0:\"Votes\"})\n",
    "#vote_df_today\n",
    "vote_df_today = vote_df_today.T\n",
    "vote_df_today.sort_values(by=\"Votes\",ascending=False)"
   ]
  },
  {
   "cell_type": "code",
   "execution_count": 29,
   "metadata": {},
   "outputs": [
    {
     "name": "stdout",
     "output_type": "stream",
     "text": [
      "                                 Votes\n",
      "Johnny Mnemonic (1995)               7\n",
      "Playtime (1967)                      5\n",
      "Cowboy Beebop: The Movie (2001)      3\n",
      "Boogie Nights (1997)                 1\n",
      "\n",
      "Total People: 4 Total Votes: 16\n"
     ]
    }
   ],
   "source": [
    "day = str(datetime.date.today())\n",
    "vot_tot = 0\n",
    "vote_df_today = pandas.DataFrame.from_dict({key:[val] for key,val in vote_groups[day].items()})\n",
    "vote_df_today = vote_df_today.rename(index={0:\"Votes\"})\n",
    "vote_df_today = vote_df_today.T\n",
    "#print(vote_df_today.keys())\n",
    "\n",
    "print(vote_df_today.sort_values(by=\"Votes\",ascending=False))\n",
    "print('')\n",
    "print('Total People:',int(vote_df_today[\"Votes\"].sum()/4),'Total Votes:',vote_df_today[\"Votes\"].sum())"
   ]
  },
  {
   "cell_type": "code",
   "execution_count": null,
   "metadata": {},
   "outputs": [],
   "source": []
  },
  {
   "cell_type": "code",
   "execution_count": null,
   "metadata": {},
   "outputs": [],
   "source": []
  }
 ],
 "metadata": {
  "kernelspec": {
   "display_name": "Python 3",
   "language": "python",
   "name": "python3"
  },
  "language_info": {
   "codemirror_mode": {
    "name": "ipython",
    "version": 3
   },
   "file_extension": ".py",
   "mimetype": "text/x-python",
   "name": "python",
   "nbconvert_exporter": "python",
   "pygments_lexer": "ipython3",
   "version": "3.8.6"
  }
 },
 "nbformat": 4,
 "nbformat_minor": 2
}
