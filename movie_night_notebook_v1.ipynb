{
 "cells": [
  {
   "cell_type": "code",
   "execution_count": 1,
   "metadata": {},
   "outputs": [],
   "source": [
    "%load_ext autoreload\n",
    "%autoreload 2"
   ]
  },
  {
   "cell_type": "code",
   "execution_count": 110,
   "metadata": {},
   "outputs": [],
   "source": [
    "import numpy as np\n",
    "import matplotlib.pyplot as plt\n",
    "import tensorflow as tf\n",
    "import pandas\n",
    "import datetime\n",
    "from imdb import IMDb"
   ]
  },
  {
   "cell_type": "code",
   "execution_count": 4,
   "metadata": {},
   "outputs": [],
   "source": [
    "movies = pandas.read_csv('movies.csv')"
   ]
  },
  {
   "cell_type": "code",
   "execution_count": 25,
   "metadata": {},
   "outputs": [],
   "source": [
    "votes = pandas.read_csv('responses.csv')"
   ]
  },
  {
   "cell_type": "code",
   "execution_count": 23,
   "metadata": {},
   "outputs": [
    {
     "name": "stdout",
     "output_type": "stream",
     "text": [
      "genre:  HORROR\n",
      "Movie Selection:  ['Get Out (2016)', 'Night of the Living Dead (1968)', \"Rosemary's Baby (1968)\"]\n",
      "\n",
      "genre:  ROMANCE\n",
      "Movie Selection:  ['Harold and Maude (1971)', 'The Little Hours (2017)', 'Punch-Drunk Love (2002)']\n",
      "\n",
      "genre:  ACTION\n",
      "Movie Selection:  ['The Raid: Redemption (2011)', 'Raiders of the Lost Ark (1981)', 'Goodfellas (1990)']\n",
      "\n",
      "genre:  DRAMA (Pre-2010)\n",
      "Movie Selection:  ['Eraserhead (1977)', 'A Very Long Engagement (2004)', 'Citizen Kane (1941)']\n",
      "\n",
      "genre:  DRAMA (Post-2010)\n",
      "Movie Selection:  ['Nocturama (2016)', 'The Other Side of the Wind (2018)', 'Dunkirk (2017)']\n",
      "\n",
      "genre:  SCIFI/Fantasy\n",
      "Movie Selection:  ['Naked Lunch (1991)', 'Upstream Color (2013)', 'Passengers (2016)']\n",
      "\n",
      "genre:  \"ANIMATION\"\n",
      "Movie Selection:  ['Ninja Scroll (1993)', 'Pom Poko (1994)', 'Anomalisa (2015)']\n",
      "\n",
      "genre:  COMEDY\n",
      "Movie Selection:  ['Big Trouble (2002)', 'the little hours (2017)', 'Adaptation (2002)']\n",
      "\n",
      "genre:  BAD MOVIES\n",
      "Movie Selection:  ['Escape From LA (1996)', 'Space Cop (2016)', 'Troll 2 (1990)']\n",
      "\n",
      "genre:  DOCUMENTARY\n",
      "Movie Selection:  ['Room 237 (2012)', 'Lorena, Light-footed Woman (2019)', 'How to Survive a Plague (2012)']\n",
      "\n"
     ]
    }
   ],
   "source": [
    "num_draws = 3\n",
    "for genre in movies.keys():\n",
    "    tally = 0\n",
    "    for movie in movies[genre]:\n",
    "        if isinstance(movie,str):\n",
    "            tally+=1\n",
    "    if tally != 0.0 and genre not in ['MISC','Should Probably be Previewed...']:\n",
    "        print('genre: ',genre)\n",
    "        rand_choices = np.random.choice(tally,num_draws)\n",
    "        rand_movies = [rm for rm in movies[genre][choices]]\n",
    "        print('Movie Selection: ',rand_movies)\n",
    "        print('')"
   ]
  },
  {
   "cell_type": "code",
   "execution_count": 50,
   "metadata": {},
   "outputs": [
    {
     "name": "stdout",
     "output_type": "stream",
     "text": [
      "Index(['Timestamp', 'First Choice', 'Second Choice', 'Third Choice',\n",
      "       'Fourth Choice', 'Unnamed: 5', 'Unnamed: 6', 'Unnamed: 7'],\n",
      "      dtype='object')\n"
     ]
    }
   ],
   "source": [
    "print(votes.keys())"
   ]
  },
  {
   "cell_type": "code",
   "execution_count": 79,
   "metadata": {},
   "outputs": [],
   "source": [
    "vote_groups = {}\n",
    "for dates,first,second,third,fourth in zip(votes['Timestamp'],votes['First Choice'],votes['Second Choice'],\n",
    "                                           votes['Third Choice'],votes['Fourth Choice']):\n",
    "    date = [int(d) for d in dates.split(' ')[0].split('/')]\n",
    "    time = [int(t) for t in dates.split(' ')[1].split(':')]\n",
    "    full_date = datetime.datetime(date[2], date[0], date[1], hour=time[0], minute=time[1], second=time[2])\n",
    "    if str(full_date.date()) not in vote_groups.keys():\n",
    "        vote_groups[str(full_date.date())] = {}\n",
    "    if first not in vote_groups[str(full_date.date())].keys():\n",
    "        vote_groups[str(full_date.date())][first]=1\n",
    "    else:\n",
    "        vote_groups[str(full_date.date())][first]+=1\n",
    "        \n",
    "    if second not in vote_groups[str(full_date.date())].keys():\n",
    "        vote_groups[str(full_date.date())][second]=1\n",
    "    else:\n",
    "        vote_groups[str(full_date.date())][second]+=1\n",
    "        \n",
    "    if third not in vote_groups[str(full_date.date())].keys():\n",
    "        vote_groups[str(full_date.date())][third]=1\n",
    "    else:\n",
    "        vote_groups[str(full_date.date())][third]+=1\n",
    "        \n",
    "    if fourth not in vote_groups[str(full_date.date())].keys():\n",
    "        vote_groups[str(full_date.date())][fourth]=1\n",
    "    else:\n",
    "        vote_groups[str(full_date.date())][fourth] += 1"
   ]
  },
  {
   "cell_type": "code",
   "execution_count": 82,
   "metadata": {},
   "outputs": [
    {
     "name": "stdout",
     "output_type": "stream",
     "text": [
      "dict_keys(['2020-05-23', '2020-05-30', '2020-06-13', '2020-06-20', '2020-06-27', '2020-07-11', '2020-07-25', '2020-08-01', '2020-08-08', '2020-08-29', '2020-09-05', '2020-09-12', '2020-09-14', '2020-09-19', '2020-09-26', '2020-10-03', '2020-10-10', '2020-10-17'])\n",
      "{'The Grudge (2004)': 1, 'My Name is Nobody (1973)': 2, 'Brick (2005)': 2, 'Kung Fury (2015)': 5, 'The Velocipastor (2018)': 8, 'Summer Wars (2009)': 4, 'Under the Tuscan Sun (2003)': 1, 'Free Solo (2018)': 1}\n"
     ]
    }
   ],
   "source": [
    "print(vote_groups.keys())\n",
    "print(vote_groups['2020-10-17'])"
   ]
  },
  {
   "cell_type": "code",
   "execution_count": 109,
   "metadata": {},
   "outputs": [
    {
     "name": "stdout",
     "output_type": "stream",
     "text": [
      "     Movies \t\t\t       Votes\n",
      "\n",
      "The Velocipastor (2018) \t\t 8\n",
      "Kung Fury (2015) \t\t\t 5\n",
      "Summer Wars (2009) \t\t\t 4\n",
      "My Name is Nobody (1973) \t\t 2\n",
      "Brick (2005) \t\t\t\t 2\n",
      "The Grudge (2004) \t\t\t 1\n",
      "Under the Tuscan Sun (2003) \t\t 1\n",
      "Free Solo (2018) \t\t\t 1\n"
     ]
    }
   ],
   "source": [
    "#datetime.date.today()\n",
    "day = '2020-10-17'\n",
    "sorted_votes = sorted(vote_groups[day].items(), key=lambda x: x[1], reverse=True)\n",
    "print('     Movies \\t\\t\\t       Votes')\n",
    "print('')\n",
    "for mov,vs in sorted_votes:\n",
    "    \n",
    "    if len(mov) > 20:\n",
    "        tabs = '\\t\\t'\n",
    "    elif len(mov) < 15:\n",
    "        tabs = '\\t\\t\\t\\t'\n",
    "    else:\n",
    "        tabs = '\\t\\t\\t'\n",
    "    print(mov,tabs,vs)"
   ]
  },
  {
   "cell_type": "code",
   "execution_count": 111,
   "metadata": {},
   "outputs": [],
   "source": [
    "# create an instance of the IMDb class\n",
    "ia = IMDb()"
   ]
  },
  {
   "cell_type": "code",
   "execution_count": null,
   "metadata": {},
   "outputs": [],
   "source": [
    "ia."
   ]
  },
  {
   "cell_type": "code",
   "execution_count": 117,
   "metadata": {},
   "outputs": [
    {
     "name": "stdout",
     "output_type": "stream",
     "text": [
      "The Velocipastor (2018)\n"
     ]
    }
   ],
   "source": [
    "print(sorted_votes[0][0])"
   ]
  },
  {
   "cell_type": "code",
   "execution_count": 132,
   "metadata": {},
   "outputs": [],
   "source": [
    "morvie = sorted_votes[0][0]\n",
    "i = 0\n",
    "imdb_movie = ia.search_movie(morvie)[i]\n",
    "if 'movie' not in imdb_movie['kind']:\n",
    "    imdb_movie = ia.search_movie(morvie)[i+1]"
   ]
  },
  {
   "cell_type": "code",
   "execution_count": 133,
   "metadata": {},
   "outputs": [
    {
     "name": "stdout",
     "output_type": "stream",
     "text": [
      "['movie', 'episode', 'episode', 'video movie', 'episode']\n"
     ]
    }
   ],
   "source": [
    "print([blorp['kind'] for blorp in ia.search_movie(morvie)])"
   ]
  },
  {
   "cell_type": "code",
   "execution_count": 135,
   "metadata": {},
   "outputs": [
    {
     "data": {
      "text/plain": [
       "['title',\n",
       " 'kind',\n",
       " 'year',\n",
       " 'cover url',\n",
       " 'canonical title',\n",
       " 'long imdb title',\n",
       " 'long imdb canonical title',\n",
       " 'smart canonical title',\n",
       " 'smart long imdb canonical title',\n",
       " 'full-size cover url']"
      ]
     },
     "execution_count": 135,
     "metadata": {},
     "output_type": "execute_result"
    }
   ],
   "source": [
    "imdb_movie.keys()"
   ]
  },
  {
   "cell_type": "code",
   "execution_count": 137,
   "metadata": {},
   "outputs": [
    {
     "data": {
      "text/plain": [
       "[]"
      ]
     },
     "execution_count": 137,
     "metadata": {},
     "output_type": "execute_result"
    }
   ],
   "source": [
    "imdb_movie.current_info"
   ]
  },
  {
   "cell_type": "code",
   "execution_count": 136,
   "metadata": {},
   "outputs": [
    {
     "data": {
      "text/plain": [
       "2018"
      ]
     },
     "execution_count": 136,
     "metadata": {},
     "output_type": "execute_result"
    }
   ],
   "source": [
    "imdb_movie['year']"
   ]
  },
  {
   "cell_type": "code",
   "execution_count": 143,
   "metadata": {},
   "outputs": [
    {
     "ename": "DatabaseError",
     "evalue": "2003 (HY000): Can't connect to MySQL server on 'localhost' (61)",
     "output_type": "error",
     "traceback": [
      "\u001b[0;31m---------------------------------------------------------------------------\u001b[0m",
      "\u001b[0;31mMySQLInterfaceError\u001b[0m                       Traceback (most recent call last)",
      "\u001b[0;32m~/anaconda3/envs/movienight/lib/python3.8/site-packages/mysql/connector/connection_cext.py\u001b[0m in \u001b[0;36m_open_connection\u001b[0;34m(self)\u001b[0m\n\u001b[1;32m    232\u001b[0m         \u001b[0;32mtry\u001b[0m\u001b[0;34m:\u001b[0m\u001b[0;34m\u001b[0m\u001b[0;34m\u001b[0m\u001b[0m\n\u001b[0;32m--> 233\u001b[0;31m             \u001b[0mself\u001b[0m\u001b[0;34m.\u001b[0m\u001b[0m_cmysql\u001b[0m\u001b[0;34m.\u001b[0m\u001b[0mconnect\u001b[0m\u001b[0;34m(\u001b[0m\u001b[0;34m**\u001b[0m\u001b[0mcnx_kwargs\u001b[0m\u001b[0;34m)\u001b[0m\u001b[0;34m\u001b[0m\u001b[0;34m\u001b[0m\u001b[0m\n\u001b[0m\u001b[1;32m    234\u001b[0m         \u001b[0;32mexcept\u001b[0m \u001b[0mMySQLInterfaceError\u001b[0m \u001b[0;32mas\u001b[0m \u001b[0mexc\u001b[0m\u001b[0;34m:\u001b[0m\u001b[0;34m\u001b[0m\u001b[0;34m\u001b[0m\u001b[0m\n",
      "\u001b[0;31mMySQLInterfaceError\u001b[0m: Can't connect to MySQL server on 'localhost' (61)",
      "\nDuring handling of the above exception, another exception occurred:\n",
      "\u001b[0;31mDatabaseError\u001b[0m                             Traceback (most recent call last)",
      "\u001b[0;32m<ipython-input-143-969c9b22c43c>\u001b[0m in \u001b[0;36m<module>\u001b[0;34m\u001b[0m\n\u001b[1;32m      8\u001b[0m \u001b[0;34m\u001b[0m\u001b[0m\n\u001b[1;32m      9\u001b[0m \u001b[0;31m# connect to the database\u001b[0m\u001b[0;34m\u001b[0m\u001b[0;34m\u001b[0m\u001b[0;34m\u001b[0m\u001b[0m\n\u001b[0;32m---> 10\u001b[0;31m \u001b[0mdb_connection\u001b[0m \u001b[0;34m=\u001b[0m \u001b[0mmysql\u001b[0m\u001b[0;34m.\u001b[0m\u001b[0mconnect\u001b[0m\u001b[0;34m(\u001b[0m\u001b[0mhost\u001b[0m\u001b[0;34m=\u001b[0m\u001b[0mHOST\u001b[0m\u001b[0;34m,\u001b[0m \u001b[0mdatabase\u001b[0m\u001b[0;34m=\u001b[0m\u001b[0mDATABASE\u001b[0m\u001b[0;34m,\u001b[0m \u001b[0muser\u001b[0m\u001b[0;34m=\u001b[0m\u001b[0mUSER\u001b[0m\u001b[0;34m,\u001b[0m \u001b[0mpassword\u001b[0m\u001b[0;34m=\u001b[0m\u001b[0mPASSWORD\u001b[0m\u001b[0;34m)\u001b[0m\u001b[0;34m\u001b[0m\u001b[0;34m\u001b[0m\u001b[0m\n\u001b[0m\u001b[1;32m     11\u001b[0m \u001b[0;31m# get server information\u001b[0m\u001b[0;34m\u001b[0m\u001b[0;34m\u001b[0m\u001b[0;34m\u001b[0m\u001b[0m\n\u001b[1;32m     12\u001b[0m \u001b[0mprint\u001b[0m\u001b[0;34m(\u001b[0m\u001b[0mdb_connection\u001b[0m\u001b[0;34m.\u001b[0m\u001b[0mget_server_info\u001b[0m\u001b[0;34m(\u001b[0m\u001b[0;34m)\u001b[0m\u001b[0;34m)\u001b[0m\u001b[0;34m\u001b[0m\u001b[0;34m\u001b[0m\u001b[0m\n",
      "\u001b[0;32m~/anaconda3/envs/movienight/lib/python3.8/site-packages/mysql/connector/__init__.py\u001b[0m in \u001b[0;36mconnect\u001b[0;34m(*args, **kwargs)\u001b[0m\n\u001b[1;32m    268\u001b[0m \u001b[0;34m\u001b[0m\u001b[0m\n\u001b[1;32m    269\u001b[0m     \u001b[0;32mif\u001b[0m \u001b[0mHAVE_CEXT\u001b[0m \u001b[0;32mand\u001b[0m \u001b[0;32mnot\u001b[0m \u001b[0muse_pure\u001b[0m\u001b[0;34m:\u001b[0m\u001b[0;34m\u001b[0m\u001b[0;34m\u001b[0m\u001b[0m\n\u001b[0;32m--> 270\u001b[0;31m         \u001b[0;32mreturn\u001b[0m \u001b[0mCMySQLConnection\u001b[0m\u001b[0;34m(\u001b[0m\u001b[0;34m*\u001b[0m\u001b[0margs\u001b[0m\u001b[0;34m,\u001b[0m \u001b[0;34m**\u001b[0m\u001b[0mkwargs\u001b[0m\u001b[0;34m)\u001b[0m\u001b[0;34m\u001b[0m\u001b[0;34m\u001b[0m\u001b[0m\n\u001b[0m\u001b[1;32m    271\u001b[0m     \u001b[0;32mreturn\u001b[0m \u001b[0mMySQLConnection\u001b[0m\u001b[0;34m(\u001b[0m\u001b[0;34m*\u001b[0m\u001b[0margs\u001b[0m\u001b[0;34m,\u001b[0m \u001b[0;34m**\u001b[0m\u001b[0mkwargs\u001b[0m\u001b[0;34m)\u001b[0m\u001b[0;34m\u001b[0m\u001b[0;34m\u001b[0m\u001b[0m\n\u001b[1;32m    272\u001b[0m \u001b[0mConnect\u001b[0m \u001b[0;34m=\u001b[0m \u001b[0mconnect\u001b[0m  \u001b[0;31m# pylint: disable=C0103\u001b[0m\u001b[0;34m\u001b[0m\u001b[0;34m\u001b[0m\u001b[0m\n",
      "\u001b[0;32m~/anaconda3/envs/movienight/lib/python3.8/site-packages/mysql/connector/connection_cext.py\u001b[0m in \u001b[0;36m__init__\u001b[0;34m(self, **kwargs)\u001b[0m\n\u001b[1;32m     84\u001b[0m \u001b[0;34m\u001b[0m\u001b[0m\n\u001b[1;32m     85\u001b[0m         \u001b[0;32mif\u001b[0m \u001b[0mkwargs\u001b[0m\u001b[0;34m:\u001b[0m\u001b[0;34m\u001b[0m\u001b[0;34m\u001b[0m\u001b[0m\n\u001b[0;32m---> 86\u001b[0;31m             \u001b[0mself\u001b[0m\u001b[0;34m.\u001b[0m\u001b[0mconnect\u001b[0m\u001b[0;34m(\u001b[0m\u001b[0;34m**\u001b[0m\u001b[0mkwargs\u001b[0m\u001b[0;34m)\u001b[0m\u001b[0;34m\u001b[0m\u001b[0;34m\u001b[0m\u001b[0m\n\u001b[0m\u001b[1;32m     87\u001b[0m \u001b[0;34m\u001b[0m\u001b[0m\n\u001b[1;32m     88\u001b[0m     \u001b[0;32mdef\u001b[0m \u001b[0m_add_default_conn_attrs\u001b[0m\u001b[0;34m(\u001b[0m\u001b[0mself\u001b[0m\u001b[0;34m)\u001b[0m\u001b[0;34m:\u001b[0m\u001b[0;34m\u001b[0m\u001b[0;34m\u001b[0m\u001b[0m\n",
      "\u001b[0;32m~/anaconda3/envs/movienight/lib/python3.8/site-packages/mysql/connector/abstracts.py\u001b[0m in \u001b[0;36mconnect\u001b[0;34m(self, **kwargs)\u001b[0m\n\u001b[1;32m    983\u001b[0m \u001b[0;34m\u001b[0m\u001b[0m\n\u001b[1;32m    984\u001b[0m         \u001b[0mself\u001b[0m\u001b[0;34m.\u001b[0m\u001b[0mdisconnect\u001b[0m\u001b[0;34m(\u001b[0m\u001b[0;34m)\u001b[0m\u001b[0;34m\u001b[0m\u001b[0;34m\u001b[0m\u001b[0m\n\u001b[0;32m--> 985\u001b[0;31m         \u001b[0mself\u001b[0m\u001b[0;34m.\u001b[0m\u001b[0m_open_connection\u001b[0m\u001b[0;34m(\u001b[0m\u001b[0;34m)\u001b[0m\u001b[0;34m\u001b[0m\u001b[0;34m\u001b[0m\u001b[0m\n\u001b[0m\u001b[1;32m    986\u001b[0m         \u001b[0;31m# Server does not allow to run any other statement different from ALTER\u001b[0m\u001b[0;34m\u001b[0m\u001b[0;34m\u001b[0m\u001b[0;34m\u001b[0m\u001b[0m\n\u001b[1;32m    987\u001b[0m         \u001b[0;31m# when user's password has been expired.\u001b[0m\u001b[0;34m\u001b[0m\u001b[0;34m\u001b[0m\u001b[0;34m\u001b[0m\u001b[0m\n",
      "\u001b[0;32m~/anaconda3/envs/movienight/lib/python3.8/site-packages/mysql/connector/connection_cext.py\u001b[0m in \u001b[0;36m_open_connection\u001b[0;34m(self)\u001b[0m\n\u001b[1;32m    233\u001b[0m             \u001b[0mself\u001b[0m\u001b[0;34m.\u001b[0m\u001b[0m_cmysql\u001b[0m\u001b[0;34m.\u001b[0m\u001b[0mconnect\u001b[0m\u001b[0;34m(\u001b[0m\u001b[0;34m**\u001b[0m\u001b[0mcnx_kwargs\u001b[0m\u001b[0;34m)\u001b[0m\u001b[0;34m\u001b[0m\u001b[0;34m\u001b[0m\u001b[0m\n\u001b[1;32m    234\u001b[0m         \u001b[0;32mexcept\u001b[0m \u001b[0mMySQLInterfaceError\u001b[0m \u001b[0;32mas\u001b[0m \u001b[0mexc\u001b[0m\u001b[0;34m:\u001b[0m\u001b[0;34m\u001b[0m\u001b[0;34m\u001b[0m\u001b[0m\n\u001b[0;32m--> 235\u001b[0;31m             raise errors.get_mysql_exception(msg=exc.msg, errno=exc.errno,\n\u001b[0m\u001b[1;32m    236\u001b[0m                                              sqlstate=exc.sqlstate)\n\u001b[1;32m    237\u001b[0m \u001b[0;34m\u001b[0m\u001b[0m\n",
      "\u001b[0;31mDatabaseError\u001b[0m: 2003 (HY000): Can't connect to MySQL server on 'localhost' (61)"
     ]
    }
   ],
   "source": [
    "import mysql.connector as mysql\n",
    "\n",
    "# insert MySQL Database information here\n",
    "HOST = \"localhost\"\n",
    "DATABASE = \"\"\n",
    "USER = \"root\"\n",
    "PASSWORD = \"\"\n",
    "\n",
    "# connect to the database\n",
    "db_connection = mysql.connect(host=HOST, database=DATABASE, user=USER, password=PASSWORD)\n",
    "# get server information\n",
    "print(db_connection.get_server_info())\n",
    "#mycursor = mydb.cursor()\n",
    "\n",
    "#mycursor.execute(\"CREATE DATABASE movies CHARACTER SET utf8mb4 COLLATE utf8mb4_0900_ai_ci\")"
   ]
  },
  {
   "cell_type": "code",
   "execution_count": null,
   "metadata": {},
   "outputs": [],
   "source": []
  }
 ],
 "metadata": {
  "kernelspec": {
   "display_name": "Python 3",
   "language": "python",
   "name": "python3"
  },
  "language_info": {
   "codemirror_mode": {
    "name": "ipython",
    "version": 3
   },
   "file_extension": ".py",
   "mimetype": "text/x-python",
   "name": "python",
   "nbconvert_exporter": "python",
   "pygments_lexer": "ipython3",
   "version": "3.8.6"
  }
 },
 "nbformat": 4,
 "nbformat_minor": 2
}
