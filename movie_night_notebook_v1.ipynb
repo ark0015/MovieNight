{
 "cells": [
  {
   "cell_type": "code",
   "execution_count": 1,
   "metadata": {},
   "outputs": [],
   "source": [
    "%load_ext autoreload\n",
    "%autoreload 2"
   ]
  },
  {
   "cell_type": "code",
   "execution_count": 2,
   "metadata": {},
   "outputs": [],
   "source": [
    "import numpy as np\n",
    "import pandas\n",
    "import datetime\n",
    "from imdb import IMDb"
   ]
  },
  {
   "cell_type": "code",
   "execution_count": 3,
   "metadata": {},
   "outputs": [],
   "source": [
    "movies = pandas.read_csv('./Misc_Files/movies.csv')"
   ]
  },
  {
   "cell_type": "code",
   "execution_count": 4,
   "metadata": {},
   "outputs": [],
   "source": [
    "votes = pandas.read_csv('./Misc_Files/results.csv')"
   ]
  },
  {
   "cell_type": "code",
   "execution_count": 55,
   "metadata": {},
   "outputs": [
    {
     "data": {
      "text/html": [
       "<div>\n",
       "<style scoped>\n",
       "    .dataframe tbody tr th:only-of-type {\n",
       "        vertical-align: middle;\n",
       "    }\n",
       "\n",
       "    .dataframe tbody tr th {\n",
       "        vertical-align: top;\n",
       "    }\n",
       "\n",
       "    .dataframe thead th {\n",
       "        text-align: right;\n",
       "    }\n",
       "</style>\n",
       "<table border=\"1\" class=\"dataframe\">\n",
       "  <thead>\n",
       "    <tr style=\"text-align: right;\">\n",
       "      <th></th>\n",
       "      <th>HORROR</th>\n",
       "      <th>ROMANCE</th>\n",
       "      <th>ACTION</th>\n",
       "      <th>DRAMA (Pre-2010)</th>\n",
       "      <th>DRAMA (Post-2010)</th>\n",
       "      <th>SCIFI/Fantasy</th>\n",
       "      <th>\"ANIMATION\"</th>\n",
       "      <th>COMEDY</th>\n",
       "      <th>BAD MOVIES</th>\n",
       "      <th>DOCUMENTARY</th>\n",
       "    </tr>\n",
       "  </thead>\n",
       "  <tbody>\n",
       "    <tr>\n",
       "      <th>0</th>\n",
       "      <td>Save Yourself (2020)</td>\n",
       "      <td>Crazy Rich Asians (2018)</td>\n",
       "      <td>Raiders of the Lost Ark (1981)</td>\n",
       "      <td>The Lives of Others (2006)</td>\n",
       "      <td>Raw (2017)</td>\n",
       "      <td>Sorry to Bother You (2018)</td>\n",
       "      <td>Neo Tokyo (1987)</td>\n",
       "      <td>Big Trouble (2002)</td>\n",
       "      <td>Alien Apocalypse (2005)</td>\n",
       "      <td>Hearts and Minds (1974)</td>\n",
       "    </tr>\n",
       "    <tr>\n",
       "      <th>1</th>\n",
       "      <td>The Strangers (2008)</td>\n",
       "      <td>The Apartment (1960)</td>\n",
       "      <td>Goodfellas (1990)</td>\n",
       "      <td>Eraserhead (1977)</td>\n",
       "      <td>Short Term 12 (2013)</td>\n",
       "      <td>Star Trek IV the Voyage Home (1986)</td>\n",
       "      <td>Paprika (2006)</td>\n",
       "      <td>Good bye, Lenin (2004)</td>\n",
       "      <td>Escape From LA (1996)</td>\n",
       "      <td>Feels Good Man (2020)</td>\n",
       "    </tr>\n",
       "    <tr>\n",
       "      <th>2</th>\n",
       "      <td>Blackcoats Daughter (2017)</td>\n",
       "      <td>Never Look Away (2018)</td>\n",
       "      <td>Raiders of the Lost Ark (1981)</td>\n",
       "      <td>Amadeus (1984)</td>\n",
       "      <td>Raw (2017)</td>\n",
       "      <td>Infinity Chamber (2016)</td>\n",
       "      <td>Fantastic Planet (1973)</td>\n",
       "      <td>Thoroughbreds (2018)</td>\n",
       "      <td>Time Bandits (1981)</td>\n",
       "      <td>The Fog of War</td>\n",
       "    </tr>\n",
       "    <tr>\n",
       "      <th>3</th>\n",
       "      <td>You're Next (2011)</td>\n",
       "      <td>The Little Hours (2017)</td>\n",
       "      <td>US Marshals (1998)</td>\n",
       "      <td>Brokeback Mountain (2005)</td>\n",
       "      <td>She Dies Tomorrow (2020)</td>\n",
       "      <td>The Dead Zone (1983)</td>\n",
       "      <td>Cowboy Beebop: The Movie (2001)</td>\n",
       "      <td>Mystery Men (1999)</td>\n",
       "      <td>Time Bandits (1981)</td>\n",
       "      <td>Hearts and Minds (1974)</td>\n",
       "    </tr>\n",
       "    <tr>\n",
       "      <th>4</th>\n",
       "      <td>The Strangers (2008)</td>\n",
       "      <td>Dina (2017)</td>\n",
       "      <td>Ran (1985)</td>\n",
       "      <td>Children of Men (2006)</td>\n",
       "      <td>Cold War (2018)</td>\n",
       "      <td>Upstream Color (2013)</td>\n",
       "      <td>Jin-Roh: The Wolf Brigade (1999)</td>\n",
       "      <td>Dr. Horrible sing along blog</td>\n",
       "      <td>Tiptoes (2003)</td>\n",
       "      <td>Cocalero (2007)</td>\n",
       "    </tr>\n",
       "  </tbody>\n",
       "</table>\n",
       "</div>"
      ],
      "text/plain": [
       "                       HORROR                   ROMANCE  \\\n",
       "0        Save Yourself (2020)  Crazy Rich Asians (2018)   \n",
       "1        The Strangers (2008)      The Apartment (1960)   \n",
       "2  Blackcoats Daughter (2017)    Never Look Away (2018)   \n",
       "3          You're Next (2011)   The Little Hours (2017)   \n",
       "4        The Strangers (2008)               Dina (2017)   \n",
       "\n",
       "                           ACTION            DRAMA (Pre-2010)  \\\n",
       "0  Raiders of the Lost Ark (1981)  The Lives of Others (2006)   \n",
       "1               Goodfellas (1990)           Eraserhead (1977)   \n",
       "2  Raiders of the Lost Ark (1981)              Amadeus (1984)   \n",
       "3              US Marshals (1998)   Brokeback Mountain (2005)   \n",
       "4                      Ran (1985)      Children of Men (2006)   \n",
       "\n",
       "          DRAMA (Post-2010)                        SCIFI/Fantasy  \\\n",
       "0                Raw (2017)           Sorry to Bother You (2018)   \n",
       "1      Short Term 12 (2013)  Star Trek IV the Voyage Home (1986)   \n",
       "2                Raw (2017)              Infinity Chamber (2016)   \n",
       "3  She Dies Tomorrow (2020)                 The Dead Zone (1983)   \n",
       "4           Cold War (2018)                Upstream Color (2013)   \n",
       "\n",
       "                        \"ANIMATION\"                        COMEDY  \\\n",
       "0                  Neo Tokyo (1987)            Big Trouble (2002)   \n",
       "1                    Paprika (2006)        Good bye, Lenin (2004)   \n",
       "2           Fantastic Planet (1973)          Thoroughbreds (2018)   \n",
       "3   Cowboy Beebop: The Movie (2001)            Mystery Men (1999)   \n",
       "4  Jin-Roh: The Wolf Brigade (1999)  Dr. Horrible sing along blog   \n",
       "\n",
       "                BAD MOVIES              DOCUMENTARY  \n",
       "0  Alien Apocalypse (2005)  Hearts and Minds (1974)  \n",
       "1    Escape From LA (1996)    Feels Good Man (2020)  \n",
       "2      Time Bandits (1981)           The Fog of War  \n",
       "3      Time Bandits (1981)  Hearts and Minds (1974)  \n",
       "4           Tiptoes (2003)          Cocalero (2007)  "
      ]
     },
     "execution_count": 55,
     "metadata": {},
     "output_type": "execute_result"
    }
   ],
   "source": [
    "num_draws = 5\n",
    "movie_selection = pandas.DataFrame(data=None, index=None, columns=None, dtype=None, copy=False)\n",
    "#np.zeros((num_draws+1,10),dtype=str)\n",
    "for i,genre in enumerate(movies.keys()):\n",
    "    tally = 0\n",
    "    for movie in movies[genre]:\n",
    "        if isinstance(movie,str):\n",
    "            tally+=1\n",
    "    if tally != 0 and genre not in ['MISC','Should Probably be Previewed...']:\n",
    "        rand_choices = np.random.choice(tally,num_draws)\n",
    "        rand_movies = [rm for rm in movies[genre][rand_choices]]\n",
    "        movie_selection.insert(i, genre, rand_movies, allow_duplicates=False)\n",
    "movie_selection"
   ]
  },
  {
   "cell_type": "code",
   "execution_count": 7,
   "metadata": {},
   "outputs": [],
   "source": [
    "vote_groups = {}\n",
    "for dates,first,second,third,fourth in zip(votes['Timestamp'],votes['First Choice'],votes['Second Choice'],\n",
    "                                           votes['Third Choice'],votes['Fourth Choice']):\n",
    "    date = [int(d) for d in dates.split(' ')[0].split('/')]\n",
    "    time = [int(t) for t in dates.split(' ')[1].split(':')]\n",
    "    full_date = datetime.datetime(date[2], date[0], date[1], hour=time[0], minute=time[1], second=time[2])\n",
    "    if str(full_date.date()) not in vote_groups.keys():\n",
    "        vote_groups[str(full_date.date())] = {}\n",
    "    if first not in vote_groups[str(full_date.date())].keys():\n",
    "        vote_groups[str(full_date.date())][first]=1\n",
    "    else:\n",
    "        vote_groups[str(full_date.date())][first]+=1\n",
    "        \n",
    "    if second not in vote_groups[str(full_date.date())].keys():\n",
    "        vote_groups[str(full_date.date())][second]=1\n",
    "    else:\n",
    "        vote_groups[str(full_date.date())][second]+=1\n",
    "        \n",
    "    if third not in vote_groups[str(full_date.date())].keys():\n",
    "        vote_groups[str(full_date.date())][third]=1\n",
    "    else:\n",
    "        vote_groups[str(full_date.date())][third]+=1\n",
    "        \n",
    "    if fourth not in vote_groups[str(full_date.date())].keys():\n",
    "        vote_groups[str(full_date.date())][fourth]=1\n",
    "    else:\n",
    "        vote_groups[str(full_date.date())][fourth] += 1"
   ]
  },
  {
   "cell_type": "code",
   "execution_count": 8,
   "metadata": {},
   "outputs": [
    {
     "name": "stdout",
     "output_type": "stream",
     "text": [
      "dict_keys(['2020-05-23', '2020-05-30', '2020-06-13', '2020-06-20', '2020-06-27', '2020-07-11', '2020-07-25', '2020-08-01', '2020-08-08', '2020-08-29', '2020-09-05', '2020-09-12', '2020-09-14', '2020-09-19', '2020-09-26', '2020-10-03', '2020-10-10', '2020-10-17', '2020-10-24'])\n",
      "{'The Grudge (2004)': 1, 'My Name is Nobody (1973)': 2, 'Brick (2005)': 2, 'Kung Fury (2015)': 5, 'The Velocipastor (2018)': 8, 'Summer Wars (2009)': 4, 'Under the Tuscan Sun (2003)': 1, 'Free Solo (2018)': 1}\n"
     ]
    }
   ],
   "source": [
    "print(vote_groups.keys())\n",
    "print(vote_groups['2020-10-17'])"
   ]
  },
  {
   "cell_type": "code",
   "execution_count": 43,
   "metadata": {},
   "outputs": [
    {
     "name": "stdout",
     "output_type": "stream",
     "text": [
      "     Movies \t\t\t\t\t       Votes\n",
      "\n",
      "23\n",
      "The Velocipastor (2018) \t\t\t\t 8\n",
      "16\n",
      "Kung Fury (2015) \t\t\t\t\t 5\n",
      "18\n",
      "Summer Wars (2009) \t\t\t\t\t 4\n",
      "24\n",
      "My Name is Nobody (1973) \t\t\t\t 2\n",
      "12\n",
      "Brick (2005) \t\t\t\t\t\t 2\n",
      "17\n",
      "The Grudge (2004) \t\t\t\t\t 1\n",
      "27\n",
      "Under the Tuscan Sun (2003) \t\t\t\t 1\n",
      "16\n",
      "Free Solo (2018) \t\t\t\t\t 1\n"
     ]
    }
   ],
   "source": [
    "#day = str(datetime.date.today())\n",
    "day = '2020-10-17'\n",
    "sorted_votes = sorted(vote_groups[day].items(), key=lambda x: x[1], reverse=True)\n",
    "print('     Movies \\t\\t\\t\\t\\t       Votes')\n",
    "print('')\n",
    "for mov,vs in sorted_votes:\n",
    "    print(len(mov))\n",
    "    if len(mov) <= 5:\n",
    "        tabs = '\\t\\t\\t\\t\\t'\n",
    "    elif len(mov) >= 10 and len(mov) < 15:\n",
    "        tabs = '\\t\\t\\t\\t\\t\\t'\n",
    "    elif len(mov) >= 15 and len(mov) < 20:\n",
    "        tabs = '\\t\\t\\t\\t\\t'\n",
    "    elif len(mov) >= 20 and len(mov) < 25:\n",
    "        tabs = '\\t\\t\\t\\t'\n",
    "    elif len(mov) >= 25 and len(mov) < 30:\n",
    "        tabs = '\\t\\t\\t\\t'\n",
    "    elif len(mov) >= 30 and len(mov) < 35:\n",
    "        tabs = '\\t\\t\\t'\n",
    "    else:\n",
    "        tabs = '\\t\\t\\t'\n",
    "    print(mov,tabs,vs)"
   ]
  },
  {
   "cell_type": "code",
   "execution_count": null,
   "metadata": {},
   "outputs": [],
   "source": []
  }
 ],
 "metadata": {
  "kernelspec": {
   "display_name": "Python 3",
   "language": "python",
   "name": "python3"
  },
  "language_info": {
   "codemirror_mode": {
    "name": "ipython",
    "version": 3
   },
   "file_extension": ".py",
   "mimetype": "text/x-python",
   "name": "python",
   "nbconvert_exporter": "python",
   "pygments_lexer": "ipython3",
   "version": "3.8.6"
  }
 },
 "nbformat": 4,
 "nbformat_minor": 2
}
