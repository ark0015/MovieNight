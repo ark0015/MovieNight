{
 "cells": [
  {
   "cell_type": "code",
   "execution_count": null,
   "metadata": {},
   "outputs": [],
   "source": [
    "%load_ext autoreload\n",
    "%autoreload 2"
   ]
  },
  {
   "cell_type": "code",
   "execution_count": null,
   "metadata": {},
   "outputs": [],
   "source": [
    "import mysql\n",
    "import mysql.connector\n",
    "from sqlalchemy import create_engine\n",
    "from imdb import IMDb"
   ]
  },
  {
   "cell_type": "code",
   "execution_count": null,
   "metadata": {},
   "outputs": [],
   "source": [
    "mydb = mysql.connector.connect(\n",
    "  host=\"localhost\",\n",
    "  user=\"root\",\n",
    "  password=\"\"\n",
    ")\n",
    "\n",
    "mycursor = mydb.cursor()\n",
    "mycursor.execute(\"SHOW DATABASES\")\n",
    "\n",
    "for x in mycursor:\n",
    "  print(x) \n",
    "#mycursor.execute(\"CREATE DATABASE mahdatabase\")"
   ]
  },
  {
   "cell_type": "code",
   "execution_count": null,
   "metadata": {},
   "outputs": [],
   "source": [
    "# insert MySQL Database information here\n",
    "HOST = \"localhost\"\n",
    "DATABASE = \"mahdatabase\"\n",
    "USER = \"root\"\n",
    "PASSWORD = \"\"\n",
    "mydb = mysql.connector.connect(\n",
    "  host=HOST,\n",
    "  user=USER,\n",
    "  password=PASSWORD,\n",
    "  database=DATABASE\n",
    ")"
   ]
  },
  {
   "cell_type": "code",
   "execution_count": null,
   "metadata": {},
   "outputs": [],
   "source": [
    "# get server information\n",
    "print(mydb.user,mydb.server_host,mydb.server_port)"
   ]
  },
  {
   "cell_type": "code",
   "execution_count": null,
   "metadata": {},
   "outputs": [],
   "source": [
    "# get the db cursor\n",
    "cursor = mydb.cursor()\n",
    "# get database information\n",
    "cursor.execute(\"select database();\")\n",
    "database_name = cursor.fetchone()\n",
    "print(\"[+] You are connected to the database:\", database_name)"
   ]
  },
  {
   "cell_type": "code",
   "execution_count": null,
   "metadata": {},
   "outputs": [],
   "source": [
    "tsv_files_dir = './mahdatabase'"
   ]
  },
  {
   "cell_type": "code",
   "execution_count": null,
   "metadata": {},
   "outputs": [],
   "source": [
    "DATABSE_URI='mysql+mysqlconnector://{user}:{password}@{server}/{database}'.format(user=USER, password=PASSWORD, server=HOST, database=DATABASE)\n",
    "engine = create_engine(DATABSE_URI, encoding='utf-8', echo=True)\n",
    "s32imdbpy.metadata.bind = engine\n",
    "s32imdbpy.import_dir(tsv_files_dir, engine)"
   ]
  },
  {
   "cell_type": "code",
   "execution_count": null,
   "metadata": {},
   "outputs": [],
   "source": [
    "s32imdbpy.import_dir(tsv_files_dir, engine)"
   ]
  },
  {
   "cell_type": "code",
   "execution_count": null,
   "metadata": {},
   "outputs": [],
   "source": [
    "ia = IMDb('s3', DATABSE_URI)\n",
    "\n",
    "results = ia.search_movie('the matrix')\n",
    "for result in results:\n",
    "    print(result.movieID, result)\n",
    "\n",
    "matrix = results[0]\n",
    "ia.update(matrix)\n",
    "print(matrix.keys())"
   ]
  },
  {
   "cell_type": "code",
   "execution_count": null,
   "metadata": {},
   "outputs": [],
   "source": []
  }
 ],
 "metadata": {
  "kernelspec": {
   "display_name": "Python 3",
   "language": "python",
   "name": "python3"
  },
  "language_info": {
   "codemirror_mode": {
    "name": "ipython",
    "version": 3
   },
   "file_extension": ".py",
   "mimetype": "text/x-python",
   "name": "python",
   "nbconvert_exporter": "python",
   "pygments_lexer": "ipython3",
   "version": "3.8.12"
  }
 },
 "nbformat": 4,
 "nbformat_minor": 4
}
