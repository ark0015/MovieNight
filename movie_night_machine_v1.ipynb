{
 "cells": [
  {
   "cell_type": "code",
   "execution_count": 1,
   "metadata": {},
   "outputs": [],
   "source": [
    "%load_ext autoreload\n",
    "%autoreload 2"
   ]
  },
  {
   "cell_type": "code",
   "execution_count": 2,
   "metadata": {},
   "outputs": [],
   "source": [
    "import os,sys\n",
    "import numpy as np\n",
    "import matplotlib as mpl\n",
    "import matplotlib.pyplot as plt\n",
    "from cycler import cycler\n",
    "import tensorflow as tf\n",
    "import seaborn as sns\n",
    "import pandas\n",
    "import datetime\n",
    "from imdb import IMDb\n",
    "from mediawikiapi import MediaWikiAPI\n",
    "from tqdm import tqdm"
   ]
  },
  {
   "cell_type": "code",
   "execution_count": 3,
   "metadata": {},
   "outputs": [],
   "source": [
    "color_cycle_wong = ['#000000','#E69F00','#CC79A7','#56B4E9','#009E73','#0072B2','#F0E442','#D55E00']\n",
    "Six_color_cycle = [\"#5790FC\", \"#F89C20\", \"#E42536\", \"#964A8B\", \"#9C9CA1\", \"#7A21DD\"]\n",
    "Eight_color_cycle = [\"#1845FB\", \"#FF5E02\", \"#C91F16\", \"#C849A9\", \"#ADAD7D\", \"#86C8DD\", \"#578DFF\", \"#656364\"]\n",
    "Ten_color_cycle = [\"#3F90DA\", \"#FFA90E\", \"#BD1F01\", \"#94A4A2\", \"#832DB6\", \"#A96B59\", \"#E76300\", \"#B9AC70\", \"#717581\", \"#92DADD\"]\n",
    "mpl.rcParams['axes.prop_cycle'] = cycler(color=Six_color_cycle)"
   ]
  },
  {
   "cell_type": "code",
   "execution_count": 4,
   "metadata": {},
   "outputs": [],
   "source": [
    "movies = pandas.read_csv('./Misc_Files/movies.csv')\n",
    "#votes = pandas.read_csv('./Misc_Files/results.csv')"
   ]
  },
  {
   "cell_type": "code",
   "execution_count": 5,
   "metadata": {},
   "outputs": [
    {
     "data": {
      "text/plain": [
       "['List of films: A',\n",
       " 'List of films: B',\n",
       " 'List of films: C',\n",
       " 'List of films: D',\n",
       " 'List of films: E',\n",
       " 'List of films: F',\n",
       " 'List of films: G',\n",
       " 'List of films: H',\n",
       " 'List of films: I',\n",
       " 'List of films: J–K',\n",
       " 'List of films: L',\n",
       " 'List of films: M',\n",
       " 'List of films: N–O',\n",
       " 'List of films: P',\n",
       " 'List of films: Q–R',\n",
       " 'List of films: S',\n",
       " 'List of films: T',\n",
       " 'List of films: U–W',\n",
       " 'List of films: X–Z',\n",
       " 'List of films: numbers']"
      ]
     },
     "execution_count": 5,
     "metadata": {},
     "output_type": "execute_result"
    }
   ],
   "source": [
    "mediawikiapi = MediaWikiAPI()\n",
    "lists_of_films_page = mediawikiapi.page(\"Lists of films\")\n",
    "subpage_names = [subpage for subpage in lists_of_films_page.links if 'List of films:' in subpage]\n",
    "subpage_names"
   ]
  },
  {
   "cell_type": "code",
   "execution_count": 6,
   "metadata": {},
   "outputs": [
    {
     "name": "stdout",
     "output_type": "stream",
     "text": [
      "Error: <class 'mediawikiapi.exceptions.PageError'> on List of films: G\n",
      "Error: <class 'mediawikiapi.exceptions.PageError'> on List of films: H\n",
      "Error: <class 'mediawikiapi.exceptions.PageError'> on List of films: L\n",
      "(44768,)\n"
     ]
    }
   ],
   "source": [
    "lists_of_films = []\n",
    "for subpage in subpage_names:\n",
    "    try:\n",
    "        page = mediawikiapi.page(subpage)\n",
    "        lists_of_films.extend(page.links)\n",
    "    except:\n",
    "        e = sys.exc_info()[0]\n",
    "        print(f\"Error: {e} on {subpage}\")\n",
    "lists_of_films = np.asarray(lists_of_films)\n",
    "print(np.shape(lists_of_films))"
   ]
  },
  {
   "cell_type": "code",
   "execution_count": 7,
   "metadata": {},
   "outputs": [],
   "source": [
    "def get_movie_info(movie_name):\n",
    "    print(movie_name)\n",
    "    search_movie = ia.search_movie(movie_name)\n",
    "    if search_movie:\n",
    "        if search_movie[0]['kind'] in ['movie','video movie']:\n",
    "            imdb_movie = ia.get_movie(search_movie[0].movieID)\n",
    "        else:\n",
    "            i=1\n",
    "            try:\n",
    "                while search_movie[i]['kind'] != 'movie':\n",
    "                    i+=1\n",
    "                imdb_movie = ia.get_movie(search_movie[i].movieID)\n",
    "            except:\n",
    "                return 0.0\n",
    "        print(imdb_movie['title'], 'found.')\n",
    "        return imdb_movie\n",
    "    else:\n",
    "        return 0.0"
   ]
  },
  {
   "cell_type": "code",
   "execution_count": 8,
   "metadata": {},
   "outputs": [],
   "source": [
    "# create an instance of the IMDb class\n",
    "ia = IMDb()"
   ]
  },
  {
   "cell_type": "code",
   "execution_count": 9,
   "metadata": {},
   "outputs": [
    {
     "name": "stdout",
     "output_type": "stream",
     "text": [
      "Space Cop (2016)\n",
      "Space Cop found.\n"
     ]
    },
    {
     "data": {
      "text/plain": [
       "['Action', 'Comedy', 'Sci-Fi']"
      ]
     },
     "execution_count": 9,
     "metadata": {},
     "output_type": "execute_result"
    }
   ],
   "source": [
    "perp=get_movie_info('Space Cop (2016)')\n",
    "perp['genre']"
   ]
  },
  {
   "cell_type": "code",
   "execution_count": 10,
   "metadata": {},
   "outputs": [
    {
     "name": "stdout",
     "output_type": "stream",
     "text": [
      "['main', 'plot', 'synopsis']\n",
      "['Action', 'Comedy', 'Sci-Fi']\n",
      "['localized title', 'cast', 'genres', 'runtimes', 'countries', 'country codes', 'language codes', 'color info', 'aspect ratio', 'sound mix', 'box office', 'certificates', 'original air date', 'rating', 'votes', 'cover url', 'imdbID', 'plot outline', 'languages', 'title', 'year', 'kind', 'directors', 'writers', 'producers', 'composers', 'cinematographers', 'editors', 'sound department', 'visual effects', 'stunts', 'akas', 'writer', 'director', 'production companies', 'plot', 'canonical title', 'long imdb title', 'long imdb canonical title', 'smart canonical title', 'smart long imdb canonical title', 'full-size cover url']\n",
      "video movie\n"
     ]
    }
   ],
   "source": [
    "tmp = ia.search_movie('Space Cop (2016)')[0]\n",
    "burp = ia.get_movie(tmp.movieID)\n",
    "print(burp.current_info)\n",
    "print(burp['genre'])\n",
    "print(burp.keys())\n",
    "print(burp['kind'])"
   ]
  },
  {
   "cell_type": "markdown",
   "metadata": {},
   "source": [
    "DATA_URL = 'https://storage.googleapis.com/tensorflow/tf-keras-datasets/mnist.npz'\n",
    "\n",
    "path = tf.keras.utils.get_file('mnist.npz', DATA_URL)\n",
    "with np.load(path) as data:\n",
    "  train_examples = data['x_train']\n",
    "  train_labels = data['y_train']\n",
    "  test_examples = data['x_test']\n",
    "  test_labels = data['y_test']\n"
   ]
  },
  {
   "cell_type": "markdown",
   "metadata": {},
   "source": [
    "np.shape(train_examples)"
   ]
  },
  {
   "cell_type": "markdown",
   "metadata": {},
   "source": [
    "np.shape(train_labels)"
   ]
  },
  {
   "cell_type": "code",
   "execution_count": 11,
   "metadata": {},
   "outputs": [],
   "source": [
    "interesting_parameters = ['title','genres','year','languages','votes','runtimes','rating']"
   ]
  },
  {
   "cell_type": "code",
   "execution_count": 12,
   "metadata": {},
   "outputs": [
    {
     "data": {
      "text/plain": [
       "True"
      ]
     },
     "execution_count": 12,
     "metadata": {},
     "output_type": "execute_result"
    }
   ],
   "source": [
    "all(ip in burp.keys() for ip in interesting_parameters)"
   ]
  },
  {
   "cell_type": "code",
   "execution_count": 13,
   "metadata": {},
   "outputs": [],
   "source": [
    "def check_if_good_movie(imdb_movie,interesting_parameters):\n",
    "    if isinstance(imdb_movie,float):\n",
    "        return False\n",
    "    elif any(ip not in imdb_movie.keys() for ip in interesting_parameters):\n",
    "        return False\n",
    "    else:\n",
    "        if 'rating' in imdb_movie.keys():\n",
    "            if imdb_movie['rating'] == 0.:\n",
    "                 return False\n",
    "        else:\n",
    "            return False\n",
    "        if 'runtimes' in imdb_movie.keys():\n",
    "            if imdb_movie['runtimes'][0] == 0.:\n",
    "                 return False\n",
    "        else:\n",
    "            return False\n",
    "        if 'votes' in imdb_movie.keys():\n",
    "            if imdb_movie['votes'] < 500.:\n",
    "                 return False\n",
    "        else:\n",
    "            return False\n",
    "    return True\n",
    "def split_movie_name(movie_name):\n",
    "    if '(film)' in movie_name:\n",
    "        movie_name = movie_name.split('(film)')[0]\n",
    "    elif ' film' in movie_name:\n",
    "        movie_name = movie_name.split(' film)')[0] + ')'\n",
    "    return movie_name"
   ]
  },
  {
   "cell_type": "code",
   "execution_count": 14,
   "metadata": {
    "scrolled": true
   },
   "outputs": [
    {
     "name": "stdout",
     "output_type": "stream",
     "text": [
      "loading data...\n"
     ]
    }
   ],
   "source": [
    "save_data_file = './Misc_Files/imdb_movie_selection_v1.npy'\n",
    "add_data = False\n",
    "save_slice = 100\n",
    "if add_data:\n",
    "    if os.path.isfile(save_data_file):\n",
    "        movie_selection_text = np.load(save_data_file,allow_pickle=True)\n",
    "        movie_selection_text = pandas.DataFrame(loaded_data,columns=interesting_parameters)\n",
    "    else:\n",
    "        movie_selection_text = pandas.DataFrame(data=None, index=None, columns=interesting_parameters, dtype=None, copy=False)\n",
    "\n",
    "    num_movies = 1000\n",
    "    rand_movies = [split_movie_name(mn) for mn in np.random.choice(lists_of_films,num_movies,replace=False)]\n",
    "    for i,movie_name in enumerate(tqdm(rand_movies)):\n",
    "        imdb_movie = get_movie_info(movie_name)\n",
    "        good_movie = check_if_good_movie(imdb_movie)\n",
    "        while not good_movie:\n",
    "            #If something went wrong with the movie, pick a different one\n",
    "            rand_movies[i] = split_movie_name(np.random.choice(lists_of_films,1,replace=False)[0])\n",
    "            imdb_movie = get_movie_info(rand_movies[i])\n",
    "            good_movie = check_if_good_movie(imdb_movie)\n",
    "        row_insert = {}\n",
    "        for par in interesting_parameters:\n",
    "            if par in imdb_movie.keys():\n",
    "                if par in ['genres','director','languages']:\n",
    "                    row_insert[par] = str(imdb_movie[par][0])\n",
    "                elif par in ['runtimes']:\n",
    "                    row_insert[par] = float(imdb_movie[par][0])\n",
    "                else:\n",
    "                    row_insert[par] = imdb_movie[par]\n",
    "            else:\n",
    "                if par in ['title','genres','director','languages']:\n",
    "                    row_insert[par] = 'N/A'\n",
    "                else:\n",
    "                    row_insert[par] = 0.\n",
    "        if i == 0 and not os.path.isfile(save_data_file):\n",
    "            movie_selection_text = pandas.DataFrame([row_insert])\n",
    "        else:\n",
    "            movie_selection_text = movie_selection_text.append(row_insert,ignore_index=True)\n",
    "        if i%save_slice == 0 and i != 0:\n",
    "            print('')\n",
    "            print(f'Saving! i={i}')\n",
    "            print('')\n",
    "            np.save(save_data_file,movie_selection_text.to_numpy())\n",
    "    np.save(save_data_file,movie_selection_text.to_numpy())\n",
    "else:\n",
    "    print('loading data...')\n",
    "    loaded_data = np.load(save_data_file,allow_pickle=True)\n",
    "    movie_selection_text = pandas.DataFrame(loaded_data,columns=interesting_parameters)"
   ]
  },
  {
   "cell_type": "code",
   "execution_count": 15,
   "metadata": {},
   "outputs": [
    {
     "data": {
      "text/html": [
       "<div>\n",
       "<style scoped>\n",
       "    .dataframe tbody tr th:only-of-type {\n",
       "        vertical-align: middle;\n",
       "    }\n",
       "\n",
       "    .dataframe tbody tr th {\n",
       "        vertical-align: top;\n",
       "    }\n",
       "\n",
       "    .dataframe thead th {\n",
       "        text-align: right;\n",
       "    }\n",
       "</style>\n",
       "<table border=\"1\" class=\"dataframe\">\n",
       "  <thead>\n",
       "    <tr style=\"text-align: right;\">\n",
       "      <th></th>\n",
       "      <th>title</th>\n",
       "      <th>genres</th>\n",
       "      <th>year</th>\n",
       "      <th>languages</th>\n",
       "      <th>votes</th>\n",
       "      <th>runtimes</th>\n",
       "      <th>rating</th>\n",
       "    </tr>\n",
       "  </thead>\n",
       "  <tbody>\n",
       "    <tr>\n",
       "      <th>0</th>\n",
       "      <td>Tuscan Wedding</td>\n",
       "      <td>Comedy</td>\n",
       "      <td>2014</td>\n",
       "      <td>English</td>\n",
       "      <td>1790</td>\n",
       "      <td>104</td>\n",
       "      <td>5.2</td>\n",
       "    </tr>\n",
       "    <tr>\n",
       "      <th>1</th>\n",
       "      <td>The Four of the Apocalypse...</td>\n",
       "      <td>Fantasy</td>\n",
       "      <td>1975</td>\n",
       "      <td>Italian</td>\n",
       "      <td>2485</td>\n",
       "      <td>104</td>\n",
       "      <td>6.4</td>\n",
       "    </tr>\n",
       "    <tr>\n",
       "      <th>2</th>\n",
       "      <td>Knuckleball!</td>\n",
       "      <td>Documentary</td>\n",
       "      <td>2012</td>\n",
       "      <td>English</td>\n",
       "      <td>1686</td>\n",
       "      <td>93</td>\n",
       "      <td>7.1</td>\n",
       "    </tr>\n",
       "    <tr>\n",
       "      <th>3</th>\n",
       "      <td>The Farewell</td>\n",
       "      <td>Comedy</td>\n",
       "      <td>2019</td>\n",
       "      <td>Mandarin</td>\n",
       "      <td>56213</td>\n",
       "      <td>100</td>\n",
       "      <td>7.6</td>\n",
       "    </tr>\n",
       "    <tr>\n",
       "      <th>4</th>\n",
       "      <td>Johnny in the Clouds</td>\n",
       "      <td>Drama</td>\n",
       "      <td>1945</td>\n",
       "      <td>English</td>\n",
       "      <td>1441</td>\n",
       "      <td>109</td>\n",
       "      <td>7.3</td>\n",
       "    </tr>\n",
       "    <tr>\n",
       "      <th>...</th>\n",
       "      <td>...</td>\n",
       "      <td>...</td>\n",
       "      <td>...</td>\n",
       "      <td>...</td>\n",
       "      <td>...</td>\n",
       "      <td>...</td>\n",
       "      <td>...</td>\n",
       "    </tr>\n",
       "    <tr>\n",
       "      <th>5697</th>\n",
       "      <td>Summer Lovers</td>\n",
       "      <td>Comedy</td>\n",
       "      <td>1982</td>\n",
       "      <td>English</td>\n",
       "      <td>3971</td>\n",
       "      <td>98</td>\n",
       "      <td>5.7</td>\n",
       "    </tr>\n",
       "    <tr>\n",
       "      <th>5698</th>\n",
       "      <td>Matchstick Men</td>\n",
       "      <td>Comedy</td>\n",
       "      <td>2003</td>\n",
       "      <td>English</td>\n",
       "      <td>126764</td>\n",
       "      <td>116</td>\n",
       "      <td>7.3</td>\n",
       "    </tr>\n",
       "    <tr>\n",
       "      <th>5699</th>\n",
       "      <td>Sands of Iwo Jima</td>\n",
       "      <td>Action</td>\n",
       "      <td>1949</td>\n",
       "      <td>English</td>\n",
       "      <td>10065</td>\n",
       "      <td>100</td>\n",
       "      <td>7.1</td>\n",
       "    </tr>\n",
       "    <tr>\n",
       "      <th>5700</th>\n",
       "      <td>The Nutcracker</td>\n",
       "      <td>Family</td>\n",
       "      <td>1993</td>\n",
       "      <td>English</td>\n",
       "      <td>1968</td>\n",
       "      <td>92</td>\n",
       "      <td>5.8</td>\n",
       "    </tr>\n",
       "    <tr>\n",
       "      <th>5701</th>\n",
       "      <td>The Cassandra Crossing</td>\n",
       "      <td>Drama</td>\n",
       "      <td>1976</td>\n",
       "      <td>English</td>\n",
       "      <td>8407</td>\n",
       "      <td>129</td>\n",
       "      <td>6.4</td>\n",
       "    </tr>\n",
       "  </tbody>\n",
       "</table>\n",
       "<p>5702 rows × 7 columns</p>\n",
       "</div>"
      ],
      "text/plain": [
       "                              title       genres  year languages   votes  \\\n",
       "0                    Tuscan Wedding       Comedy  2014   English    1790   \n",
       "1     The Four of the Apocalypse...      Fantasy  1975   Italian    2485   \n",
       "2                      Knuckleball!  Documentary  2012   English    1686   \n",
       "3                      The Farewell       Comedy  2019  Mandarin   56213   \n",
       "4              Johnny in the Clouds        Drama  1945   English    1441   \n",
       "...                             ...          ...   ...       ...     ...   \n",
       "5697                  Summer Lovers       Comedy  1982   English    3971   \n",
       "5698                 Matchstick Men       Comedy  2003   English  126764   \n",
       "5699              Sands of Iwo Jima       Action  1949   English   10065   \n",
       "5700                 The Nutcracker       Family  1993   English    1968   \n",
       "5701         The Cassandra Crossing        Drama  1976   English    8407   \n",
       "\n",
       "     runtimes rating  \n",
       "0         104    5.2  \n",
       "1         104    6.4  \n",
       "2          93    7.1  \n",
       "3         100    7.6  \n",
       "4         109    7.3  \n",
       "...       ...    ...  \n",
       "5697       98    5.7  \n",
       "5698      116    7.3  \n",
       "5699      100    7.1  \n",
       "5700       92    5.8  \n",
       "5701      129    6.4  \n",
       "\n",
       "[5702 rows x 7 columns]"
      ]
     },
     "execution_count": 15,
     "metadata": {},
     "output_type": "execute_result"
    }
   ],
   "source": [
    "movie_selection_text"
   ]
  },
  {
   "cell_type": "markdown",
   "metadata": {},
   "source": [
    "### Convert `movie_selection_text` to numerical tensor\n",
    "* Convert strings to floats\n",
    "* Take out non-used column (title)\n",
    "* Take out solution column (rating) and make appropriate shape\n",
    "* Normalize columns\n",
    "* Convert Nx5 matrix to N_groups x 5 x (N_movies/N_groups)"
   ]
  },
  {
   "cell_type": "code",
   "execution_count": 16,
   "metadata": {},
   "outputs": [],
   "source": [
    "def normalize_cols(df):\n",
    "    normed_df = df.copy()\n",
    "    for key in normed_df.keys():\n",
    "        normed_df[key] = normed_df[key]  / normed_df[key].abs().max()\n",
    "    return normed_df"
   ]
  },
  {
   "cell_type": "code",
   "execution_count": 17,
   "metadata": {},
   "outputs": [],
   "source": [
    "genre_map = {genre:float(i) for i,genre in enumerate(movie_selection_text['genres'].value_counts().keys())}\n",
    "language_map = {lang:float(i) for i,lang in enumerate(movie_selection_text['languages'].value_counts().keys())}"
   ]
  },
  {
   "cell_type": "code",
   "execution_count": 37,
   "metadata": {},
   "outputs": [],
   "source": [
    "movie_num_map = movie_selection_text.copy()\n",
    "movie_num_map = movie_num_map.replace(to_replace=genre_map)\n",
    "movie_num_map = movie_num_map.replace(to_replace=language_map)\n",
    "movie_num_map.pop('title')\n",
    "\n",
    "target = movie_num_map.pop('rating')\n",
    "movie_num_map[\"runtimes\"] = pandas.to_numeric(movie_num_map[\"runtimes\"])\n",
    "movie_num_map = normalize_cols(movie_num_map)"
   ]
  },
  {
   "cell_type": "code",
   "execution_count": 38,
   "metadata": {},
   "outputs": [
    {
     "name": "stdout",
     "output_type": "stream",
     "text": [
      "trimmed 2 movies.\n",
      "(5, 1140)\n",
      "(1140,)\n",
      "(1140, 5, 5)\n"
     ]
    }
   ],
   "source": [
    "n_groups = 5\n",
    "trimmed_movies = (np.shape(movie_num_map)[0]%n_groups)\n",
    "movie_num_map = movie_num_map.to_numpy()\n",
    "print(f'trimmed {trimmed_movies} movies.')\n",
    "movie_num_map = movie_num_map[:-trimmed_movies].reshape(-1,n_groups,\n",
    "                                                        np.shape(movie_num_map)[1])\n",
    "target = target.to_numpy()\n",
    "target = target[:-trimmed_movies].reshape(n_groups,-1)\n",
    "winners = np.asarray([np.where(target[:,t]==np.max(target[:,t]))[0][0] for t in range(np.shape(target)[1])]).astype(np.int32)\n",
    "winners = winners.astype(np.int32)\n",
    "print(np.shape(target))\n",
    "print(np.shape(winners))\n",
    "print(np.shape(movie_num_map))\n",
    "#movie_num_map.shape()"
   ]
  },
  {
   "cell_type": "code",
   "execution_count": 39,
   "metadata": {},
   "outputs": [
    {
     "data": {
      "text/plain": [
       "(1140,)"
      ]
     },
     "execution_count": 39,
     "metadata": {},
     "output_type": "execute_result"
    }
   ],
   "source": [
    "winners.shape"
   ]
  },
  {
   "cell_type": "markdown",
   "metadata": {},
   "source": [
    "# TensorFlow Start"
   ]
  },
  {
   "cell_type": "code",
   "execution_count": 40,
   "metadata": {
    "scrolled": true
   },
   "outputs": [],
   "source": [
    "#movie_num_map = tf.convert_to_tensor(movie_num_map)\n",
    "movie_num_map = tf.data.Dataset.from_tensor_slices((movie_num_map, winners))\n",
    "movie_num_map = movie_num_map.shuffle(5000).batch(32)\n",
    "\n",
    "#movie_num_map = movie_num_map.shuffle(5000).batch(10)\n",
    "\n",
    "#movie_num_map[0]"
   ]
  },
  {
   "cell_type": "code",
   "execution_count": 41,
   "metadata": {},
   "outputs": [
    {
     "data": {
      "text/plain": [
       "(TensorSpec(shape=(None, 5, 5), dtype=tf.float64, name=None),\n",
       " TensorSpec(shape=(None,), dtype=tf.int32, name=None))"
      ]
     },
     "execution_count": 41,
     "metadata": {},
     "output_type": "execute_result"
    }
   ],
   "source": [
    "movie_num_map.element_spec"
   ]
  },
  {
   "cell_type": "code",
   "execution_count": 42,
   "metadata": {},
   "outputs": [
    {
     "name": "stdout",
     "output_type": "stream",
     "text": [
      "(32, 5, 5) [1 3 3 0 3 3 2 3 3 1 3 3 3 0 0 0 4 3 2 1 0 4 1 2 3 2 3 2 3 2 3 2]\n",
      "(32, 5, 5) [2 4 0 2 3 4 0 3 1 1 1 1 2 1 0 4 1 4 0 2 0 1 1 1 1 4 0 2 3 0 0 4]\n",
      "(32, 5, 5) [3 2 0 3 0 1 4 3 2 1 0 1 3 0 0 0 0 2 4 2 3 4 4 4 4 1 1 2 4 1 1 0]\n",
      "(32, 5, 5) [0 0 3 0 0 2 1 2 3 4 1 0 3 2 0 1 2 0 4 1 3 0 0 3 2 4 1 2 3 4 0 1]\n",
      "(32, 5, 5) [0 0 1 2 2 4 3 0 0 2 3 2 1 1 2 4 3 1 4 3 0 1 0 1 3 1 3 3 3 2 2 3]\n",
      "(32, 5, 5) [4 0 2 3 1 2 1 3 1 4 1 0 2 2 1 0 0 4 2 4 2 3 0 1 2 1 4 2 1 4 1 2]\n",
      "(32, 5, 5) [1 0 3 0 1 1 3 1 1 2 0 3 3 0 4 1 1 4 4 4 1 3 4 1 2 3 0 4 2 1 4 1]\n",
      "(32, 5, 5) [2 4 1 3 0 4 0 2 4 3 1 3 1 1 0 1 2 3 3 1 2 3 0 2 0 1 1 2 4 1 3 2]\n",
      "(32, 5, 5) [3 4 3 0 2 4 2 4 3 2 2 3 2 1 1 2 4 3 0 0 4 0 4 3 1 1 3 2 3 1 4 0]\n",
      "(32, 5, 5) [4 0 2 0 2 2 2 4 1 2 2 0 2 1 3 0 0 1 0 1 0 1 1 0 1 4 0 2 0 0 1 0]\n",
      "(32, 5, 5) [1 0 0 0 2 3 1 0 4 1 0 2 0 3 0 3 4 3 1 3 3 4 1 3 0 0 4 1 0 1 1 3]\n",
      "(32, 5, 5) [1 1 1 2 3 0 0 1 3 3 4 1 2 2 2 4 4 0 4 0 0 4 4 0 4 1 0 4 2 2 3 1]\n",
      "(32, 5, 5) [1 4 2 1 2 4 1 2 0 0 4 0 2 3 0 4 0 4 0 1 3 4 0 2 1 3 4 2 3 1 2 2]\n",
      "(32, 5, 5) [3 3 0 2 2 3 4 1 0 0 1 1 2 4 1 0 2 2 4 3 2 3 4 2 4 1 2 0 3 1 1 2]\n",
      "(32, 5, 5) [0 3 0 2 3 2 0 0 4 2 0 0 1 0 2 3 1 0 2 3 3 3 1 4 1 2 4 2 0 3 3 2]\n",
      "(32, 5, 5) [2 1 0 3 4 0 1 3 3 1 3 2 2 2 4 1 0 1 3 2 3 2 3 1 4 0 3 3 2 3 1 1]\n",
      "(32, 5, 5) [1 0 4 3 4 0 2 0 2 3 0 2 3 3 0 1 1 0 1 0 4 1 3 4 3 2 1 0 1 4 2 1]\n",
      "(32, 5, 5) [1 1 3 0 1 0 4 2 4 2 2 0 4 4 1 3 0 0 0 4 2 0 0 4 0 1 3 4 2 4 4 0]\n",
      "(32, 5, 5) [1 2 4 1 0 2 2 1 4 1 2 0 1 0 0 3 0 2 4 2 2 0 2 2 3 0 2 0 4 2 4 3]\n",
      "(32, 5, 5) [1 2 2 2 2 2 2 1 3 2 3 0 1 4 0 0 4 4 0 1 2 3 0 1 2 1 4 1 1 1 1 1]\n",
      "(32, 5, 5) [1 2 3 3 1 2 4 0 0 0 4 4 2 0 2 3 2 3 3 3 1 2 4 2 0 0 2 3 4 4 0 2]\n",
      "(32, 5, 5) [1 4 0 1 0 4 2 1 1 1 1 0 1 2 0 3 1 2 3 4 3 3 0 4 0 1 2 4 3 4 1 3]\n",
      "(32, 5, 5) [1 4 4 4 3 0 3 0 1 4 0 1 1 4 1 2 2 2 3 4 3 3 4 3 4 2 0 2 0 0 1 1]\n",
      "(32, 5, 5) [4 1 0 4 4 3 3 2 2 4 0 4 4 0 2 3 1 4 0 4 1 4 0 3 1 0 0 3 2 2 4 3]\n",
      "(32, 5, 5) [0 0 3 0 1 1 4 3 1 0 0 1 0 3 2 0 3 2 3 3 1 0 0 3 1 4 2 3 4 0 2 2]\n",
      "(32, 5, 5) [3 0 2 3 3 3 0 0 3 2 3 0 1 2 1 0 3 1 0 3 1 1 2 4 3 4 4 4 4 0 2 3]\n",
      "(32, 5, 5) [0 2 1 4 0 2 3 2 0 1 3 3 0 1 1 1 1 4 2 1 3 0 0 2 0 3 3 1 1 0 0 2]\n",
      "(32, 5, 5) [2 1 3 0 3 3 1 0 3 3 0 1 0 3 0 2 1 3 1 2 0 1 3 0 1 0 4 2 0 3 3 2]\n",
      "(32, 5, 5) [3 1 0 0 2 4 0 3 4 3 0 4 3 0 1 1 2 2 4 2 4 3 1 2 1 3 4 2 1 1 4 0]\n",
      "(32, 5, 5) [0 0 1 1 2 0 1 1 1 1 3 3 1 0 0 0 4 3 3 1 3 3 3 4 1 1 4 1 3 0 4 2]\n",
      "(32, 5, 5) [1 4 1 2 1 3 2 4 2 4 2 0 2 1 1 0 1 2 4 1 4 3 4 1 3 0 3 0 0 2 3 0]\n",
      "(32, 5, 5) [3 1 1 2 1 0 2 1 0 1 0 4 3 3 1 1 1 1 1 0 2 3 3 2 4 0 4 1 4 3 4 1]\n",
      "(32, 5, 5) [1 4 4 2 2 2 3 4 4 4 3 1 0 2 0 3 2 0 4 0 3 1 4 1 0 3 0 3 4 3 1 0]\n",
      "(32, 5, 5) [0 1 3 0 4 3 2 2 4 4 0 1 3 0 2 1 1 2 2 0 2 4 1 3 2 0 2 4 2 3 1 3]\n",
      "(32, 5, 5) [1 4 4 0 0 0 2 3 0 4 2 0 0 0 4 4 1 4 0 3 1 3 3 3 2 1 2 2 2 2 3 0]\n",
      "(20, 5, 5) [1 2 4 0 4 1 3 3 1 4 1 3 4 2 3 2 0 0 2 1]\n"
     ]
    }
   ],
   "source": [
    "for asdf in movie_num_map.as_numpy_iterator():\n",
    "    print(np.shape(asdf[0]),asdf[1])"
   ]
  },
  {
   "cell_type": "code",
   "execution_count": null,
   "metadata": {},
   "outputs": [],
   "source": []
  },
  {
   "cell_type": "code",
   "execution_count": 45,
   "metadata": {},
   "outputs": [
    {
     "name": "stdout",
     "output_type": "stream",
     "text": [
      "Epoch 1/100\n",
      "20/20 [==============================] - 0s 1ms/step - loss: 2.0416 - accuracy: 0.1641\n",
      "Epoch 2/100\n",
      "20/20 [==============================] - 0s 1ms/step - loss: 1.6503 - accuracy: 0.2182\n",
      "Epoch 3/100\n",
      "20/20 [==============================] - 0s 1ms/step - loss: 1.6212 - accuracy: 0.2406\n",
      "Epoch 4/100\n",
      "20/20 [==============================] - 0s 2ms/step - loss: 1.6207 - accuracy: 0.2006\n",
      "Epoch 5/100\n",
      "20/20 [==============================] - 0s 1ms/step - loss: 1.6160 - accuracy: 0.2313\n",
      "Epoch 6/100\n",
      "20/20 [==============================] - 0s 2ms/step - loss: 1.6124 - accuracy: 0.2373\n",
      "Epoch 7/100\n",
      "20/20 [==============================] - 0s 1ms/step - loss: 1.6225 - accuracy: 0.2359\n",
      "Epoch 8/100\n",
      "20/20 [==============================] - 0s 2ms/step - loss: 1.6082 - accuracy: 0.2484\n",
      "Epoch 9/100\n",
      "20/20 [==============================] - 0s 1ms/step - loss: 1.6136 - accuracy: 0.2357\n",
      "Epoch 10/100\n",
      "20/20 [==============================] - 0s 1ms/step - loss: 1.6135 - accuracy: 0.2203\n",
      "Epoch 11/100\n",
      "20/20 [==============================] - 0s 1ms/step - loss: 1.5951 - accuracy: 0.2436\n",
      "Epoch 12/100\n",
      "20/20 [==============================] - 0s 1ms/step - loss: 1.6027 - accuracy: 0.2313\n",
      "Epoch 13/100\n",
      "20/20 [==============================] - 0s 2ms/step - loss: 1.6002 - accuracy: 0.2516\n",
      "Epoch 14/100\n",
      "20/20 [==============================] - 0s 1ms/step - loss: 1.6060 - accuracy: 0.2438\n",
      "Epoch 15/100\n",
      "20/20 [==============================] - 0s 2ms/step - loss: 1.5983 - accuracy: 0.2373\n",
      "Epoch 16/100\n",
      "20/20 [==============================] - 0s 1ms/step - loss: 1.5933 - accuracy: 0.2531\n",
      "Epoch 17/100\n",
      "20/20 [==============================] - 0s 2ms/step - loss: 1.6017 - accuracy: 0.2389\n",
      "Epoch 18/100\n",
      "20/20 [==============================] - 0s 1ms/step - loss: 1.6064 - accuracy: 0.2436\n",
      "Epoch 19/100\n",
      "20/20 [==============================] - 0s 2ms/step - loss: 1.5960 - accuracy: 0.2281\n",
      "Epoch 20/100\n",
      "20/20 [==============================] - 0s 2ms/step - loss: 1.5974 - accuracy: 0.2691\n",
      "Epoch 21/100\n",
      "20/20 [==============================] - 0s 2ms/step - loss: 1.5938 - accuracy: 0.2469\n",
      "Epoch 22/100\n",
      "20/20 [==============================] - 0s 2ms/step - loss: 1.6067 - accuracy: 0.2245\n",
      "Epoch 23/100\n",
      "20/20 [==============================] - 0s 1ms/step - loss: 1.6054 - accuracy: 0.2562\n",
      "Epoch 24/100\n",
      "20/20 [==============================] - 0s 2ms/step - loss: 1.5926 - accuracy: 0.2309\n",
      "Epoch 25/100\n",
      "20/20 [==============================] - 0s 1ms/step - loss: 1.6069 - accuracy: 0.2516\n",
      "Epoch 26/100\n",
      "20/20 [==============================] - 0s 1ms/step - loss: 1.5952 - accuracy: 0.2516\n",
      "Epoch 27/100\n",
      "20/20 [==============================] - 0s 1ms/step - loss: 1.5942 - accuracy: 0.2564\n",
      "Epoch 28/100\n",
      "20/20 [==============================] - 0s 1ms/step - loss: 1.6026 - accuracy: 0.2547\n",
      "Epoch 29/100\n",
      "20/20 [==============================] - 0s 1ms/step - loss: 1.5965 - accuracy: 0.2516\n",
      "Epoch 30/100\n",
      "20/20 [==============================] - 0s 1ms/step - loss: 1.5971 - accuracy: 0.2734\n",
      "Epoch 31/100\n",
      "20/20 [==============================] - 0s 1ms/step - loss: 1.5916 - accuracy: 0.2404\n",
      "Epoch 32/100\n",
      "20/20 [==============================] - 0s 1ms/step - loss: 1.5974 - accuracy: 0.2469\n",
      "Epoch 33/100\n",
      "20/20 [==============================] - 0s 2ms/step - loss: 1.5928 - accuracy: 0.2229\n",
      "Epoch 34/100\n",
      "20/20 [==============================] - 0s 1ms/step - loss: 1.5929 - accuracy: 0.2469\n",
      "Epoch 35/100\n",
      "20/20 [==============================] - 0s 2ms/step - loss: 1.5965 - accuracy: 0.2532\n",
      "Epoch 36/100\n",
      "20/20 [==============================] - 0s 1ms/step - loss: 1.5910 - accuracy: 0.2564\n",
      "Epoch 37/100\n",
      "20/20 [==============================] - 0s 1ms/step - loss: 1.5799 - accuracy: 0.2688\n",
      "Epoch 38/100\n",
      "20/20 [==============================] - 0s 1ms/step - loss: 1.5807 - accuracy: 0.2516\n",
      "Epoch 39/100\n",
      "20/20 [==============================] - 0s 1ms/step - loss: 1.5961 - accuracy: 0.2578\n",
      "Epoch 40/100\n",
      "20/20 [==============================] - 0s 1ms/step - loss: 1.5888 - accuracy: 0.2596\n",
      "Epoch 41/100\n",
      "20/20 [==============================] - 0s 1ms/step - loss: 1.5861 - accuracy: 0.2719\n",
      "Epoch 42/100\n",
      "20/20 [==============================] - 0s 2ms/step - loss: 1.5944 - accuracy: 0.2723\n",
      "Epoch 43/100\n",
      "20/20 [==============================] - 0s 1ms/step - loss: 1.5952 - accuracy: 0.2578\n",
      "Epoch 44/100\n",
      "20/20 [==============================] - 0s 1ms/step - loss: 1.5877 - accuracy: 0.2611\n",
      "Epoch 45/100\n",
      "20/20 [==============================] - 0s 1ms/step - loss: 1.5848 - accuracy: 0.2564\n",
      "Epoch 46/100\n",
      "20/20 [==============================] - 0s 1ms/step - loss: 1.5830 - accuracy: 0.2562\n",
      "Epoch 47/100\n",
      "20/20 [==============================] - 0s 2ms/step - loss: 1.5890 - accuracy: 0.2596\n",
      "Epoch 48/100\n",
      "20/20 [==============================] - 0s 1ms/step - loss: 1.5974 - accuracy: 0.2562\n",
      "Epoch 49/100\n",
      "20/20 [==============================] - 0s 2ms/step - loss: 1.5802 - accuracy: 0.2739\n",
      "Epoch 50/100\n",
      "20/20 [==============================] - 0s 1ms/step - loss: 1.5915 - accuracy: 0.2578\n",
      "Epoch 51/100\n",
      "20/20 [==============================] - 0s 2ms/step - loss: 1.6003 - accuracy: 0.2166\n",
      "Epoch 52/100\n",
      "20/20 [==============================] - 0s 1ms/step - loss: 1.5890 - accuracy: 0.2313\n",
      "Epoch 53/100\n",
      "20/20 [==============================] - 0s 2ms/step - loss: 1.6021 - accuracy: 0.2452\n",
      "Epoch 54/100\n",
      "20/20 [==============================] - 0s 1ms/step - loss: 1.5762 - accuracy: 0.2389\n",
      "Epoch 55/100\n",
      "20/20 [==============================] - 0s 1ms/step - loss: 1.5852 - accuracy: 0.2547\n",
      "Epoch 56/100\n",
      "20/20 [==============================] - 0s 2ms/step - loss: 1.5880 - accuracy: 0.2564\n",
      "Epoch 57/100\n",
      "20/20 [==============================] - 0s 2ms/step - loss: 1.5813 - accuracy: 0.2391\n",
      "Epoch 58/100\n",
      "20/20 [==============================] - 0s 2ms/step - loss: 1.5810 - accuracy: 0.2611\n",
      "Epoch 59/100\n",
      "20/20 [==============================] - 0s 1ms/step - loss: 1.5845 - accuracy: 0.2625\n",
      "Epoch 60/100\n",
      "20/20 [==============================] - 0s 1ms/step - loss: 1.5949 - accuracy: 0.2564\n",
      "Epoch 61/100\n",
      "20/20 [==============================] - 0s 1ms/step - loss: 1.6061 - accuracy: 0.2406\n",
      "Epoch 62/100\n",
      "20/20 [==============================] - 0s 1ms/step - loss: 1.5925 - accuracy: 0.2452\n",
      "Epoch 63/100\n",
      "20/20 [==============================] - 0s 1ms/step - loss: 1.5774 - accuracy: 0.2771\n",
      "Epoch 64/100\n",
      "20/20 [==============================] - 0s 1ms/step - loss: 1.5947 - accuracy: 0.2547\n",
      "Epoch 65/100\n",
      "20/20 [==============================] - 0s 1ms/step - loss: 1.5780 - accuracy: 0.2580\n",
      "Epoch 66/100\n",
      "20/20 [==============================] - 0s 1ms/step - loss: 1.5737 - accuracy: 0.2719\n",
      "Epoch 67/100\n",
      "20/20 [==============================] - 0s 1ms/step - loss: 1.6052 - accuracy: 0.2420\n",
      "Epoch 68/100\n",
      "20/20 [==============================] - 0s 1ms/step - loss: 1.5821 - accuracy: 0.2594\n",
      "Epoch 69/100\n",
      "20/20 [==============================] - 0s 1ms/step - loss: 1.5822 - accuracy: 0.2675\n",
      "Epoch 70/100\n",
      "20/20 [==============================] - 0s 1ms/step - loss: 1.5826 - accuracy: 0.2672\n",
      "Epoch 71/100\n",
      "20/20 [==============================] - 0s 1ms/step - loss: 1.5988 - accuracy: 0.2818\n",
      "Epoch 72/100\n",
      "20/20 [==============================] - 0s 1ms/step - loss: 1.5960 - accuracy: 0.2532\n",
      "Epoch 73/100\n",
      "20/20 [==============================] - 0s 1ms/step - loss: 1.5847 - accuracy: 0.2484\n",
      "Epoch 74/100\n",
      "20/20 [==============================] - 0s 2ms/step - loss: 1.5987 - accuracy: 0.2166\n",
      "Epoch 75/100\n",
      "20/20 [==============================] - 0s 1ms/step - loss: 1.5957 - accuracy: 0.2547\n",
      "Epoch 76/100\n",
      "20/20 [==============================] - 0s 1ms/step - loss: 1.5941 - accuracy: 0.2532\n",
      "Epoch 77/100\n",
      "20/20 [==============================] - 0s 1ms/step - loss: 1.5887 - accuracy: 0.2438\n",
      "Epoch 78/100\n",
      "20/20 [==============================] - 0s 1ms/step - loss: 1.5932 - accuracy: 0.2675\n",
      "Epoch 79/100\n",
      "20/20 [==============================] - 0s 1ms/step - loss: 1.5972 - accuracy: 0.2266\n",
      "Epoch 80/100\n",
      "20/20 [==============================] - 0s 2ms/step - loss: 1.5894 - accuracy: 0.2452\n",
      "Epoch 81/100\n",
      "20/20 [==============================] - 0s 1ms/step - loss: 1.5890 - accuracy: 0.2500\n",
      "Epoch 82/100\n",
      "20/20 [==============================] - 0s 1ms/step - loss: 1.5888 - accuracy: 0.2594\n",
      "Epoch 83/100\n"
     ]
    },
    {
     "name": "stdout",
     "output_type": "stream",
     "text": [
      "20/20 [==============================] - 0s 1ms/step - loss: 1.5743 - accuracy: 0.2691\n",
      "Epoch 84/100\n",
      "20/20 [==============================] - 0s 1ms/step - loss: 1.6051 - accuracy: 0.2359\n",
      "Epoch 85/100\n",
      "20/20 [==============================] - 0s 1ms/step - loss: 1.5736 - accuracy: 0.2755\n",
      "Epoch 86/100\n",
      "20/20 [==============================] - 0s 1ms/step - loss: 1.5925 - accuracy: 0.2531\n",
      "Epoch 87/100\n",
      "20/20 [==============================] - 0s 2ms/step - loss: 1.5879 - accuracy: 0.2389\n",
      "Epoch 88/100\n",
      "20/20 [==============================] - 0s 2ms/step - loss: 1.5770 - accuracy: 0.2703\n",
      "Epoch 89/100\n",
      "20/20 [==============================] - 0s 2ms/step - loss: 1.6070 - accuracy: 0.2420\n",
      "Epoch 90/100\n",
      "20/20 [==============================] - 0s 2ms/step - loss: 1.5822 - accuracy: 0.2659\n",
      "Epoch 91/100\n",
      "20/20 [==============================] - 0s 1ms/step - loss: 1.5789 - accuracy: 0.2828\n",
      "Epoch 92/100\n",
      "20/20 [==============================] - 0s 2ms/step - loss: 1.5853 - accuracy: 0.2500\n",
      "Epoch 93/100\n",
      "20/20 [==============================] - 0s 1ms/step - loss: 1.5816 - accuracy: 0.2578\n",
      "Epoch 94/100\n",
      "20/20 [==============================] - 0s 2ms/step - loss: 1.5874 - accuracy: 0.2420\n",
      "Epoch 95/100\n",
      "20/20 [==============================] - 0s 1ms/step - loss: 1.5894 - accuracy: 0.2344\n",
      "Epoch 96/100\n",
      "20/20 [==============================] - 0s 2ms/step - loss: 1.5779 - accuracy: 0.2532\n",
      "Epoch 97/100\n",
      "20/20 [==============================] - 0s 1ms/step - loss: 1.5795 - accuracy: 0.2562\n",
      "Epoch 98/100\n",
      "20/20 [==============================] - 0s 1ms/step - loss: 1.5859 - accuracy: 0.2420\n",
      "Epoch 99/100\n",
      "20/20 [==============================] - 0s 1ms/step - loss: 1.5819 - accuracy: 0.2516\n",
      "Epoch 100/100\n",
      "20/20 [==============================] - 0s 1ms/step - loss: 1.5851 - accuracy: 0.2516\n",
      "Model: \"sequential_4\"\n",
      "_________________________________________________________________\n",
      "Layer (type)                 Output Shape              Param #   \n",
      "=================================================================\n",
      "flatten_4 (Flatten)          (None, 25)                0         \n",
      "_________________________________________________________________\n",
      "dense_8 (Dense)              (None, 128)               3328      \n",
      "_________________________________________________________________\n",
      "dense_9 (Dense)              (None, 50)                6450      \n",
      "_________________________________________________________________\n",
      "dense_10 (Dense)             (None, 10)                510       \n",
      "=================================================================\n",
      "Total params: 10,288\n",
      "Trainable params: 10,288\n",
      "Non-trainable params: 0\n",
      "_________________________________________________________________\n"
     ]
    }
   ],
   "source": [
    "model = tf.keras.Sequential([tf.keras.layers.Flatten(),\n",
    "                             tf.keras.layers.Dense(128),\n",
    "                             tf.keras.layers.Dense(50),\n",
    "                             tf.keras.layers.Dense(10)])\n",
    "model.compile(optimizer='adam',\n",
    "              loss=tf.keras.losses.SparseCategoricalCrossentropy(from_logits=True),\n",
    "              metrics=['accuracy'])\n",
    "#model.fit(movie_num_map.repeat(), epochs=2, steps_per_epoch=20)\n",
    "history = model.fit(movie_num_map.repeat(), epochs=100, verbose=True, steps_per_epoch=20)\n",
    "model.summary()"
   ]
  },
  {
   "cell_type": "code",
   "execution_count": null,
   "metadata": {},
   "outputs": [],
   "source": [
    "model = tf.keras.Sequential([tf.keras.layers.Flatten(input_shape=(10,5,1),\n",
    "                             #tf.keras.layers.Dense(10, activation='relu'),\n",
    "                             tf.keras.layers.Dense(10, activation = tf.keras.activations.softmax)])\n",
    "model = tf.keras.Sequential([\n",
    "    tf.keras.layers.Flatten(input_shape=(28, 28, 1)),\n",
    "    tf.keras.layers.Dense(128, activation=tf.nn.relu),\n",
    "    tf.keras.layers.Dense(10, activation=tf.nn.softmax)\n",
    "])\n",
    "model.compile(optimizer='adam',\n",
    "              loss=tf.keras.losses.SparseCategoricalCrossentropy(from_logits=True),\n",
    "              metrics=['accuracy'])\n",
    "model.summary()"
   ]
  },
  {
   "cell_type": "code",
   "execution_count": null,
   "metadata": {},
   "outputs": [],
   "source": [
    "#BATCH_SIZE = 32\n",
    "#train_dataset = train_dataset.cache().repeat().shuffle(num_train_examples).batch(BATCH_SIZE)\n",
    "#test_dataset = test_dataset.cache().batch(BATCH_SIZE)\n",
    "#model.fit(train_dataset, epochs=5, steps_per_epoch=math.ceil(num_train_examples/BATCH_SIZE))\n",
    "history = model.fit(movie_num_map, epochs=100, verbose=True)"
   ]
  },
  {
   "cell_type": "markdown",
   "metadata": {},
   "source": [
    "# Tensor Flow Examples"
   ]
  },
  {
   "cell_type": "markdown",
   "metadata": {},
   "source": [
    "```\n",
    "celsius_q    = np.array([-40, -10,  0,  8, 15, 22,  38],  dtype=float)\n",
    "fahrenheit_a = np.array([-40,  14, 32, 46, 59, 72, 100],  dtype=float)\n",
    "l0 = tf.keras.layers.Dense(units=1, input_shape=[1]) \n",
    "model = tf.keras.Sequential([l0])\n",
    "model.compile(loss='mean_squared_error', optimizer=tf.keras.optimizers.Adam(0.1))\n",
    "model.summary()\n",
    "```"
   ]
  },
  {
   "cell_type": "markdown",
   "metadata": {},
   "source": [
    "```\n",
    "tf.keras.utils.plot_model(model, show_shapes=True)\n",
    "```"
   ]
  },
  {
   "cell_type": "markdown",
   "metadata": {},
   "source": [
    "```\n",
    "history = model.fit(celsius_q, fahrenheit_a, epochs=500, verbose=False)\n",
    "model.predict([100.0])\n",
    "```"
   ]
  },
  {
   "cell_type": "code",
   "execution_count": null,
   "metadata": {},
   "outputs": [],
   "source": []
  },
  {
   "cell_type": "markdown",
   "metadata": {},
   "source": [
    "## Transfer Learning"
   ]
  }
 ],
 "metadata": {
  "kernelspec": {
   "display_name": "Python 3",
   "language": "python",
   "name": "python3"
  },
  "language_info": {
   "codemirror_mode": {
    "name": "ipython",
    "version": 3
   },
   "file_extension": ".py",
   "mimetype": "text/x-python",
   "name": "python",
   "nbconvert_exporter": "python",
   "pygments_lexer": "ipython3",
   "version": "3.8.6"
  }
 },
 "nbformat": 4,
 "nbformat_minor": 4
}
