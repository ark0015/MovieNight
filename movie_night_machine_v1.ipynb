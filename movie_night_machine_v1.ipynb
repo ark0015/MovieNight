{
 "cells": [
  {
   "cell_type": "code",
   "execution_count": 1,
   "metadata": {},
   "outputs": [],
   "source": [
    "%load_ext autoreload\n",
    "%autoreload 2"
   ]
  },
  {
   "cell_type": "code",
   "execution_count": 2,
   "metadata": {},
   "outputs": [],
   "source": [
    "import os,sys\n",
    "import numpy as np\n",
    "import matplotlib as mpl\n",
    "import matplotlib.pyplot as plt\n",
    "from cycler import cycler\n",
    "import tensorflow as tf\n",
    "import seaborn as sns\n",
    "import pandas\n",
    "import datetime\n",
    "from imdb import IMDb\n",
    "from mediawikiapi import MediaWikiAPI\n",
    "from tqdm import tqdm"
   ]
  },
  {
   "cell_type": "code",
   "execution_count": 3,
   "metadata": {},
   "outputs": [],
   "source": [
    "color_cycle_wong = ['#000000','#E69F00','#CC79A7','#56B4E9','#009E73','#0072B2','#F0E442','#D55E00']\n",
    "Six_color_cycle = [\"#5790FC\", \"#F89C20\", \"#E42536\", \"#964A8B\", \"#9C9CA1\", \"#7A21DD\"]\n",
    "Eight_color_cycle = [\"#1845FB\", \"#FF5E02\", \"#C91F16\", \"#C849A9\", \"#ADAD7D\", \"#86C8DD\", \"#578DFF\", \"#656364\"]\n",
    "Ten_color_cycle = [\"#3F90DA\", \"#FFA90E\", \"#BD1F01\", \"#94A4A2\", \"#832DB6\", \"#A96B59\", \"#E76300\", \"#B9AC70\", \"#717581\", \"#92DADD\"]\n",
    "mpl.rcParams['axes.prop_cycle'] = cycler(color=Six_color_cycle)"
   ]
  },
  {
   "cell_type": "code",
   "execution_count": 4,
   "metadata": {},
   "outputs": [],
   "source": [
    "interesting_parameters = ['title','genres','year','languages','votes','runtimes','rating']"
   ]
  },
  {
   "cell_type": "code",
   "execution_count": 5,
   "metadata": {
    "scrolled": true
   },
   "outputs": [],
   "source": [
    "save_data_file = './Misc_Files/imdb_movie_selection_v1.npy'\n",
    "loaded_data = np.load(save_data_file,allow_pickle=True)\n",
    "movie_selection_text = pandas.DataFrame(loaded_data,columns=interesting_parameters)"
   ]
  },
  {
   "cell_type": "code",
   "execution_count": 6,
   "metadata": {},
   "outputs": [
    {
     "data": {
      "text/html": [
       "<div>\n",
       "<style scoped>\n",
       "    .dataframe tbody tr th:only-of-type {\n",
       "        vertical-align: middle;\n",
       "    }\n",
       "\n",
       "    .dataframe tbody tr th {\n",
       "        vertical-align: top;\n",
       "    }\n",
       "\n",
       "    .dataframe thead th {\n",
       "        text-align: right;\n",
       "    }\n",
       "</style>\n",
       "<table border=\"1\" class=\"dataframe\">\n",
       "  <thead>\n",
       "    <tr style=\"text-align: right;\">\n",
       "      <th></th>\n",
       "      <th>title</th>\n",
       "      <th>genres</th>\n",
       "      <th>year</th>\n",
       "      <th>languages</th>\n",
       "      <th>votes</th>\n",
       "      <th>runtimes</th>\n",
       "      <th>rating</th>\n",
       "    </tr>\n",
       "  </thead>\n",
       "  <tbody>\n",
       "    <tr>\n",
       "      <th>0</th>\n",
       "      <td>Tuscan Wedding</td>\n",
       "      <td>Comedy</td>\n",
       "      <td>2014</td>\n",
       "      <td>English</td>\n",
       "      <td>1790</td>\n",
       "      <td>104</td>\n",
       "      <td>5.2</td>\n",
       "    </tr>\n",
       "    <tr>\n",
       "      <th>1</th>\n",
       "      <td>The Four of the Apocalypse...</td>\n",
       "      <td>Fantasy</td>\n",
       "      <td>1975</td>\n",
       "      <td>Italian</td>\n",
       "      <td>2485</td>\n",
       "      <td>104</td>\n",
       "      <td>6.4</td>\n",
       "    </tr>\n",
       "    <tr>\n",
       "      <th>2</th>\n",
       "      <td>Knuckleball!</td>\n",
       "      <td>Documentary</td>\n",
       "      <td>2012</td>\n",
       "      <td>English</td>\n",
       "      <td>1686</td>\n",
       "      <td>93</td>\n",
       "      <td>7.1</td>\n",
       "    </tr>\n",
       "    <tr>\n",
       "      <th>3</th>\n",
       "      <td>The Farewell</td>\n",
       "      <td>Comedy</td>\n",
       "      <td>2019</td>\n",
       "      <td>Mandarin</td>\n",
       "      <td>56213</td>\n",
       "      <td>100</td>\n",
       "      <td>7.6</td>\n",
       "    </tr>\n",
       "    <tr>\n",
       "      <th>4</th>\n",
       "      <td>Johnny in the Clouds</td>\n",
       "      <td>Drama</td>\n",
       "      <td>1945</td>\n",
       "      <td>English</td>\n",
       "      <td>1441</td>\n",
       "      <td>109</td>\n",
       "      <td>7.3</td>\n",
       "    </tr>\n",
       "    <tr>\n",
       "      <th>...</th>\n",
       "      <td>...</td>\n",
       "      <td>...</td>\n",
       "      <td>...</td>\n",
       "      <td>...</td>\n",
       "      <td>...</td>\n",
       "      <td>...</td>\n",
       "      <td>...</td>\n",
       "    </tr>\n",
       "    <tr>\n",
       "      <th>5697</th>\n",
       "      <td>Summer Lovers</td>\n",
       "      <td>Comedy</td>\n",
       "      <td>1982</td>\n",
       "      <td>English</td>\n",
       "      <td>3971</td>\n",
       "      <td>98</td>\n",
       "      <td>5.7</td>\n",
       "    </tr>\n",
       "    <tr>\n",
       "      <th>5698</th>\n",
       "      <td>Matchstick Men</td>\n",
       "      <td>Comedy</td>\n",
       "      <td>2003</td>\n",
       "      <td>English</td>\n",
       "      <td>126764</td>\n",
       "      <td>116</td>\n",
       "      <td>7.3</td>\n",
       "    </tr>\n",
       "    <tr>\n",
       "      <th>5699</th>\n",
       "      <td>Sands of Iwo Jima</td>\n",
       "      <td>Action</td>\n",
       "      <td>1949</td>\n",
       "      <td>English</td>\n",
       "      <td>10065</td>\n",
       "      <td>100</td>\n",
       "      <td>7.1</td>\n",
       "    </tr>\n",
       "    <tr>\n",
       "      <th>5700</th>\n",
       "      <td>The Nutcracker</td>\n",
       "      <td>Family</td>\n",
       "      <td>1993</td>\n",
       "      <td>English</td>\n",
       "      <td>1968</td>\n",
       "      <td>92</td>\n",
       "      <td>5.8</td>\n",
       "    </tr>\n",
       "    <tr>\n",
       "      <th>5701</th>\n",
       "      <td>The Cassandra Crossing</td>\n",
       "      <td>Drama</td>\n",
       "      <td>1976</td>\n",
       "      <td>English</td>\n",
       "      <td>8407</td>\n",
       "      <td>129</td>\n",
       "      <td>6.4</td>\n",
       "    </tr>\n",
       "  </tbody>\n",
       "</table>\n",
       "<p>5702 rows × 7 columns</p>\n",
       "</div>"
      ],
      "text/plain": [
       "                              title       genres  year languages   votes  \\\n",
       "0                    Tuscan Wedding       Comedy  2014   English    1790   \n",
       "1     The Four of the Apocalypse...      Fantasy  1975   Italian    2485   \n",
       "2                      Knuckleball!  Documentary  2012   English    1686   \n",
       "3                      The Farewell       Comedy  2019  Mandarin   56213   \n",
       "4              Johnny in the Clouds        Drama  1945   English    1441   \n",
       "...                             ...          ...   ...       ...     ...   \n",
       "5697                  Summer Lovers       Comedy  1982   English    3971   \n",
       "5698                 Matchstick Men       Comedy  2003   English  126764   \n",
       "5699              Sands of Iwo Jima       Action  1949   English   10065   \n",
       "5700                 The Nutcracker       Family  1993   English    1968   \n",
       "5701         The Cassandra Crossing        Drama  1976   English    8407   \n",
       "\n",
       "     runtimes rating  \n",
       "0         104    5.2  \n",
       "1         104    6.4  \n",
       "2          93    7.1  \n",
       "3         100    7.6  \n",
       "4         109    7.3  \n",
       "...       ...    ...  \n",
       "5697       98    5.7  \n",
       "5698      116    7.3  \n",
       "5699      100    7.1  \n",
       "5700       92    5.8  \n",
       "5701      129    6.4  \n",
       "\n",
       "[5702 rows x 7 columns]"
      ]
     },
     "execution_count": 6,
     "metadata": {},
     "output_type": "execute_result"
    }
   ],
   "source": [
    "movie_selection_text"
   ]
  },
  {
   "cell_type": "markdown",
   "metadata": {},
   "source": [
    "### Convert `movie_selection_text` to numerical tensor\n",
    "* Convert strings to floats\n",
    "* Take out non-used column (title)\n",
    "* Take out solution column (rating) and make appropriate shape\n",
    "* Normalize columns\n",
    "* Convert Nx5 matrix to N_groups x 5 x (N_movies/N_groups)"
   ]
  },
  {
   "cell_type": "code",
   "execution_count": 7,
   "metadata": {},
   "outputs": [],
   "source": [
    "def normalize_cols(df):\n",
    "    normed_df = df.copy()\n",
    "    for key in normed_df.keys():\n",
    "        normed_df[key] = normed_df[key]  / normed_df[key].abs().max()\n",
    "    return normed_df"
   ]
  },
  {
   "cell_type": "code",
   "execution_count": 8,
   "metadata": {},
   "outputs": [],
   "source": [
    "genre_map = {genre:float(i) for i,genre in enumerate(movie_selection_text['genres'].value_counts().keys())}\n",
    "language_map = {lang:float(i) for i,lang in enumerate(movie_selection_text['languages'].value_counts().keys())}"
   ]
  },
  {
   "cell_type": "code",
   "execution_count": 9,
   "metadata": {},
   "outputs": [],
   "source": [
    "movie_num_map = movie_selection_text.copy()\n",
    "movie_num_map = movie_num_map.replace(to_replace=genre_map)\n",
    "movie_num_map = movie_num_map.replace(to_replace=language_map)\n",
    "movie_num_map.pop('title')\n",
    "\n",
    "target = movie_num_map.pop('rating')\n",
    "movie_num_map[\"runtimes\"] = pandas.to_numeric(movie_num_map[\"runtimes\"])\n",
    "movie_num_map = normalize_cols(movie_num_map)"
   ]
  },
  {
   "cell_type": "code",
   "execution_count": 10,
   "metadata": {},
   "outputs": [
    {
     "name": "stdout",
     "output_type": "stream",
     "text": [
      "trimmed 2 movies.\n",
      "(5, 1140)\n",
      "(1140,)\n",
      "(1140, 5, 5)\n"
     ]
    }
   ],
   "source": [
    "n_groups = 5\n",
    "trimmed_movies = (np.shape(movie_num_map)[0]%n_groups)\n",
    "movie_num_map = movie_num_map.to_numpy()\n",
    "print(f'trimmed {trimmed_movies} movies.')\n",
    "movie_num_map = movie_num_map[:-trimmed_movies].reshape(-1,n_groups,\n",
    "                                                        np.shape(movie_num_map)[1])\n",
    "target = target.to_numpy()\n",
    "target = target[:-trimmed_movies].reshape(n_groups,-1)\n",
    "winners = np.asarray([np.where(target[:,t]==np.max(target[:,t]))[0][0] for t in range(np.shape(target)[1])]).astype(np.int32)\n",
    "winners = winners.astype(np.int32)\n",
    "print(np.shape(target))\n",
    "print(np.shape(winners))\n",
    "print(np.shape(movie_num_map))\n",
    "#movie_num_map.shape()"
   ]
  },
  {
   "cell_type": "code",
   "execution_count": 11,
   "metadata": {},
   "outputs": [
    {
     "data": {
      "text/plain": [
       "(1140,)"
      ]
     },
     "execution_count": 11,
     "metadata": {},
     "output_type": "execute_result"
    }
   ],
   "source": [
    "winners.shape"
   ]
  },
  {
   "cell_type": "markdown",
   "metadata": {},
   "source": [
    "# TensorFlow Start"
   ]
  },
  {
   "cell_type": "code",
   "execution_count": 12,
   "metadata": {
    "scrolled": true
   },
   "outputs": [],
   "source": [
    "#movie_num_map = tf.convert_to_tensor(movie_num_map)\n",
    "movie_num_map = tf.data.Dataset.from_tensor_slices((movie_num_map, winners))\n",
    "movie_num_map = movie_num_map.shuffle(5000).batch(32)\n",
    "\n",
    "#movie_num_map = movie_num_map.shuffle(5000).batch(10)\n",
    "\n",
    "#movie_num_map[0]"
   ]
  },
  {
   "cell_type": "code",
   "execution_count": 13,
   "metadata": {},
   "outputs": [
    {
     "data": {
      "text/plain": [
       "(TensorSpec(shape=(None, 5, 5), dtype=tf.float64, name=None),\n",
       " TensorSpec(shape=(None,), dtype=tf.int32, name=None))"
      ]
     },
     "execution_count": 13,
     "metadata": {},
     "output_type": "execute_result"
    }
   ],
   "source": [
    "movie_num_map.element_spec"
   ]
  },
  {
   "cell_type": "code",
   "execution_count": 14,
   "metadata": {},
   "outputs": [
    {
     "name": "stdout",
     "output_type": "stream",
     "text": [
      "(32, 5, 5) [4 2 0 0 1 0 0 4 2 1 1 1 3 2 0 0 4 4 1 4 1 0 0 1 2 1 1 0 2 1 2 1]\n",
      "(32, 5, 5) [1 1 2 4 1 2 4 0 0 2 1 2 1 0 4 3 3 2 4 2 0 0 2 0 4 2 1 4 4 3 4 0]\n",
      "(32, 5, 5) [0 2 0 0 4 3 1 2 4 2 1 1 3 1 4 2 1 3 4 4 1 1 2 4 3 1 1 3 1 1 0 1]\n",
      "(32, 5, 5) [4 1 2 0 4 0 4 0 3 1 3 0 0 3 1 0 2 2 3 0 3 0 1 4 0 3 4 0 4 1 2 4]\n",
      "(32, 5, 5) [1 1 0 3 3 1 4 0 4 3 1 2 2 4 2 1 0 2 1 0 2 1 2 3 2 0 3 3 2 3 1 2]\n",
      "(32, 5, 5) [0 1 2 3 0 3 0 0 0 3 1 4 0 4 3 1 4 1 2 4 4 0 0 3 1 2 2 3 2 1 4 0]\n",
      "(32, 5, 5) [3 3 4 3 3 2 2 3 3 1 3 0 1 3 1 3 2 3 2 1 2 2 4 0 3 3 3 0 4 2 2 4]\n",
      "(32, 5, 5) [1 3 0 2 3 3 3 1 4 2 1 1 4 3 1 4 2 3 4 1 3 1 4 4 1 3 2 2 3 0 1 2]\n",
      "(32, 5, 5) [2 1 1 0 2 0 3 2 3 4 2 1 2 4 1 2 0 0 4 3 3 2 3 2 1 4 2 1 2 3 1 4]\n",
      "(32, 5, 5) [2 2 2 2 4 3 4 0 0 1 2 3 3 2 1 2 4 2 1 0 2 2 3 2 3 2 0 4 0 2 3 1]\n",
      "(32, 5, 5) [3 3 2 0 4 1 3 3 1 1 1 2 1 1 0 2 3 3 4 2 3 3 4 4 1 4 2 2 1 3 1 0]\n",
      "(32, 5, 5) [2 0 2 1 2 0 0 4 1 0 2 3 2 0 2 1 0 3 0 3 3 3 1 1 4 0 0 3 0 3 2 3]\n",
      "(32, 5, 5) [1 3 1 0 3 2 4 2 1 2 4 4 4 0 1 3 4 2 4 1 0 3 3 0 4 3 0 0 4 2 0 1]\n",
      "(32, 5, 5) [0 1 1 2 4 3 1 0 4 0 2 0 2 2 0 2 3 1 0 3 0 1 3 0 3 2 2 3 0 2 4 0]\n",
      "(32, 5, 5) [3 3 3 0 0 1 2 0 3 0 0 1 3 2 0 0 2 0 3 3 2 4 2 0 0 3 2 2 2 2 4 3]\n",
      "(32, 5, 5) [2 0 4 1 1 3 3 1 2 4 1 0 1 0 1 3 0 4 1 1 3 4 1 0 2 3 3 4 1 0 2 0]\n",
      "(32, 5, 5) [4 4 1 0 1 2 2 2 1 4 4 4 2 3 3 2 0 4 2 1 2 3 1 2 0 2 2 4 2 4 1 2]\n",
      "(32, 5, 5) [0 3 2 0 0 1 4 4 0 1 1 0 2 0 2 4 0 2 1 1 4 0 0 0 3 1 3 0 1 4 4 2]\n",
      "(32, 5, 5) [4 4 4 2 0 3 2 2 1 4 0 4 1 1 1 0 1 0 4 3 0 0 1 0 3 4 0 2 0 1 4 0]\n",
      "(32, 5, 5) [0 1 3 2 1 1 4 2 1 1 0 3 3 2 2 3 0 1 1 3 3 1 0 2 2 3 3 3 3 4 0 1]\n",
      "(32, 5, 5) [1 3 1 3 0 0 3 4 1 2 3 2 4 1 1 3 3 2 3 3 4 3 2 4 0 2 4 4 1 4 1 1]\n",
      "(32, 5, 5) [2 0 4 1 1 4 1 1 4 4 2 2 4 1 3 0 3 1 3 2 3 2 1 0 2 0 4 3 1 4 3 1]\n",
      "(32, 5, 5) [3 3 0 0 0 2 4 2 1 0 0 3 4 4 3 2 4 1 1 2 2 3 0 4 3 2 3 3 0 2 4 1]\n",
      "(32, 5, 5) [0 2 1 4 2 4 0 4 4 1 0 0 0 2 0 1 0 1 4 1 3 1 1 4 4 0 1 0 1 4 0 3]\n",
      "(32, 5, 5) [0 4 2 1 2 1 0 3 4 0 4 0 3 1 4 1 0 0 1 0 3 1 4 1 0 0 1 3 3 3 2 3]\n",
      "(32, 5, 5) [1 3 4 2 1 3 0 0 0 3 2 0 1 0 3 2 4 1 2 4 0 3 0 1 4 0 2 3 1 4 1 3]\n",
      "(32, 5, 5) [3 0 3 2 1 0 2 2 1 1 2 1 4 1 4 4 1 0 2 2 1 4 3 0 0 2 1 0 3 0 4 3]\n",
      "(32, 5, 5) [0 3 2 4 1 0 2 4 4 4 1 0 4 0 3 3 0 1 1 2 0 3 2 3 1 0 3 0 3 1 0 0]\n",
      "(32, 5, 5) [4 0 2 1 1 3 4 3 3 0 1 3 3 2 2 0 0 1 0 2 4 1 1 1 0 0 2 0 0 4 3 1]\n",
      "(32, 5, 5) [3 2 3 3 4 0 1 1 4 3 2 1 0 0 1 3 0 4 0 1 0 1 4 4 1 1 0 0 4 2 1 3]\n",
      "(32, 5, 5) [1 0 0 1 3 2 0 1 2 3 2 3 4 0 4 1 0 2 2 4 2 3 2 2 3 1 2 3 3 4 0 4]\n",
      "(32, 5, 5) [3 4 2 1 2 0 3 0 1 2 4 1 3 0 0 1 4 1 1 2 2 3 1 1 0 4 0 3 0 2 0 2]\n",
      "(32, 5, 5) [3 1 1 0 2 3 3 3 2 4 4 1 2 1 2 1 1 3 0 4 0 0 2 1 2 1 3 3 4 2 0 0]\n",
      "(32, 5, 5) [0 0 4 0 0 2 1 3 3 0 1 4 4 0 0 4 0 4 4 0 2 3 4 4 3 1 3 2 1 2 2 0]\n",
      "(32, 5, 5) [2 1 3 2 4 0 0 1 2 0 3 1 1 2 0 3 3 0 1 1 1 4 0 3 0 1 0 1 0 3 4 0]\n",
      "(20, 5, 5) [3 4 0 4 0 2 1 3 3 4 1 1 1 1 0 2 1 3 3 3]\n"
     ]
    }
   ],
   "source": [
    "for asdf in movie_num_map.as_numpy_iterator():\n",
    "    print(np.shape(asdf[0]),asdf[1])"
   ]
  },
  {
   "cell_type": "code",
   "execution_count": null,
   "metadata": {},
   "outputs": [],
   "source": []
  },
  {
   "cell_type": "code",
   "execution_count": 15,
   "metadata": {},
   "outputs": [
    {
     "ename": "KeyboardInterrupt",
     "evalue": "",
     "output_type": "error",
     "traceback": [
      "\u001b[0;31m---------------------------------------------------------------------------\u001b[0m",
      "\u001b[0;31mKeyboardInterrupt\u001b[0m                         Traceback (most recent call last)",
      "\u001b[0;32m<ipython-input-15-0380073f8c37>\u001b[0m in \u001b[0;36m<module>\u001b[0;34m\u001b[0m\n\u001b[1;32m      3\u001b[0m                              \u001b[0mtf\u001b[0m\u001b[0;34m.\u001b[0m\u001b[0mkeras\u001b[0m\u001b[0;34m.\u001b[0m\u001b[0mlayers\u001b[0m\u001b[0;34m.\u001b[0m\u001b[0mDense\u001b[0m\u001b[0;34m(\u001b[0m\u001b[0;36m50\u001b[0m\u001b[0;34m)\u001b[0m\u001b[0;34m,\u001b[0m\u001b[0;34m\u001b[0m\u001b[0;34m\u001b[0m\u001b[0m\n\u001b[1;32m      4\u001b[0m                              tf.keras.layers.Dense(10)])\n\u001b[0;32m----> 5\u001b[0;31m model.compile(optimizer='adam',\n\u001b[0m\u001b[1;32m      6\u001b[0m               \u001b[0mloss\u001b[0m\u001b[0;34m=\u001b[0m\u001b[0mtf\u001b[0m\u001b[0;34m.\u001b[0m\u001b[0mkeras\u001b[0m\u001b[0;34m.\u001b[0m\u001b[0mlosses\u001b[0m\u001b[0;34m.\u001b[0m\u001b[0mSparseCategoricalCrossentropy\u001b[0m\u001b[0;34m(\u001b[0m\u001b[0mfrom_logits\u001b[0m\u001b[0;34m=\u001b[0m\u001b[0;32mTrue\u001b[0m\u001b[0;34m)\u001b[0m\u001b[0;34m,\u001b[0m\u001b[0;34m\u001b[0m\u001b[0;34m\u001b[0m\u001b[0m\n\u001b[1;32m      7\u001b[0m               metrics=['accuracy'])\n",
      "\u001b[0;32m~/anaconda3/envs/movienight/lib/python3.8/site-packages/keras/utils/traceback_utils.py\u001b[0m in \u001b[0;36merror_handler\u001b[0;34m(*args, **kwargs)\u001b[0m\n\u001b[1;32m     63\u001b[0m         \u001b[0mfiltered_tb\u001b[0m \u001b[0;34m=\u001b[0m \u001b[0;32mNone\u001b[0m\u001b[0;34m\u001b[0m\u001b[0;34m\u001b[0m\u001b[0m\n\u001b[1;32m     64\u001b[0m         \u001b[0;32mtry\u001b[0m\u001b[0;34m:\u001b[0m\u001b[0;34m\u001b[0m\u001b[0;34m\u001b[0m\u001b[0m\n\u001b[0;32m---> 65\u001b[0;31m             \u001b[0;32mreturn\u001b[0m \u001b[0mfn\u001b[0m\u001b[0;34m(\u001b[0m\u001b[0;34m*\u001b[0m\u001b[0margs\u001b[0m\u001b[0;34m,\u001b[0m \u001b[0;34m**\u001b[0m\u001b[0mkwargs\u001b[0m\u001b[0;34m)\u001b[0m\u001b[0;34m\u001b[0m\u001b[0;34m\u001b[0m\u001b[0m\n\u001b[0m\u001b[1;32m     66\u001b[0m         \u001b[0;32mexcept\u001b[0m \u001b[0mException\u001b[0m \u001b[0;32mas\u001b[0m \u001b[0me\u001b[0m\u001b[0;34m:\u001b[0m\u001b[0;34m\u001b[0m\u001b[0;34m\u001b[0m\u001b[0m\n\u001b[1;32m     67\u001b[0m             \u001b[0mfiltered_tb\u001b[0m \u001b[0;34m=\u001b[0m \u001b[0m_process_traceback_frames\u001b[0m\u001b[0;34m(\u001b[0m\u001b[0me\u001b[0m\u001b[0;34m.\u001b[0m\u001b[0m__traceback__\u001b[0m\u001b[0;34m)\u001b[0m\u001b[0;34m\u001b[0m\u001b[0;34m\u001b[0m\u001b[0m\n",
      "\u001b[0;32m~/anaconda3/envs/movienight/lib/python3.8/site-packages/keras/engine/training.py\u001b[0m in \u001b[0;36mcompile\u001b[0;34m(self, optimizer, loss, metrics, loss_weights, weighted_metrics, run_eagerly, steps_per_execution, jit_compile, **kwargs)\u001b[0m\n\u001b[1;32m    736\u001b[0m                 \u001b[0mself\u001b[0m\u001b[0;34m.\u001b[0m\u001b[0mcompiled_loss\u001b[0m \u001b[0;34m=\u001b[0m \u001b[0mloss\u001b[0m\u001b[0;34m\u001b[0m\u001b[0;34m\u001b[0m\u001b[0m\n\u001b[1;32m    737\u001b[0m             \u001b[0;32melse\u001b[0m\u001b[0;34m:\u001b[0m\u001b[0;34m\u001b[0m\u001b[0;34m\u001b[0m\u001b[0m\n\u001b[0;32m--> 738\u001b[0;31m                 self.compiled_loss = compile_utils.LossesContainer(\n\u001b[0m\u001b[1;32m    739\u001b[0m                     \u001b[0mloss\u001b[0m\u001b[0;34m,\u001b[0m \u001b[0mloss_weights\u001b[0m\u001b[0;34m,\u001b[0m \u001b[0moutput_names\u001b[0m\u001b[0;34m=\u001b[0m\u001b[0mself\u001b[0m\u001b[0;34m.\u001b[0m\u001b[0moutput_names\u001b[0m\u001b[0;34m\u001b[0m\u001b[0;34m\u001b[0m\u001b[0m\n\u001b[1;32m    740\u001b[0m                 )\n",
      "\u001b[0;32m~/anaconda3/envs/movienight/lib/python3.8/site-packages/keras/engine/training.py\u001b[0m in \u001b[0;36m__setattr__\u001b[0;34m(self, name, value)\u001b[0m\n\u001b[1;32m    356\u001b[0m                 )\n\u001b[1;32m    357\u001b[0m \u001b[0;34m\u001b[0m\u001b[0m\n\u001b[0;32m--> 358\u001b[0;31m         \u001b[0msuper\u001b[0m\u001b[0;34m(\u001b[0m\u001b[0;34m)\u001b[0m\u001b[0;34m.\u001b[0m\u001b[0m__setattr__\u001b[0m\u001b[0;34m(\u001b[0m\u001b[0mname\u001b[0m\u001b[0;34m,\u001b[0m \u001b[0mvalue\u001b[0m\u001b[0;34m)\u001b[0m\u001b[0;34m\u001b[0m\u001b[0;34m\u001b[0m\u001b[0m\n\u001b[0m\u001b[1;32m    359\u001b[0m \u001b[0;34m\u001b[0m\u001b[0m\n\u001b[1;32m    360\u001b[0m     \u001b[0;32mdef\u001b[0m \u001b[0m__reduce__\u001b[0m\u001b[0;34m(\u001b[0m\u001b[0mself\u001b[0m\u001b[0;34m)\u001b[0m\u001b[0;34m:\u001b[0m\u001b[0;34m\u001b[0m\u001b[0;34m\u001b[0m\u001b[0m\n",
      "\u001b[0;32m~/anaconda3/envs/movienight/lib/python3.8/site-packages/keras/engine/base_layer.py\u001b[0m in \u001b[0;36m__setattr__\u001b[0;34m(self, name, value)\u001b[0m\n\u001b[1;32m   3208\u001b[0m         \u001b[0;31m# Keep track of metric instance created in subclassed layer.\u001b[0m\u001b[0;34m\u001b[0m\u001b[0;34m\u001b[0m\u001b[0;34m\u001b[0m\u001b[0m\n\u001b[1;32m   3209\u001b[0m         \u001b[0;32mfor\u001b[0m \u001b[0mval\u001b[0m \u001b[0;32min\u001b[0m \u001b[0mtf\u001b[0m\u001b[0;34m.\u001b[0m\u001b[0mnest\u001b[0m\u001b[0;34m.\u001b[0m\u001b[0mflatten\u001b[0m\u001b[0;34m(\u001b[0m\u001b[0mvalue\u001b[0m\u001b[0;34m)\u001b[0m\u001b[0;34m:\u001b[0m\u001b[0;34m\u001b[0m\u001b[0;34m\u001b[0m\u001b[0m\n\u001b[0;32m-> 3210\u001b[0;31m             if isinstance(val, metrics_mod.Metric) and hasattr(\n\u001b[0m\u001b[1;32m   3211\u001b[0m                 \u001b[0mself\u001b[0m\u001b[0;34m,\u001b[0m \u001b[0;34m\"_metrics\"\u001b[0m\u001b[0;34m\u001b[0m\u001b[0;34m\u001b[0m\u001b[0m\n\u001b[1;32m   3212\u001b[0m             ):\n",
      "\u001b[0;32m~/anaconda3/envs/movienight/lib/python3.8/abc.py\u001b[0m in \u001b[0;36m__instancecheck__\u001b[0;34m(cls, instance)\u001b[0m\n\u001b[1;32m     96\u001b[0m         \u001b[0;32mdef\u001b[0m \u001b[0m__instancecheck__\u001b[0m\u001b[0;34m(\u001b[0m\u001b[0mcls\u001b[0m\u001b[0;34m,\u001b[0m \u001b[0minstance\u001b[0m\u001b[0;34m)\u001b[0m\u001b[0;34m:\u001b[0m\u001b[0;34m\u001b[0m\u001b[0;34m\u001b[0m\u001b[0m\n\u001b[1;32m     97\u001b[0m             \u001b[0;34m\"\"\"Override for isinstance(instance, cls).\"\"\"\u001b[0m\u001b[0;34m\u001b[0m\u001b[0;34m\u001b[0m\u001b[0m\n\u001b[0;32m---> 98\u001b[0;31m             \u001b[0;32mreturn\u001b[0m \u001b[0m_abc_instancecheck\u001b[0m\u001b[0;34m(\u001b[0m\u001b[0mcls\u001b[0m\u001b[0;34m,\u001b[0m \u001b[0minstance\u001b[0m\u001b[0;34m)\u001b[0m\u001b[0;34m\u001b[0m\u001b[0;34m\u001b[0m\u001b[0m\n\u001b[0m\u001b[1;32m     99\u001b[0m \u001b[0;34m\u001b[0m\u001b[0m\n\u001b[1;32m    100\u001b[0m         \u001b[0;32mdef\u001b[0m \u001b[0m__subclasscheck__\u001b[0m\u001b[0;34m(\u001b[0m\u001b[0mcls\u001b[0m\u001b[0;34m,\u001b[0m \u001b[0msubclass\u001b[0m\u001b[0;34m)\u001b[0m\u001b[0;34m:\u001b[0m\u001b[0;34m\u001b[0m\u001b[0;34m\u001b[0m\u001b[0m\n",
      "\u001b[0;32m~/anaconda3/envs/movienight/lib/python3.8/abc.py\u001b[0m in \u001b[0;36m__subclasscheck__\u001b[0;34m(cls, subclass)\u001b[0m\n\u001b[1;32m    100\u001b[0m         \u001b[0;32mdef\u001b[0m \u001b[0m__subclasscheck__\u001b[0m\u001b[0;34m(\u001b[0m\u001b[0mcls\u001b[0m\u001b[0;34m,\u001b[0m \u001b[0msubclass\u001b[0m\u001b[0;34m)\u001b[0m\u001b[0;34m:\u001b[0m\u001b[0;34m\u001b[0m\u001b[0;34m\u001b[0m\u001b[0m\n\u001b[1;32m    101\u001b[0m             \u001b[0;34m\"\"\"Override for issubclass(subclass, cls).\"\"\"\u001b[0m\u001b[0;34m\u001b[0m\u001b[0;34m\u001b[0m\u001b[0m\n\u001b[0;32m--> 102\u001b[0;31m             \u001b[0;32mreturn\u001b[0m \u001b[0m_abc_subclasscheck\u001b[0m\u001b[0;34m(\u001b[0m\u001b[0mcls\u001b[0m\u001b[0;34m,\u001b[0m \u001b[0msubclass\u001b[0m\u001b[0;34m)\u001b[0m\u001b[0;34m\u001b[0m\u001b[0;34m\u001b[0m\u001b[0m\n\u001b[0m\u001b[1;32m    103\u001b[0m \u001b[0;34m\u001b[0m\u001b[0m\n\u001b[1;32m    104\u001b[0m         \u001b[0;32mdef\u001b[0m \u001b[0m_dump_registry\u001b[0m\u001b[0;34m(\u001b[0m\u001b[0mcls\u001b[0m\u001b[0;34m,\u001b[0m \u001b[0mfile\u001b[0m\u001b[0;34m=\u001b[0m\u001b[0;32mNone\u001b[0m\u001b[0;34m)\u001b[0m\u001b[0;34m:\u001b[0m\u001b[0;34m\u001b[0m\u001b[0;34m\u001b[0m\u001b[0m\n",
      "\u001b[0;32m~/anaconda3/envs/movienight/lib/python3.8/abc.py\u001b[0m in \u001b[0;36m__subclasscheck__\u001b[0;34m(cls, subclass)\u001b[0m\n\u001b[1;32m    100\u001b[0m         \u001b[0;32mdef\u001b[0m \u001b[0m__subclasscheck__\u001b[0m\u001b[0;34m(\u001b[0m\u001b[0mcls\u001b[0m\u001b[0;34m,\u001b[0m \u001b[0msubclass\u001b[0m\u001b[0;34m)\u001b[0m\u001b[0;34m:\u001b[0m\u001b[0;34m\u001b[0m\u001b[0;34m\u001b[0m\u001b[0m\n\u001b[1;32m    101\u001b[0m             \u001b[0;34m\"\"\"Override for issubclass(subclass, cls).\"\"\"\u001b[0m\u001b[0;34m\u001b[0m\u001b[0;34m\u001b[0m\u001b[0m\n\u001b[0;32m--> 102\u001b[0;31m             \u001b[0;32mreturn\u001b[0m \u001b[0m_abc_subclasscheck\u001b[0m\u001b[0;34m(\u001b[0m\u001b[0mcls\u001b[0m\u001b[0;34m,\u001b[0m \u001b[0msubclass\u001b[0m\u001b[0;34m)\u001b[0m\u001b[0;34m\u001b[0m\u001b[0;34m\u001b[0m\u001b[0m\n\u001b[0m\u001b[1;32m    103\u001b[0m \u001b[0;34m\u001b[0m\u001b[0m\n\u001b[1;32m    104\u001b[0m         \u001b[0;32mdef\u001b[0m \u001b[0m_dump_registry\u001b[0m\u001b[0;34m(\u001b[0m\u001b[0mcls\u001b[0m\u001b[0;34m,\u001b[0m \u001b[0mfile\u001b[0m\u001b[0;34m=\u001b[0m\u001b[0;32mNone\u001b[0m\u001b[0;34m)\u001b[0m\u001b[0;34m:\u001b[0m\u001b[0;34m\u001b[0m\u001b[0;34m\u001b[0m\u001b[0m\n",
      "\u001b[0;32m~/anaconda3/envs/movienight/lib/python3.8/abc.py\u001b[0m in \u001b[0;36m__subclasscheck__\u001b[0;34m(cls, subclass)\u001b[0m\n\u001b[1;32m    100\u001b[0m         \u001b[0;32mdef\u001b[0m \u001b[0m__subclasscheck__\u001b[0m\u001b[0;34m(\u001b[0m\u001b[0mcls\u001b[0m\u001b[0;34m,\u001b[0m \u001b[0msubclass\u001b[0m\u001b[0;34m)\u001b[0m\u001b[0;34m:\u001b[0m\u001b[0;34m\u001b[0m\u001b[0;34m\u001b[0m\u001b[0m\n\u001b[1;32m    101\u001b[0m             \u001b[0;34m\"\"\"Override for issubclass(subclass, cls).\"\"\"\u001b[0m\u001b[0;34m\u001b[0m\u001b[0;34m\u001b[0m\u001b[0m\n\u001b[0;32m--> 102\u001b[0;31m             \u001b[0;32mreturn\u001b[0m \u001b[0m_abc_subclasscheck\u001b[0m\u001b[0;34m(\u001b[0m\u001b[0mcls\u001b[0m\u001b[0;34m,\u001b[0m \u001b[0msubclass\u001b[0m\u001b[0;34m)\u001b[0m\u001b[0;34m\u001b[0m\u001b[0;34m\u001b[0m\u001b[0m\n\u001b[0m\u001b[1;32m    103\u001b[0m \u001b[0;34m\u001b[0m\u001b[0m\n\u001b[1;32m    104\u001b[0m         \u001b[0;32mdef\u001b[0m \u001b[0m_dump_registry\u001b[0m\u001b[0;34m(\u001b[0m\u001b[0mcls\u001b[0m\u001b[0;34m,\u001b[0m \u001b[0mfile\u001b[0m\u001b[0;34m=\u001b[0m\u001b[0;32mNone\u001b[0m\u001b[0;34m)\u001b[0m\u001b[0;34m:\u001b[0m\u001b[0;34m\u001b[0m\u001b[0;34m\u001b[0m\u001b[0m\n",
      "\u001b[0;32m~/anaconda3/envs/movienight/lib/python3.8/abc.py\u001b[0m in \u001b[0;36m__subclasscheck__\u001b[0;34m(cls, subclass)\u001b[0m\n\u001b[1;32m    100\u001b[0m         \u001b[0;32mdef\u001b[0m \u001b[0m__subclasscheck__\u001b[0m\u001b[0;34m(\u001b[0m\u001b[0mcls\u001b[0m\u001b[0;34m,\u001b[0m \u001b[0msubclass\u001b[0m\u001b[0;34m)\u001b[0m\u001b[0;34m:\u001b[0m\u001b[0;34m\u001b[0m\u001b[0;34m\u001b[0m\u001b[0m\n\u001b[1;32m    101\u001b[0m             \u001b[0;34m\"\"\"Override for issubclass(subclass, cls).\"\"\"\u001b[0m\u001b[0;34m\u001b[0m\u001b[0;34m\u001b[0m\u001b[0m\n\u001b[0;32m--> 102\u001b[0;31m             \u001b[0;32mreturn\u001b[0m \u001b[0m_abc_subclasscheck\u001b[0m\u001b[0;34m(\u001b[0m\u001b[0mcls\u001b[0m\u001b[0;34m,\u001b[0m \u001b[0msubclass\u001b[0m\u001b[0;34m)\u001b[0m\u001b[0;34m\u001b[0m\u001b[0;34m\u001b[0m\u001b[0m\n\u001b[0m\u001b[1;32m    103\u001b[0m \u001b[0;34m\u001b[0m\u001b[0m\n\u001b[1;32m    104\u001b[0m         \u001b[0;32mdef\u001b[0m \u001b[0m_dump_registry\u001b[0m\u001b[0;34m(\u001b[0m\u001b[0mcls\u001b[0m\u001b[0;34m,\u001b[0m \u001b[0mfile\u001b[0m\u001b[0;34m=\u001b[0m\u001b[0;32mNone\u001b[0m\u001b[0;34m)\u001b[0m\u001b[0;34m:\u001b[0m\u001b[0;34m\u001b[0m\u001b[0;34m\u001b[0m\u001b[0m\n",
      "\u001b[0;32m~/anaconda3/envs/movienight/lib/python3.8/abc.py\u001b[0m in \u001b[0;36m__subclasscheck__\u001b[0;34m(cls, subclass)\u001b[0m\n\u001b[1;32m     98\u001b[0m             \u001b[0;32mreturn\u001b[0m \u001b[0m_abc_instancecheck\u001b[0m\u001b[0;34m(\u001b[0m\u001b[0mcls\u001b[0m\u001b[0;34m,\u001b[0m \u001b[0minstance\u001b[0m\u001b[0;34m)\u001b[0m\u001b[0;34m\u001b[0m\u001b[0;34m\u001b[0m\u001b[0m\n\u001b[1;32m     99\u001b[0m \u001b[0;34m\u001b[0m\u001b[0m\n\u001b[0;32m--> 100\u001b[0;31m         \u001b[0;32mdef\u001b[0m \u001b[0m__subclasscheck__\u001b[0m\u001b[0;34m(\u001b[0m\u001b[0mcls\u001b[0m\u001b[0;34m,\u001b[0m \u001b[0msubclass\u001b[0m\u001b[0;34m)\u001b[0m\u001b[0;34m:\u001b[0m\u001b[0;34m\u001b[0m\u001b[0;34m\u001b[0m\u001b[0m\n\u001b[0m\u001b[1;32m    101\u001b[0m             \u001b[0;34m\"\"\"Override for issubclass(subclass, cls).\"\"\"\u001b[0m\u001b[0;34m\u001b[0m\u001b[0;34m\u001b[0m\u001b[0m\n\u001b[1;32m    102\u001b[0m             \u001b[0;32mreturn\u001b[0m \u001b[0m_abc_subclasscheck\u001b[0m\u001b[0;34m(\u001b[0m\u001b[0mcls\u001b[0m\u001b[0;34m,\u001b[0m \u001b[0msubclass\u001b[0m\u001b[0;34m)\u001b[0m\u001b[0;34m\u001b[0m\u001b[0;34m\u001b[0m\u001b[0m\n",
      "\u001b[0;31mKeyboardInterrupt\u001b[0m: "
     ]
    }
   ],
   "source": [
    "model = tf.keras.Sequential([tf.keras.layers.Flatten(),\n",
    "                             tf.keras.layers.Dense(128),\n",
    "                             tf.keras.layers.Dense(50),\n",
    "                             tf.keras.layers.Dense(10)])\n",
    "model.compile(optimizer='adam',\n",
    "              loss=tf.keras.losses.SparseCategoricalCrossentropy(from_logits=True),\n",
    "              metrics=['accuracy'])\n",
    "#model.fit(movie_num_map.repeat(), epochs=2, steps_per_epoch=20)\n",
    "history = model.fit(movie_num_map.repeat(), epochs=100, verbose=True, steps_per_epoch=20)\n",
    "model.summary()"
   ]
  },
  {
   "cell_type": "code",
   "execution_count": null,
   "metadata": {},
   "outputs": [],
   "source": [
    "model = tf.keras.Sequential([tf.keras.layers.Flatten(input_shape=(10,5,1),\n",
    "                             #tf.keras.layers.Dense(10, activation='relu'),\n",
    "                             tf.keras.layers.Dense(10, activation = tf.keras.activations.softmax)])\n",
    "model = tf.keras.Sequential([tf.keras.layers.Flatten(input_shape=(28, 28, 1)),\n",
    "                             tf.keras.layers.Dense(128, activation=tf.nn.relu),\n",
    "                             tf.keras.layers.Dense(10, activation=tf.nn.softmax)\n",
    "                            ])\n",
    "model.compile(optimizer='adam',\n",
    "              loss=tf.keras.losses.SparseCategoricalCrossentropy(from_logits=True),\n",
    "              metrics=['accuracy'])\n",
    "model.summary()"
   ]
  },
  {
   "cell_type": "code",
   "execution_count": null,
   "metadata": {},
   "outputs": [],
   "source": [
    "#BATCH_SIZE = 32\n",
    "#train_dataset = train_dataset.cache().repeat().shuffle(num_train_examples).batch(BATCH_SIZE)\n",
    "#test_dataset = test_dataset.cache().batch(BATCH_SIZE)\n",
    "#model.fit(train_dataset, epochs=5, steps_per_epoch=math.ceil(num_train_examples/BATCH_SIZE))\n",
    "history = model.fit(movie_num_map, epochs=100, verbose=True)"
   ]
  },
  {
   "cell_type": "markdown",
   "metadata": {},
   "source": [
    "# Tensor Flow Examples"
   ]
  },
  {
   "cell_type": "markdown",
   "metadata": {},
   "source": [
    "```\n",
    "celsius_q    = np.array([-40, -10,  0,  8, 15, 22,  38],  dtype=float)\n",
    "fahrenheit_a = np.array([-40,  14, 32, 46, 59, 72, 100],  dtype=float)\n",
    "l0 = tf.keras.layers.Dense(units=1, input_shape=[1]) \n",
    "model = tf.keras.Sequential([l0])\n",
    "model.compile(loss='mean_squared_error', optimizer=tf.keras.optimizers.Adam(0.1))\n",
    "model.summary()\n",
    "```"
   ]
  },
  {
   "cell_type": "markdown",
   "metadata": {},
   "source": [
    "```\n",
    "tf.keras.utils.plot_model(model, show_shapes=True)\n",
    "```"
   ]
  },
  {
   "cell_type": "markdown",
   "metadata": {},
   "source": [
    "```\n",
    "history = model.fit(celsius_q, fahrenheit_a, epochs=500, verbose=False)\n",
    "model.predict([100.0])\n",
    "```"
   ]
  },
  {
   "cell_type": "code",
   "execution_count": null,
   "metadata": {},
   "outputs": [],
   "source": []
  },
  {
   "cell_type": "markdown",
   "metadata": {},
   "source": [
    "## Transfer Learning"
   ]
  }
 ],
 "metadata": {
  "kernelspec": {
   "display_name": "Python 3",
   "language": "python",
   "name": "python3"
  },
  "language_info": {
   "codemirror_mode": {
    "name": "ipython",
    "version": 3
   },
   "file_extension": ".py",
   "mimetype": "text/x-python",
   "name": "python",
   "nbconvert_exporter": "python",
   "pygments_lexer": "ipython3",
   "version": "3.8.12"
  }
 },
 "nbformat": 4,
 "nbformat_minor": 4
}
